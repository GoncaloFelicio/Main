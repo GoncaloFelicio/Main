{
 "cells": [
  {
   "cell_type": "markdown",
   "id": "65b4a88c-0c49-49b8-b63b-22999506ea30",
   "metadata": {},
   "source": [
    "# Code wars challenges "
   ]
  },
  {
   "cell_type": "code",
   "execution_count": 34,
   "id": "55341861-d19c-4016-8928-dfedafc9516c",
   "metadata": {},
   "outputs": [],
   "source": [
    "def get_count(sentence):\n",
    "    newstring = ''.join(sentence.split())\n",
    "    count = 0\n",
    "    for char in newstring:\n",
    "        if char == 'a' or char == 'e' or char == 'i' or char == 'o' or char == 'u':\n",
    "            count += 1\n",
    "    return count"
   ]
  },
  {
   "cell_type": "code",
   "execution_count": 38,
   "id": "6ad26dcb-ef10-4b5d-87f8-c43aa20b2a8a",
   "metadata": {},
   "outputs": [],
   "source": [
    "test = 'this is a test string'\n",
    "# result should be 5"
   ]
  },
  {
   "cell_type": "code",
   "execution_count": 39,
   "id": "2da766cc-fdfc-4129-9628-f2494d47d959",
   "metadata": {},
   "outputs": [
    {
     "data": {
      "text/plain": [
       "5"
      ]
     },
     "execution_count": 39,
     "metadata": {},
     "output_type": "execute_result"
    }
   ],
   "source": [
    "get_count(test)"
   ]
  },
  {
   "cell_type": "code",
   "execution_count": null,
   "id": "f59a2394-8c49-48b6-9f6a-3038e24af4cd",
   "metadata": {},
   "outputs": [],
   "source": [
    "def disemvowel(string_):\n",
    "    vowelsdict = {'a':'', 'e':'', 'i':'', 'o':'', 'u':'',\n",
    "                 'A':'', 'E':'', 'I':'', 'O':'', 'U':'',}\n",
    "    translateTable = string_.maketrans(vowelsdict)\n",
    "    return string_.translate(translateTable)"
   ]
  },
  {
   "cell_type": "markdown",
   "id": "db7efa6b-5fb3-40a0-a95c-567304cd15ce",
   "metadata": {},
   "source": [
    "### Square every digit in a number"
   ]
  },
  {
   "cell_type": "code",
   "execution_count": 48,
   "id": "cadb127c-da60-46aa-90a0-1d94fe474d94",
   "metadata": {},
   "outputs": [
    {
     "data": {
      "text/plain": [
       "['9', '1', '1', '9']"
      ]
     },
     "execution_count": 48,
     "metadata": {},
     "output_type": "execute_result"
    }
   ],
   "source": [
    "num  = 9119\n",
    "list1 = list(str(num))\n",
    "list1"
   ]
  },
  {
   "cell_type": "code",
   "execution_count": 59,
   "id": "4c55ceda-57b0-403a-aa8a-81dd71cbd48b",
   "metadata": {},
   "outputs": [
    {
     "data": {
      "text/plain": [
       "['81', '1', '1', '81']"
      ]
     },
     "execution_count": 59,
     "metadata": {},
     "output_type": "execute_result"
    }
   ],
   "source": [
    "nlist=[]\n",
    "for num in list1:\n",
    "    squareDigit = int(num)**2\n",
    "    nlist.append(str(squareDigit))\n",
    "\n",
    "nlist\n",
    "    "
   ]
  },
  {
   "cell_type": "code",
   "execution_count": 55,
   "id": "ccd47b4c-1460-4484-82c3-3b367844929b",
   "metadata": {},
   "outputs": [
    {
     "data": {
      "text/plain": [
       "811181"
      ]
     },
     "execution_count": 55,
     "metadata": {},
     "output_type": "execute_result"
    }
   ],
   "source": [
    "for num in nlist:\n",
    "    ''.join(num)"
   ]
  },
  {
   "cell_type": "markdown",
   "id": "a0608466-76a8-48a1-a073-35915fbcc73a",
   "metadata": {},
   "source": [
    "### Sum of multiples of 3 and 5 lower than x"
   ]
  },
  {
   "cell_type": "code",
   "execution_count": 1,
   "id": "cdedac63-7486-41e5-be9c-c615d15745a2",
   "metadata": {},
   "outputs": [],
   "source": [
    "num = 10"
   ]
  },
  {
   "cell_type": "code",
   "execution_count": 2,
   "id": "2bb66196-04c9-4aec-afaa-655a40090bb8",
   "metadata": {},
   "outputs": [
    {
     "data": {
      "text/plain": [
       "[0, 3, 5, 6, 9]"
      ]
     },
     "execution_count": 2,
     "metadata": {},
     "output_type": "execute_result"
    }
   ],
   "source": [
    "[x for x in range(num) if x % 3 == 0 or x % 5 == 0]"
   ]
  },
  {
   "cell_type": "code",
   "execution_count": 3,
   "id": "2455e108-9c4e-4360-a127-818168f7f997",
   "metadata": {},
   "outputs": [
    {
     "data": {
      "text/plain": [
       "[0, 1, 2, 3, 4, 5, 6, 7, 8, 9]"
      ]
     },
     "execution_count": 3,
     "metadata": {},
     "output_type": "execute_result"
    }
   ],
   "source": [
    "num = 10\n",
    "a =list(range(10))\n",
    "a"
   ]
  },
  {
   "cell_type": "code",
   "execution_count": 12,
   "id": "beb3e77b-a5cc-404a-8028-3553a8f015b7",
   "metadata": {},
   "outputs": [
    {
     "data": {
      "text/plain": [
       "True"
      ]
     },
     "execution_count": 12,
     "metadata": {},
     "output_type": "execute_result"
    }
   ],
   "source": [
    "bool([0,1,2,3])"
   ]
  },
  {
   "cell_type": "code",
   "execution_count": 5,
   "id": "e8800366-87ce-4490-8f8b-175d099f9e04",
   "metadata": {},
   "outputs": [],
   "source": [
    "def numfunc(num):\n",
    "    listOfNum = [x for x in range(num) if x % 3 == 0 or x % 5 == 0]\n",
    "    if listOfNum:\n",
    "        return sum(listOfNum[1:])\n",
    "    else:\n",
    "        return 0"
   ]
  },
  {
   "cell_type": "code",
   "execution_count": 6,
   "id": "88002c2f-ca4d-4299-933e-02dc2a044799",
   "metadata": {},
   "outputs": [
    {
     "data": {
      "text/plain": [
       "23"
      ]
     },
     "execution_count": 6,
     "metadata": {},
     "output_type": "execute_result"
    }
   ],
   "source": [
    "numfunc(10)"
   ]
  },
  {
   "cell_type": "code",
   "execution_count": 7,
   "id": "4c002729-490d-44be-9d61-d6b632744ac2",
   "metadata": {},
   "outputs": [
    {
     "data": {
      "text/plain": [
       "0"
      ]
     },
     "execution_count": 7,
     "metadata": {},
     "output_type": "execute_result"
    }
   ],
   "source": [
    "numfunc(-10)"
   ]
  },
  {
   "cell_type": "markdown",
   "id": "634fe8d4-e4a6-4654-8ddc-d4a20fc4404f",
   "metadata": {},
   "source": [
    "### Create a phone number from list of numbers"
   ]
  },
  {
   "cell_type": "code",
   "execution_count": 48,
   "id": "098dbcd7-018f-43d8-962f-6875788b05d6",
   "metadata": {},
   "outputs": [],
   "source": [
    "phone_list = [1,2,3,4,5,6,7,8,9,0,]"
   ]
  },
  {
   "cell_type": "code",
   "execution_count": 44,
   "id": "84ff288a-b1c9-4513-a727-a31a56f119ef",
   "metadata": {},
   "outputs": [
    {
     "name": "stdout",
     "output_type": "stream",
     "text": [
      "([1, 2, 3]) [4, 5, 6]-[7, 8, 9, 0]\n"
     ]
    }
   ],
   "source": [
    "print(f'({phone_list[0:3]}) {phone_list[3:6]}-{phone_list[6:]}')"
   ]
  },
  {
   "cell_type": "code",
   "execution_count": 56,
   "id": "085e47d8-da06-4e68-b594-d52944042f81",
   "metadata": {},
   "outputs": [
    {
     "data": {
      "text/plain": [
       "['1', '2', '3', '4', '5', '6', '7', '8', '9', '0']"
      ]
     },
     "execution_count": 56,
     "metadata": {},
     "output_type": "execute_result"
    }
   ],
   "source": [
    "[''.join(str(num)) for num in phone_list]"
   ]
  },
  {
   "cell_type": "markdown",
   "id": "ac22bc5e-638e-4187-9bcc-a3442677d748",
   "metadata": {},
   "source": [
    "OR"
   ]
  },
  {
   "cell_type": "code",
   "execution_count": 63,
   "id": "1e31816e-4f88-45aa-b2e8-aa5e5b53aeba",
   "metadata": {},
   "outputs": [
    {
     "data": {
      "text/plain": [
       "['1', '2', '3', '4', '5', '6', '7', '8', '9', '0']"
      ]
     },
     "execution_count": 63,
     "metadata": {},
     "output_type": "execute_result"
    }
   ],
   "source": [
    "list_string = list(map(str ,phone_list))\n",
    "list_string"
   ]
  },
  {
   "cell_type": "code",
   "execution_count": 64,
   "id": "c878a4d1-661d-41df-a36e-fc15f2f75a9b",
   "metadata": {},
   "outputs": [
    {
     "data": {
      "text/plain": [
       "'1234567890'"
      ]
     },
     "execution_count": 64,
     "metadata": {},
     "output_type": "execute_result"
    }
   ],
   "source": [
    "''.join(list(list_string))"
   ]
  },
  {
   "cell_type": "code",
   "execution_count": 65,
   "id": "f4de67b2-206a-4e5d-8f3b-e4009c767733",
   "metadata": {},
   "outputs": [
    {
     "data": {
      "text/plain": [
       "'123'"
      ]
     },
     "execution_count": 65,
     "metadata": {},
     "output_type": "execute_result"
    }
   ],
   "source": [
    "''.join(list(list_string)[0:3])"
   ]
  },
  {
   "cell_type": "code",
   "execution_count": 66,
   "id": "cd05861c-bc40-4488-8ec4-ffa0be93164d",
   "metadata": {},
   "outputs": [],
   "source": [
    "def create_phone_number(n):\n",
    "    string_list = list(map(str, n))\n",
    "    first_part = ''.join(string_list[0:3])\n",
    "    second_part = ''.join(string_list[3:6])\n",
    "    third_part = ''.join(string_list[6:])\n",
    "    print(f'({first_part}) {second_part}-{third_part}')"
   ]
  },
  {
   "cell_type": "code",
   "execution_count": 67,
   "id": "23e5cd8d-9eda-4c8c-b566-39acae86f528",
   "metadata": {},
   "outputs": [
    {
     "name": "stdout",
     "output_type": "stream",
     "text": [
      "(123) 456-7890\n"
     ]
    }
   ],
   "source": [
    "n = [1,2,3,4,5,6,7,8,9,0,]\n",
    "create_phone_number(n)"
   ]
  },
  {
   "cell_type": "markdown",
   "id": "1ab2d8df-20e7-4071-8cd2-227ed586f015",
   "metadata": {},
   "source": [
    "### Who Likes it?"
   ]
  },
  {
   "cell_type": "code",
   "execution_count": 69,
   "id": "edc46a7c-dc6f-48f0-bb94-0e5053fb8c1f",
   "metadata": {},
   "outputs": [],
   "source": [
    "list_of_names = ['alex','jacob','Mia']"
   ]
  },
  {
   "cell_type": "code",
   "execution_count": 77,
   "id": "58edfbad-75ec-4b00-b91e-39a3f0c21df2",
   "metadata": {},
   "outputs": [
    {
     "data": {
      "text/plain": [
       "3"
      ]
     },
     "execution_count": 77,
     "metadata": {},
     "output_type": "execute_result"
    }
   ],
   "source": [
    "len(list_of_names)"
   ]
  },
  {
   "cell_type": "markdown",
   "id": "5c24401b-b08f-4a06-b07c-9c0e36c1dcf8",
   "metadata": {},
   "source": [
    "Finished in browser"
   ]
  },
  {
   "cell_type": "markdown",
   "id": "206ce100-2d40-4f74-9ba0-ff71c7d1c724",
   "metadata": {},
   "source": [
    "### Snail Ordering"
   ]
  },
  {
   "cell_type": "code",
   "execution_count": 31,
   "id": "006fd583-73d7-454f-b5eb-df5f9a9b641b",
   "metadata": {},
   "outputs": [],
   "source": [
    "data = [[1, 2, 3, 4],\n",
    "        [12, 13, 14, 5],\n",
    "        [11, 16, 15, 6],\n",
    "        [10, 9, 8, 7]]\n",
    "\n",
    "data2 = [[1, 2, 3],\n",
    "        [4, 5, 6],\n",
    "        [7, 8, 9]]\n",
    "\n",
    "expected = [1, 2, 3, 4, 5, 6, 7, 8, 9, 10, 11, 12, 13, 14, 15, 16]\n",
    "expected2 = [1, 2, 3, 6, 9, 8, 7, 4, 5]\n"
   ]
  },
  {
   "cell_type": "code",
   "execution_count": 8,
   "id": "5d2b5cdc-0cfe-4ce2-91db-5b5a61cb57a5",
   "metadata": {},
   "outputs": [
    {
     "name": "stdout",
     "output_type": "stream",
     "text": [
      "[5]\n",
      "[5, 6]\n",
      "[5, 6, 5, 14, 13, 12]\n",
      "[]\n"
     ]
    }
   ],
   "source": [
    "unit_test = [[12, 13, 14, 5],\n",
    "            [11, 16, 15, 6],\n",
    "            [10, 9, 8, 7]]\n",
    "\n",
    "len(unit_test)\n",
    "\n",
    "test=[]\n",
    "for row in unit_test:\n",
    "    test += [row[-1]]\n",
    "    print(test)\n",
    "    del [unit_test[-1]]\n",
    "    \n",
    "if unit_test[-1]:\n",
    "    test += unit_test[-1][::-1]\n",
    "    print(test)\n",
    "    del unit_test[-1]\n",
    "\n",
    "print(unit_test)"
   ]
  },
  {
   "cell_type": "code",
   "execution_count": 11,
   "id": "08029358-863f-4481-8422-c1c01f3e27b9",
   "metadata": {},
   "outputs": [
    {
     "data": {
      "text/plain": [
       "[7, 8, 9, 10]"
      ]
     },
     "execution_count": 11,
     "metadata": {},
     "output_type": "execute_result"
    }
   ],
   "source": [
    "unit_test[-1][::-1]"
   ]
  },
  {
   "cell_type": "code",
   "execution_count": 27,
   "id": "1640f9a4-d6c4-44f0-8d8b-59112b9ed91c",
   "metadata": {},
   "outputs": [
    {
     "data": {
      "text/plain": [
       "[1, 2, 3, 4, 5, 6, 7, 8, 9, 10, 11, 12, 13, 14, 15, 16]"
      ]
     },
     "execution_count": 27,
     "metadata": {},
     "output_type": "execute_result"
    }
   ],
   "source": [
    "unit_test = [[1, 2, 3, 4],\n",
    "        [12, 13, 14, 5],\n",
    "        [11, 16, 15, 6],\n",
    "        [10, 9, 8, 7]]\n",
    "\n",
    "\n",
    "def SuperSnail(unit_test):\n",
    "    result = []\n",
    "    while len(unit_test) > 0: # go right\n",
    "        result += unit_test[0]\n",
    "        del unit_test[0]\n",
    "        #print(result)\n",
    "        #print(unit_test)\n",
    "\n",
    "        if len(unit_test) > 0: # go down\n",
    "            for row in unit_test:\n",
    "                result += [row[-1]]\n",
    "                del [row[-1]]\n",
    "                #print(result)\n",
    "                #print(unit_test)\n",
    "\n",
    "            if unit_test[-1]: # go left\n",
    "                result += unit_test[-1][::-1]\n",
    "                del unit_test[-1]\n",
    "                #print(result)\n",
    "                #print(unit_test)\n",
    "\n",
    "            for row in reversed(unit_test): # go up\n",
    "                result += [row[0]]\n",
    "                del row[0]\n",
    "                #print(result)\n",
    "                #print(unit_test)\n",
    "\n",
    "    return result\n",
    "result"
   ]
  },
  {
   "cell_type": "code",
   "execution_count": 32,
   "id": "a3234fdc-43db-4a0e-9a52-4c7df03131fd",
   "metadata": {},
   "outputs": [
    {
     "data": {
      "text/plain": [
       "[1, 2, 3, 4, 5, 6, 7, 8, 9, 10, 11, 12, 13, 14, 15, 16]"
      ]
     },
     "execution_count": 32,
     "metadata": {},
     "output_type": "execute_result"
    }
   ],
   "source": [
    "SuperSnail(unit_test)"
   ]
  },
  {
   "cell_type": "markdown",
   "id": "79316a5e-7a6e-46ae-8685-2657849c487f",
   "metadata": {},
   "source": [
    "### Human readable duration format"
   ]
  },
  {
   "cell_type": "code",
   "execution_count": 39,
   "id": "5d669ff7-d647-40c3-8dc0-bf1001b89edd",
   "metadata": {},
   "outputs": [],
   "source": [
    "data = 62 # seconds\n",
    "expected = '1 minute and 2 seconds'\n",
    "\n",
    "data2 = 3662\n",
    "expected2 = '1 hour, 1 minute and 2 seconds'\n"
   ]
  },
  {
   "cell_type": "code",
   "execution_count": 198,
   "id": "5bcbecf2-14b2-46d1-87b1-22b8c6190496",
   "metadata": {},
   "outputs": [],
   "source": [
    "def formatduration(seconds):\n",
    "    \n",
    "    DD, Drem = seconds // (24 * 3600), (seconds / (24 *3600)) % 1\n",
    "    HH, Hrem =  int(DD * 24), ( Drem * 24) % 1\n",
    "    MM, Mrem = int(Hrem * 60), (Hrem * 60) % 1\n",
    "    SS = round(Mrem * 60)\n",
    "    \n",
    "    return '{dayVal}{pluralD}{hourVal}{pluralH}{minuteVal}{pluralM}{secondVal}{pluralS}'.format(dayVal = str(DD)+' day' if DD > 0 else '',\n",
    "                                                                                                pluralD = 's' if DD > 1 else '',\n",
    "                                                                                                hourVal = ' '+str(HH)+' hour' if HH > 0 else '',\n",
    "                                                                                                pluralH = 's' if HH > 1 else '',\n",
    "                                                                                                minuteVal = ' '+str(int(MM))+' minute' if MM > 0 else '',\n",
    "                                                                                                pluralM = 's' if MM > 1 else '',\n",
    "                                                                                                secondVal = ' '+str(SS) + ' second'if SS > 0 else '',\n",
    "                                                                                                pluralS = 's' if SS > 1 else '')"
   ]
  },
  {
   "cell_type": "code",
   "execution_count": 153,
   "id": "032f845a-178f-4845-8203-4a6a8ee88bcb",
   "metadata": {},
   "outputs": [
    {
     "data": {
      "text/plain": [
       "(1, 0.033333333333333215)"
      ]
     },
     "execution_count": 153,
     "metadata": {},
     "output_type": "execute_result"
    }
   ],
   "source": [
    "seconds = 62\n",
    "HH, Hrem = seconds // 3600, seconds / 3600 % 1\n",
    "MM, Mrem = int(Hrem * 60), (Hrem * 60) % 1\n",
    "MM,Mrem"
   ]
  },
  {
   "cell_type": "code",
   "execution_count": 35,
   "id": "c72ee90c-d2ec-4f33-a06d-57cf92e17efa",
   "metadata": {},
   "outputs": [
    {
     "data": {
      "text/plain": [
       "2"
      ]
     },
     "execution_count": 35,
     "metadata": {},
     "output_type": "execute_result"
    }
   ],
   "source": [
    "SS = round(Mrem * 60)\n",
    "SS"
   ]
  },
  {
   "cell_type": "code",
   "execution_count": 202,
   "id": "86d23fef-a0ee-4d45-b28a-f6bb303091fd",
   "metadata": {},
   "outputs": [
    {
     "data": {
      "text/plain": [
       "'3472 days 83328 hours 19 minutes 60 seconds'"
      ]
     },
     "execution_count": 202,
     "metadata": {},
     "output_type": "execute_result"
    }
   ],
   "source": [
    "seconds = 300000000\n",
    "\n",
    "formatduration(seconds)"
   ]
  },
  {
   "cell_type": "code",
   "execution_count": 201,
   "id": "bd89ee3e-fe8d-4770-b7f5-77051d07a5af",
   "metadata": {},
   "outputs": [
    {
     "name": "stdout",
     "output_type": "stream",
     "text": [
      "31536000 year\n",
      "['9 years']\n",
      "86400 day\n",
      "['9 years', '187 days']\n",
      "3600 hour\n",
      "['9 years', '187 days', '5 hours']\n",
      "60 minute\n",
      "['9 years', '187 days', '5 hours', '20 minutes']\n",
      "1 second\n"
     ]
    },
    {
     "data": {
      "text/plain": [
       "'9 years, 187 days, 5 hours and 20 minutes'"
      ]
     },
     "execution_count": 201,
     "metadata": {},
     "output_type": "execute_result"
    }
   ],
   "source": [
    "seconds = 300000000\n",
    "\n",
    "format_duration(seconds)"
   ]
  },
  {
   "cell_type": "markdown",
   "id": "f6001d93-2810-4eac-87eb-1dc99ee3a185",
   "metadata": {},
   "source": [
    "Other from git  \n",
    "The way this one works is it looks at total seconds and checks if they are greater than number of seconds in: 1 year, 1 day, 1 hour, 1 minute, and 1 second through a for loop. If it is greater, then calculates number of respective time and adds to a list, before adding, runs a pluralize function to plural the time or not. Finnally, it subtracts the time in seconds it just added to the list, and continues the loop, until reaching the degree of second.\n",
    "\n",
    "Last is a super compact f string that adds the list of numbers and words"
   ]
  },
  {
   "cell_type": "code",
   "execution_count": 199,
   "id": "103300e8-31f5-4889-914d-c83cc2be3472",
   "metadata": {},
   "outputs": [],
   "source": [
    "def pluralize(n, word):\n",
    "    if n == 1:\n",
    "        return '{} {}'.format(n, word)\n",
    "        \n",
    "    return '{} {}s'.format(n, word)\n",
    "        \n",
    "def format_duration(seconds):\n",
    "    if seconds == 0:\n",
    "        return \"now\"\n",
    "    \n",
    "    ONE_MINUTE = 60\n",
    "    ONE_HOUR = 60 * ONE_MINUTE\n",
    "    ONE_DAY = 24 * ONE_HOUR\n",
    "    ONE_YEAR = 365 * ONE_DAY\n",
    "    \n",
    "    units = (\n",
    "        (ONE_YEAR, 'year'),\n",
    "        (ONE_DAY, 'day'),\n",
    "        (ONE_HOUR, 'hour'),\n",
    "        (ONE_MINUTE, 'minute'),\n",
    "        (1, 'second'),\n",
    "    )\n",
    "        \n",
    "    r = []\n",
    "    for unit in units:\n",
    "        time_period, word = unit\n",
    "        print(time_period, word)\n",
    "        if seconds >= time_period:\n",
    "            n = int(seconds / time_period)\n",
    "            r.append(pluralize(n, word))\n",
    "            print(r)\n",
    "            seconds -= n * time_period\n",
    "    \n",
    "    return ' and'.join(', '.join(r).rsplit(',', 1))"
   ]
  },
  {
   "cell_type": "code",
   "execution_count": 203,
   "id": "350d4451-2411-4b9e-b6e6-dc1aabc150c7",
   "metadata": {},
   "outputs": [],
   "source": [
    "r = ['9 years', '187 days', '5 hours', '20 minutes']"
   ]
  },
  {
   "cell_type": "markdown",
   "id": "52c16cad-e4a8-4561-9b36-de1f5b0fdd35",
   "metadata": {},
   "source": [
    "joins all elements in list with `', '` then separates last element by the `','` just added"
   ]
  },
  {
   "cell_type": "code",
   "execution_count": 204,
   "id": "375b828b-e8f1-43bf-8075-3da0c4569d8d",
   "metadata": {},
   "outputs": [
    {
     "data": {
      "text/plain": [
       "['9 years, 187 days, 5 hours', ' 20 minutes']"
      ]
     },
     "execution_count": 204,
     "metadata": {},
     "output_type": "execute_result"
    }
   ],
   "source": [
    "a =', '.join(r).rsplit(',',1)\n",
    "a"
   ]
  },
  {
   "cell_type": "markdown",
   "id": "651313c2-6a1e-402b-b7d0-4cd32132ce04",
   "metadata": {},
   "source": [
    "Joins the last element with an `' and'`"
   ]
  },
  {
   "cell_type": "code",
   "execution_count": 205,
   "id": "1984404a-e2ab-495a-8d1b-004eeabd5227",
   "metadata": {},
   "outputs": [
    {
     "data": {
      "text/plain": [
       "'9 years, 187 days, 5 hours and 20 minutes'"
      ]
     },
     "execution_count": 205,
     "metadata": {},
     "output_type": "execute_result"
    }
   ],
   "source": [
    "' and'.join(a)"
   ]
  },
  {
   "cell_type": "code",
   "execution_count": 200,
   "id": "c4423818-ac79-4c99-9c97-fc0992af7d00",
   "metadata": {},
   "outputs": [
    {
     "name": "stdout",
     "output_type": "stream",
     "text": [
      "31536000 year\n",
      "86400 day\n",
      "3600 hour\n",
      "60 minute\n",
      "['2 minutes']\n",
      "1 second\n",
      "['2 minutes', '1 second']\n"
     ]
    },
    {
     "data": {
      "text/plain": [
       "'2 minutes and 1 second'"
      ]
     },
     "execution_count": 200,
     "metadata": {},
     "output_type": "execute_result"
    }
   ],
   "source": [
    "seconds = 121\n",
    "\n",
    "format_duration(seconds)"
   ]
  },
  {
   "cell_type": "markdown",
   "id": "5b3dd325-0cac-4c09-bb83-0483d2c54631",
   "metadata": {},
   "source": [
    "#### Lessons learned: \n",
    "If code is repeating more than once/twice, make a generic function like for `pluralize` situation that solves it.  \n",
    "If we have several variables that operate on, make a list of them and iterate over. Also good to then print with join.  \n",
    "Don't get stuck in a single method/function and try to force it to work. Make an overall requirements list, and try to see how several options/functions might go about it. Here got stuck on the `.format()` method, even though it was not even needed. "
   ]
  },
  {
   "cell_type": "markdown",
   "id": "e4e1d9dc-45cf-41df-aabb-a9a2238c78f8",
   "metadata": {},
   "source": [
    "### Sudoku validator"
   ]
  },
  {
   "cell_type": "markdown",
   "id": "f2535b0b-58b6-4290-abbb-76a88d07b1e7",
   "metadata": {},
   "source": [
    "Must not contain any '0'.  \n",
    "Each row and column must have all the digits from 1 to 9."
   ]
  },
  {
   "cell_type": "code",
   "execution_count": 284,
   "id": "102334ea-e877-490d-801d-0c812c186a81",
   "metadata": {},
   "outputs": [],
   "source": [
    "data = [\n",
    "  [5, 3, 4, 6, 7, 8, 9, 1, 2],\n",
    "  [6, 7, 2, 1, 9, 5, 3, 4, 8],\n",
    "  [1, 9, 8, 3, 4, 2, 5, 6, 7],\n",
    "  [8, 5, 9, 7, 6, 1, 4, 2, 3],\n",
    "  [4, 2, 6, 8, 5, 3, 7, 9, 1],\n",
    "  [7, 1, 3, 9, 2, 4, 8, 5, 6],\n",
    "  [9, 6, 1, 5, 3, 7, 2, 8, 4],\n",
    "  [2, 8, 7, 4, 1, 9, 6, 3, 5],\n",
    "  [3, 4, 5, 2, 8, 6, 1, 7, 9]\n",
    "]\n",
    "\n",
    "expected = True\n",
    "\n",
    "data2 = [\n",
    "  [5, 3, 4, 6, 7, 8, 9, 1, 2], \n",
    "  [6, 7, 2, 1, 9, 0, 3, 4, 8],\n",
    "  [1, 0, 0, 3, 4, 2, 5, 6, 0],\n",
    "  [8, 5, 9, 7, 6, 1, 0, 2, 0],\n",
    "  [4, 2, 6, 8, 5, 3, 7, 9, 1],\n",
    "  [7, 1, 3, 9, 2, 4, 8, 5, 6],\n",
    "  [9, 0, 1, 5, 3, 7, 2, 1, 4],\n",
    "  [2, 8, 7, 4, 1, 9, 6, 3, 5],\n",
    "  [3, 0, 0, 4, 8, 1, 1, 7, 9]\n",
    "]\n",
    "\n",
    "expected2 = False"
   ]
  },
  {
   "cell_type": "code",
   "execution_count": 236,
   "id": "d4e04ca0-73e3-4f24-b288-6f26d770cdb0",
   "metadata": {},
   "outputs": [
    {
     "data": {
      "text/plain": [
       "1"
      ]
     },
     "execution_count": 236,
     "metadata": {},
     "output_type": "execute_result"
    }
   ],
   "source": [
    "data2[1].count(0)"
   ]
  },
  {
   "cell_type": "code",
   "execution_count": 249,
   "id": "120d0b87-86a2-4d86-97d2-29c76a569c2c",
   "metadata": {},
   "outputs": [
    {
     "data": {
      "text/plain": [
       "False"
      ]
     },
     "execution_count": 249,
     "metadata": {},
     "output_type": "execute_result"
    }
   ],
   "source": [
    "data_set = set(data2[-1])\n",
    "\n",
    "len(data_set)==len(data2[-1])"
   ]
  },
  {
   "cell_type": "code",
   "execution_count": 250,
   "id": "f63479b6-5314-442d-84ed-b30e643ef23b",
   "metadata": {},
   "outputs": [
    {
     "name": "stdout",
     "output_type": "stream",
     "text": [
      "[5, 3, 4, 6, 7, 8, 9, 1, 2]\n",
      "True\n",
      "[6, 7, 2, 1, 9, 0, 3, 4, 8]\n",
      "False\n",
      "[1, 0, 0, 3, 4, 2, 5, 6, 0]\n",
      "False\n",
      "[8, 5, 9, 7, 6, 1, 0, 2, 0]\n",
      "False\n",
      "[4, 2, 6, 8, 5, 3, 7, 9, 1]\n",
      "True\n",
      "[7, 1, 3, 9, 2, 4, 8, 5, 6]\n",
      "True\n",
      "[9, 0, 1, 5, 3, 7, 2, 1, 4]\n",
      "False\n",
      "[2, 8, 7, 4, 1, 9, 6, 3, 5]\n",
      "True\n",
      "[3, 0, 0, 4, 8, 1, 1, 7, 9]\n",
      "False\n"
     ]
    }
   ],
   "source": [
    "# check for 0's\n",
    "\n",
    "for num in data2:\n",
    "    print(num)\n",
    "    if 0 in num:\n",
    "        print (False)\n",
    "    else:\n",
    "        print (True)"
   ]
  },
  {
   "cell_type": "code",
   "execution_count": 251,
   "id": "08e1c455-3c2f-4e1c-8177-5210ad6d7c28",
   "metadata": {},
   "outputs": [
    {
     "name": "stdout",
     "output_type": "stream",
     "text": [
      "[5, 3, 4, 6, 7, 8, 9, 1, 2]\n",
      "True\n",
      "[6, 7, 2, 1, 9, 0, 3, 4, 8]\n",
      "True\n",
      "[1, 0, 0, 3, 4, 2, 5, 6, 0]\n",
      "False\n",
      "[8, 5, 9, 7, 6, 1, 0, 2, 0]\n",
      "False\n",
      "[4, 2, 6, 8, 5, 3, 7, 9, 1]\n",
      "True\n",
      "[7, 1, 3, 9, 2, 4, 8, 5, 6]\n",
      "True\n",
      "[9, 0, 1, 5, 3, 7, 2, 1, 4]\n",
      "False\n",
      "[2, 8, 7, 4, 1, 9, 6, 3, 5]\n",
      "True\n",
      "[3, 0, 0, 4, 8, 1, 1, 7, 9]\n",
      "False\n"
     ]
    }
   ],
   "source": [
    "# Check rows for duplicates\n",
    "for row in data2:\n",
    "    print(row)\n",
    "    print( len(row) == len(set(row)))"
   ]
  },
  {
   "cell_type": "code",
   "execution_count": 281,
   "id": "499342b3-44b0-4529-b86e-06e0762a09d6",
   "metadata": {},
   "outputs": [
    {
     "data": {
      "text/plain": [
       "[(5, 6, 1, 8, 4, 7, 9, 2, 3),\n",
       " (3, 7, 0, 5, 2, 1, 0, 8, 0),\n",
       " (4, 2, 0, 9, 6, 3, 1, 7, 0),\n",
       " (6, 1, 3, 7, 8, 9, 5, 4, 4),\n",
       " (7, 9, 4, 6, 5, 2, 3, 1, 8),\n",
       " (8, 0, 2, 1, 3, 4, 7, 9, 1),\n",
       " (9, 3, 5, 0, 7, 8, 2, 6, 1),\n",
       " (1, 4, 6, 2, 9, 5, 1, 3, 7),\n",
       " (2, 8, 0, 0, 1, 6, 4, 5, 9)]"
      ]
     },
     "execution_count": 281,
     "metadata": {},
     "output_type": "execute_result"
    }
   ],
   "source": [
    "# transpose the list of lists with zip \n",
    "\n",
    "data2_T =list(zip(*data2))\n",
    "data2_T"
   ]
  },
  {
   "cell_type": "code",
   "execution_count": 276,
   "id": "7845ecb3-a433-4439-b5f6-2348e7f7f603",
   "metadata": {},
   "outputs": [
    {
     "name": "stdout",
     "output_type": "stream",
     "text": [
      "(5, 6, 1, 8, 4, 7, 9, 2, 3)\n",
      "True\n",
      "(3, 7, 0, 5, 2, 1, 0, 8, 0)\n",
      "False\n",
      "(4, 2, 0, 9, 6, 3, 1, 7, 0)\n",
      "False\n",
      "(6, 1, 3, 7, 8, 9, 5, 4, 4)\n",
      "False\n",
      "(7, 9, 4, 6, 5, 2, 3, 1, 8)\n",
      "True\n",
      "(8, 0, 2, 1, 3, 4, 7, 9, 1)\n",
      "False\n",
      "(9, 3, 5, 0, 7, 8, 2, 6, 1)\n",
      "True\n",
      "(1, 4, 6, 2, 9, 5, 1, 3, 7)\n",
      "False\n",
      "(2, 8, 0, 0, 1, 6, 4, 5, 9)\n",
      "False\n"
     ]
    }
   ],
   "source": [
    "# check columns for duplicates\n",
    "for col in data2_T:\n",
    "    print(col)\n",
    "    print( len(col) == len(set(col)))"
   ]
  },
  {
   "cell_type": "code",
   "execution_count": 334,
   "id": "a36839f1-4977-4954-bddb-d6c079b42200",
   "metadata": {},
   "outputs": [
    {
     "data": {
      "text/plain": [
       "[]"
      ]
     },
     "execution_count": 334,
     "metadata": {},
     "output_type": "execute_result"
    }
   ],
   "source": [
    "# compress to a comprehension\n",
    "check_zeros = [True for num in data if 0 in num]\n",
    "check_zeros"
   ]
  },
  {
   "cell_type": "code",
   "execution_count": 335,
   "id": "d038b3e1-cedc-44be-8a5d-9826f020bfc8",
   "metadata": {},
   "outputs": [
    {
     "data": {
      "text/plain": [
       "True"
      ]
     },
     "execution_count": 335,
     "metadata": {},
     "output_type": "execute_result"
    }
   ],
   "source": [
    "not any(check_zeros)"
   ]
  },
  {
   "cell_type": "code",
   "execution_count": 319,
   "id": "ef1455ac-4b1f-4788-8b34-995ad8d0fe08",
   "metadata": {},
   "outputs": [
    {
     "data": {
      "text/plain": [
       "[True, True, True, True, True, True, True, True, True]"
      ]
     },
     "execution_count": 319,
     "metadata": {},
     "output_type": "execute_result"
    }
   ],
   "source": [
    "check_row_dupes = [len(row) == len(set(row)) for row in data]\n",
    "check_row_dupes"
   ]
  },
  {
   "cell_type": "code",
   "execution_count": 320,
   "id": "18f0a5e5-7002-4d7a-9b6f-3f269c37192a",
   "metadata": {},
   "outputs": [
    {
     "data": {
      "text/plain": [
       "True"
      ]
     },
     "execution_count": 320,
     "metadata": {},
     "output_type": "execute_result"
    }
   ],
   "source": [
    "all(check_row_dupes)"
   ]
  },
  {
   "cell_type": "code",
   "execution_count": 333,
   "id": "9ee4a268-4238-4789-b0cd-2cd27cc8d5fe",
   "metadata": {},
   "outputs": [
    {
     "data": {
      "text/plain": [
       "[True, True, True, True, True, True, True, True, True]"
      ]
     },
     "execution_count": 333,
     "metadata": {},
     "output_type": "execute_result"
    }
   ],
   "source": [
    "data2_T =list(zip(*data))\n",
    "check_col_dupes = [len(col) == len(set(col)) for col in data2_T]\n",
    "check_col_dupes"
   ]
  },
  {
   "cell_type": "code",
   "execution_count": 332,
   "id": "943b2799-6b1f-4b16-9084-1b2ec3114449",
   "metadata": {},
   "outputs": [
    {
     "data": {
      "text/plain": [
       "False"
      ]
     },
     "execution_count": 332,
     "metadata": {},
     "output_type": "execute_result"
    }
   ],
   "source": [
    "True and False and True"
   ]
  },
  {
   "cell_type": "code",
   "execution_count": 328,
   "id": "e6303637-addd-404b-b9b8-2e38b944c109",
   "metadata": {},
   "outputs": [],
   "source": [
    "def valid_solution(board):\n",
    "    # transpose board\n",
    "    board_T =list(zip(*board))\n",
    "    \n",
    "    check_zeros = [True for row in board if 0 in row]\n",
    "        \n",
    "    check_row_dupes = [len(row) == len(set(row)) for row in board]\n",
    "    \n",
    "    check_col_dupes = [len(col) == len(set(col)) for col in board_T]\n",
    "    \n",
    "    return not any(check_zeros) and all(check_row_dupes) and all(check_col_dupes)"
   ]
  },
  {
   "cell_type": "code",
   "execution_count": 329,
   "id": "59b7c2c4-e94e-40df-9dd2-7d933e580308",
   "metadata": {},
   "outputs": [
    {
     "data": {
      "text/plain": [
       "True"
      ]
     },
     "execution_count": 329,
     "metadata": {},
     "output_type": "execute_result"
    }
   ],
   "source": [
    "valid_solution(data)"
   ]
  },
  {
   "cell_type": "code",
   "execution_count": 330,
   "id": "f53bb483-b23c-4eda-9efc-10498511c6cb",
   "metadata": {},
   "outputs": [
    {
     "data": {
      "text/plain": [
       "False"
      ]
     },
     "execution_count": 330,
     "metadata": {},
     "output_type": "execute_result"
    }
   ],
   "source": [
    "valid_solution(data2)"
   ]
  },
  {
   "cell_type": "markdown",
   "id": "92f2cf06-6e18-4c4b-ae41-d71c080c70ad",
   "metadata": {},
   "source": [
    "### Count vowels in sentence"
   ]
  },
  {
   "cell_type": "code",
   "execution_count": 34,
   "id": "31b52687-436c-416b-889a-5d8b029c1883",
   "metadata": {},
   "outputs": [],
   "source": [
    "def get_count(sentence):\n",
    "    newstring = ''.join(sentence.split())\n",
    "    count = 0\n",
    "    for char in newstring:\n",
    "        if char == 'a' or char == 'e' or char == 'i' or char == 'o' or char == 'u':\n",
    "            count += 1\n",
    "    return count"
   ]
  },
  {
   "cell_type": "code",
   "execution_count": 38,
   "id": "268a7816-5294-4350-9e1d-165ca08d846e",
   "metadata": {},
   "outputs": [],
   "source": [
    "test = 'this is a test string'\n",
    "# result should be 5"
   ]
  },
  {
   "cell_type": "code",
   "execution_count": 39,
   "id": "7b3fd74b-537e-4331-8275-89d6ebe8cb28",
   "metadata": {},
   "outputs": [
    {
     "data": {
      "text/plain": [
       "5"
      ]
     },
     "execution_count": 39,
     "metadata": {},
     "output_type": "execute_result"
    }
   ],
   "source": [
    "get_count(test)"
   ]
  },
  {
   "cell_type": "code",
   "execution_count": null,
   "id": "912d2427-8bac-45ff-a0bd-91f6b85dcfc5",
   "metadata": {},
   "outputs": [],
   "source": [
    "def disemvowel(string_):\n",
    "    vowelsdict = {'a':'', 'e':'', 'i':'', 'o':'', 'u':'',\n",
    "                 'A':'', 'E':'', 'I':'', 'O':'', 'U':'',}\n",
    "    translateTable = string_.maketrans(vowelsdict)\n",
    "    return string_.translate(translateTable)"
   ]
  },
  {
   "cell_type": "markdown",
   "id": "26f2022c-37da-4992-8831-90e244391413",
   "metadata": {},
   "source": [
    "### Square every digit in a number"
   ]
  },
  {
   "cell_type": "code",
   "execution_count": 48,
   "id": "061445e6-e2d5-4783-8e38-2056d66231c1",
   "metadata": {},
   "outputs": [
    {
     "data": {
      "text/plain": [
       "['9', '1', '1', '9']"
      ]
     },
     "execution_count": 48,
     "metadata": {},
     "output_type": "execute_result"
    }
   ],
   "source": [
    "num  = 9119\n",
    "list1 = list(str(num))\n",
    "list1"
   ]
  },
  {
   "cell_type": "code",
   "execution_count": 59,
   "id": "4516c45c-57e1-4109-8973-6cb493b17b05",
   "metadata": {},
   "outputs": [
    {
     "data": {
      "text/plain": [
       "['81', '1', '1', '81']"
      ]
     },
     "execution_count": 59,
     "metadata": {},
     "output_type": "execute_result"
    }
   ],
   "source": [
    "nlist=[]\n",
    "for num in list1:\n",
    "    squareDigit = int(num)**2\n",
    "    nlist.append(str(squareDigit))\n",
    "\n",
    "nlist\n",
    "    "
   ]
  },
  {
   "cell_type": "code",
   "execution_count": 55,
   "id": "1a46f666-ad0d-4bd0-950e-786b44650f12",
   "metadata": {},
   "outputs": [
    {
     "data": {
      "text/plain": [
       "811181"
      ]
     },
     "execution_count": 55,
     "metadata": {},
     "output_type": "execute_result"
    }
   ],
   "source": [
    "for num in nlist:\n",
    "    ''.join(num)"
   ]
  },
  {
   "cell_type": "markdown",
   "id": "99388e19-1199-42bb-8efb-37c9c986d15f",
   "metadata": {},
   "source": [
    "### Sum of multiples of 3 and 5 lower than x"
   ]
  },
  {
   "cell_type": "code",
   "execution_count": 1,
   "id": "9c192e1a-b709-4b0b-b6b5-485cb3116ea0",
   "metadata": {},
   "outputs": [],
   "source": [
    "num = 10"
   ]
  },
  {
   "cell_type": "code",
   "execution_count": 2,
   "id": "e2764a33-2a2d-4640-be44-fb6db6420826",
   "metadata": {},
   "outputs": [
    {
     "data": {
      "text/plain": [
       "[0, 3, 5, 6, 9]"
      ]
     },
     "execution_count": 2,
     "metadata": {},
     "output_type": "execute_result"
    }
   ],
   "source": [
    "[x for x in range(num) if x % 3 == 0 or x % 5 == 0]"
   ]
  },
  {
   "cell_type": "code",
   "execution_count": 3,
   "id": "bf8cba0b-9e31-4e87-92ca-65cae1ffe2ff",
   "metadata": {},
   "outputs": [
    {
     "data": {
      "text/plain": [
       "[0, 1, 2, 3, 4, 5, 6, 7, 8, 9]"
      ]
     },
     "execution_count": 3,
     "metadata": {},
     "output_type": "execute_result"
    }
   ],
   "source": [
    "num = 10\n",
    "a =list(range(10))\n",
    "a"
   ]
  },
  {
   "cell_type": "code",
   "execution_count": 12,
   "id": "3784795e-da2e-4143-9327-84e190ae31d6",
   "metadata": {},
   "outputs": [
    {
     "data": {
      "text/plain": [
       "True"
      ]
     },
     "execution_count": 12,
     "metadata": {},
     "output_type": "execute_result"
    }
   ],
   "source": [
    "bool([0,1,2,3])"
   ]
  },
  {
   "cell_type": "code",
   "execution_count": 5,
   "id": "68d32a81-ae20-4cc6-8cec-095c141140f9",
   "metadata": {},
   "outputs": [],
   "source": [
    "def numfunc(num):\n",
    "    listOfNum = [x for x in range(num) if x % 3 == 0 or x % 5 == 0]\n",
    "    if listOfNum:\n",
    "        return sum(listOfNum[1:])\n",
    "    else:\n",
    "        return 0"
   ]
  },
  {
   "cell_type": "code",
   "execution_count": 6,
   "id": "d2c32b6f-3f47-4e42-90c3-9dbba7e772e8",
   "metadata": {},
   "outputs": [
    {
     "data": {
      "text/plain": [
       "23"
      ]
     },
     "execution_count": 6,
     "metadata": {},
     "output_type": "execute_result"
    }
   ],
   "source": [
    "numfunc(10)"
   ]
  },
  {
   "cell_type": "code",
   "execution_count": 7,
   "id": "3b44102c-ce7a-46ab-922e-01004d3a891b",
   "metadata": {},
   "outputs": [
    {
     "data": {
      "text/plain": [
       "0"
      ]
     },
     "execution_count": 7,
     "metadata": {},
     "output_type": "execute_result"
    }
   ],
   "source": [
    "numfunc(-10)"
   ]
  },
  {
   "cell_type": "markdown",
   "id": "7faeaff1-950a-4db4-bbe9-ae27ffc450e3",
   "metadata": {},
   "source": [
    "### Create a phone number from list of numbers"
   ]
  },
  {
   "cell_type": "code",
   "execution_count": 48,
   "id": "ac70c9f9-b953-4c0c-9f7c-d1835c608b30",
   "metadata": {},
   "outputs": [],
   "source": [
    "phone_list = [1,2,3,4,5,6,7,8,9,0,]"
   ]
  },
  {
   "cell_type": "code",
   "execution_count": 44,
   "id": "12249f2f-3506-46b3-bc23-a83376544d72",
   "metadata": {},
   "outputs": [
    {
     "name": "stdout",
     "output_type": "stream",
     "text": [
      "([1, 2, 3]) [4, 5, 6]-[7, 8, 9, 0]\n"
     ]
    }
   ],
   "source": [
    "print(f'({phone_list[0:3]}) {phone_list[3:6]}-{phone_list[6:]}')"
   ]
  },
  {
   "cell_type": "code",
   "execution_count": 56,
   "id": "a3606355-9a36-4626-80e3-e3618ac2e7d6",
   "metadata": {},
   "outputs": [
    {
     "data": {
      "text/plain": [
       "['1', '2', '3', '4', '5', '6', '7', '8', '9', '0']"
      ]
     },
     "execution_count": 56,
     "metadata": {},
     "output_type": "execute_result"
    }
   ],
   "source": [
    "[''.join(str(num)) for num in phone_list]"
   ]
  },
  {
   "cell_type": "markdown",
   "id": "a88d0fa2-d054-473c-be8b-7cabd49030fe",
   "metadata": {},
   "source": [
    "OR"
   ]
  },
  {
   "cell_type": "code",
   "execution_count": 63,
   "id": "2b3e378f-8ee0-4d8f-8ad0-235539ef03bf",
   "metadata": {},
   "outputs": [
    {
     "data": {
      "text/plain": [
       "['1', '2', '3', '4', '5', '6', '7', '8', '9', '0']"
      ]
     },
     "execution_count": 63,
     "metadata": {},
     "output_type": "execute_result"
    }
   ],
   "source": [
    "list_string = list(map(str ,phone_list))\n",
    "list_string"
   ]
  },
  {
   "cell_type": "code",
   "execution_count": 64,
   "id": "0b3e4659-9f0b-4c52-b4d3-66dd911f83a3",
   "metadata": {},
   "outputs": [
    {
     "data": {
      "text/plain": [
       "'1234567890'"
      ]
     },
     "execution_count": 64,
     "metadata": {},
     "output_type": "execute_result"
    }
   ],
   "source": [
    "''.join(list(list_string))"
   ]
  },
  {
   "cell_type": "code",
   "execution_count": 65,
   "id": "0b44cbc2-f340-43da-bdf5-d2ed69e54201",
   "metadata": {},
   "outputs": [
    {
     "data": {
      "text/plain": [
       "'123'"
      ]
     },
     "execution_count": 65,
     "metadata": {},
     "output_type": "execute_result"
    }
   ],
   "source": [
    "''.join(list(list_string)[0:3])"
   ]
  },
  {
   "cell_type": "code",
   "execution_count": 66,
   "id": "300de5eb-07af-4e89-9d1d-4a476b04d0b9",
   "metadata": {},
   "outputs": [],
   "source": [
    "def create_phone_number(n):\n",
    "    string_list = list(map(str, n))\n",
    "    first_part = ''.join(string_list[0:3])\n",
    "    second_part = ''.join(string_list[3:6])\n",
    "    third_part = ''.join(string_list[6:])\n",
    "    print(f'({first_part}) {second_part}-{third_part}')"
   ]
  },
  {
   "cell_type": "code",
   "execution_count": 67,
   "id": "63bba54e-20e0-4846-941e-32205f083552",
   "metadata": {},
   "outputs": [
    {
     "name": "stdout",
     "output_type": "stream",
     "text": [
      "(123) 456-7890\n"
     ]
    }
   ],
   "source": [
    "n = [1,2,3,4,5,6,7,8,9,0,]\n",
    "create_phone_number(n)"
   ]
  },
  {
   "cell_type": "markdown",
   "id": "7da3a8a6-8d8a-4645-bcad-44e435adb93c",
   "metadata": {},
   "source": [
    "### Who Likes it?"
   ]
  },
  {
   "cell_type": "code",
   "execution_count": 69,
   "id": "65c31b84-08bb-468d-a4ea-56a5542441f6",
   "metadata": {},
   "outputs": [],
   "source": [
    "list_of_names = ['alex','jacob','Mia']"
   ]
  },
  {
   "cell_type": "code",
   "execution_count": 77,
   "id": "4a778537-bb86-4ca8-96de-51bcce2d343b",
   "metadata": {},
   "outputs": [
    {
     "data": {
      "text/plain": [
       "3"
      ]
     },
     "execution_count": 77,
     "metadata": {},
     "output_type": "execute_result"
    }
   ],
   "source": [
    "len(list_of_names)"
   ]
  },
  {
   "cell_type": "markdown",
   "id": "9449ad72-2571-4662-8751-b630f0dffb7e",
   "metadata": {},
   "source": [
    "Finished in browser"
   ]
  },
  {
   "cell_type": "markdown",
   "id": "cd730ae8-de7a-4bc3-b05a-22335801a4d8",
   "metadata": {},
   "source": [
    "### Snail Ordering"
   ]
  },
  {
   "cell_type": "code",
   "execution_count": 31,
   "id": "6df19e7f-1a1c-452f-95f2-a000613ce976",
   "metadata": {},
   "outputs": [],
   "source": [
    "data = [[1, 2, 3, 4],\n",
    "        [12, 13, 14, 5],\n",
    "        [11, 16, 15, 6],\n",
    "        [10, 9, 8, 7]]\n",
    "\n",
    "data2 = [[1, 2, 3],\n",
    "        [4, 5, 6],\n",
    "        [7, 8, 9]]\n",
    "\n",
    "expected = [1, 2, 3, 4, 5, 6, 7, 8, 9, 10, 11, 12, 13, 14, 15, 16]\n",
    "expected2 = [1, 2, 3, 6, 9, 8, 7, 4, 5]\n"
   ]
  },
  {
   "cell_type": "code",
   "execution_count": 8,
   "id": "7e9cc0ca-afbe-44d5-a07b-ec1da4520530",
   "metadata": {},
   "outputs": [
    {
     "name": "stdout",
     "output_type": "stream",
     "text": [
      "[5]\n",
      "[5, 6]\n",
      "[5, 6, 5, 14, 13, 12]\n",
      "[]\n"
     ]
    }
   ],
   "source": [
    "unit_test = [[12, 13, 14, 5],\n",
    "            [11, 16, 15, 6],\n",
    "            [10, 9, 8, 7]]\n",
    "\n",
    "len(unit_test)\n",
    "\n",
    "test=[]\n",
    "for row in unit_test:\n",
    "    test += [row[-1]]\n",
    "    print(test)\n",
    "    del [unit_test[-1]]\n",
    "    \n",
    "if unit_test[-1]:\n",
    "    test += unit_test[-1][::-1]\n",
    "    print(test)\n",
    "    del unit_test[-1]\n",
    "\n",
    "print(unit_test)"
   ]
  },
  {
   "cell_type": "code",
   "execution_count": 11,
   "id": "a20b2a36-e9a0-490c-bb0d-63e05d19efb2",
   "metadata": {},
   "outputs": [
    {
     "data": {
      "text/plain": [
       "[7, 8, 9, 10]"
      ]
     },
     "execution_count": 11,
     "metadata": {},
     "output_type": "execute_result"
    }
   ],
   "source": [
    "unit_test[-1][::-1]"
   ]
  },
  {
   "cell_type": "code",
   "execution_count": 27,
   "id": "b7ae87ea-2a51-44a4-a1b1-a450d2cba0da",
   "metadata": {},
   "outputs": [
    {
     "data": {
      "text/plain": [
       "[1, 2, 3, 4, 5, 6, 7, 8, 9, 10, 11, 12, 13, 14, 15, 16]"
      ]
     },
     "execution_count": 27,
     "metadata": {},
     "output_type": "execute_result"
    }
   ],
   "source": [
    "unit_test = [[1, 2, 3, 4],\n",
    "        [12, 13, 14, 5],\n",
    "        [11, 16, 15, 6],\n",
    "        [10, 9, 8, 7]]\n",
    "\n",
    "\n",
    "def SuperSnail(unit_test):\n",
    "    result = []\n",
    "    while len(unit_test) > 0: # go right\n",
    "        result += unit_test[0]\n",
    "        del unit_test[0]\n",
    "        #print(result)\n",
    "        #print(unit_test)\n",
    "\n",
    "        if len(unit_test) > 0: # go down\n",
    "            for row in unit_test:\n",
    "                result += [row[-1]]\n",
    "                del [row[-1]]\n",
    "                #print(result)\n",
    "                #print(unit_test)\n",
    "\n",
    "            if unit_test[-1]: # go left\n",
    "                result += unit_test[-1][::-1]\n",
    "                del unit_test[-1]\n",
    "                #print(result)\n",
    "                #print(unit_test)\n",
    "\n",
    "            for row in reversed(unit_test): # go up\n",
    "                result += [row[0]]\n",
    "                del row[0]\n",
    "                #print(result)\n",
    "                #print(unit_test)\n",
    "\n",
    "    return result\n",
    "result"
   ]
  },
  {
   "cell_type": "code",
   "execution_count": 32,
   "id": "cba9c8c5-dae9-40b1-a67a-e82b0eef5d31",
   "metadata": {},
   "outputs": [
    {
     "data": {
      "text/plain": [
       "[1, 2, 3, 4, 5, 6, 7, 8, 9, 10, 11, 12, 13, 14, 15, 16]"
      ]
     },
     "execution_count": 32,
     "metadata": {},
     "output_type": "execute_result"
    }
   ],
   "source": [
    "SuperSnail(unit_test)"
   ]
  },
  {
   "cell_type": "markdown",
   "id": "e27777ac-96fc-4900-9c24-31e48e09cf1c",
   "metadata": {},
   "source": [
    "### Human readable duration format"
   ]
  },
  {
   "cell_type": "code",
   "execution_count": 39,
   "id": "5a35dafd-dca0-4561-9037-4b36ca30a287",
   "metadata": {},
   "outputs": [],
   "source": [
    "data = 62 # seconds\n",
    "expected = '1 minute and 2 seconds'\n",
    "\n",
    "data2 = 3662\n",
    "expected2 = '1 hour, 1 minute and 2 seconds'\n"
   ]
  },
  {
   "cell_type": "code",
   "execution_count": 198,
   "id": "57071f2f-ef81-44d6-9877-f674abfa1870",
   "metadata": {},
   "outputs": [],
   "source": [
    "def formatduration(seconds):\n",
    "    \n",
    "    DD, Drem = seconds // (24 * 3600), (seconds / (24 *3600)) % 1\n",
    "    HH, Hrem =  int(DD * 24), ( Drem * 24) % 1\n",
    "    MM, Mrem = int(Hrem * 60), (Hrem * 60) % 1\n",
    "    SS = round(Mrem * 60)\n",
    "    \n",
    "    return '{dayVal}{pluralD}{hourVal}{pluralH}{minuteVal}{pluralM}{secondVal}{pluralS}'.format(dayVal = str(DD)+' day' if DD > 0 else '',\n",
    "                                                                                                pluralD = 's' if DD > 1 else '',\n",
    "                                                                                                hourVal = ' '+str(HH)+' hour' if HH > 0 else '',\n",
    "                                                                                                pluralH = 's' if HH > 1 else '',\n",
    "                                                                                                minuteVal = ' '+str(int(MM))+' minute' if MM > 0 else '',\n",
    "                                                                                                pluralM = 's' if MM > 1 else '',\n",
    "                                                                                                secondVal = ' '+str(SS) + ' second'if SS > 0 else '',\n",
    "                                                                                                pluralS = 's' if SS > 1 else '')"
   ]
  },
  {
   "cell_type": "code",
   "execution_count": 153,
   "id": "188f2cfb-20c1-48a9-8bda-5c2e51f849ee",
   "metadata": {},
   "outputs": [
    {
     "data": {
      "text/plain": [
       "(1, 0.033333333333333215)"
      ]
     },
     "execution_count": 153,
     "metadata": {},
     "output_type": "execute_result"
    }
   ],
   "source": [
    "seconds = 62\n",
    "HH, Hrem = seconds // 3600, seconds / 3600 % 1\n",
    "MM, Mrem = int(Hrem * 60), (Hrem * 60) % 1\n",
    "MM,Mrem"
   ]
  },
  {
   "cell_type": "code",
   "execution_count": 35,
   "id": "8d381ca7-71cc-4f22-b7a3-34a4393f488e",
   "metadata": {},
   "outputs": [
    {
     "data": {
      "text/plain": [
       "2"
      ]
     },
     "execution_count": 35,
     "metadata": {},
     "output_type": "execute_result"
    }
   ],
   "source": [
    "SS = round(Mrem * 60)\n",
    "SS"
   ]
  },
  {
   "cell_type": "code",
   "execution_count": 202,
   "id": "3eaea807-d286-4216-9dcb-a18b3968463f",
   "metadata": {},
   "outputs": [
    {
     "data": {
      "text/plain": [
       "'3472 days 83328 hours 19 minutes 60 seconds'"
      ]
     },
     "execution_count": 202,
     "metadata": {},
     "output_type": "execute_result"
    }
   ],
   "source": [
    "seconds = 300000000\n",
    "\n",
    "formatduration(seconds)"
   ]
  },
  {
   "cell_type": "code",
   "execution_count": 201,
   "id": "e40d38cc-36c2-4780-ad31-9eed6ebda0f0",
   "metadata": {},
   "outputs": [
    {
     "name": "stdout",
     "output_type": "stream",
     "text": [
      "31536000 year\n",
      "['9 years']\n",
      "86400 day\n",
      "['9 years', '187 days']\n",
      "3600 hour\n",
      "['9 years', '187 days', '5 hours']\n",
      "60 minute\n",
      "['9 years', '187 days', '5 hours', '20 minutes']\n",
      "1 second\n"
     ]
    },
    {
     "data": {
      "text/plain": [
       "'9 years, 187 days, 5 hours and 20 minutes'"
      ]
     },
     "execution_count": 201,
     "metadata": {},
     "output_type": "execute_result"
    }
   ],
   "source": [
    "seconds = 300000000\n",
    "\n",
    "format_duration(seconds)"
   ]
  },
  {
   "cell_type": "markdown",
   "id": "e1f2186a-7304-4f18-ad8e-9e3e73c6642a",
   "metadata": {},
   "source": [
    "Other from git  \n",
    "The way this one works is it looks at total seconds and checks if they are greater than number of seconds in: 1 year, 1 day, 1 hour, 1 minute, and 1 second through a for loop. If it is greater, then calculates number of respective time and adds to a list, before adding, runs a pluralize function to plural the time or not. Finnally, it subtracts the time in seconds it just added to the list, and continues the loop, until reaching the degree of second.\n",
    "\n",
    "Last is a super compact f string that adds the list of numbers and words"
   ]
  },
  {
   "cell_type": "code",
   "execution_count": 199,
   "id": "d1d1f8df-1d60-4974-909f-b3f2219b2380",
   "metadata": {},
   "outputs": [],
   "source": [
    "def pluralize(n, word):\n",
    "    if n == 1:\n",
    "        return '{} {}'.format(n, word)\n",
    "        \n",
    "    return '{} {}s'.format(n, word)\n",
    "        \n",
    "def format_duration(seconds):\n",
    "    if seconds == 0:\n",
    "        return \"now\"\n",
    "    \n",
    "    ONE_MINUTE = 60\n",
    "    ONE_HOUR = 60 * ONE_MINUTE\n",
    "    ONE_DAY = 24 * ONE_HOUR\n",
    "    ONE_YEAR = 365 * ONE_DAY\n",
    "    \n",
    "    units = (\n",
    "        (ONE_YEAR, 'year'),\n",
    "        (ONE_DAY, 'day'),\n",
    "        (ONE_HOUR, 'hour'),\n",
    "        (ONE_MINUTE, 'minute'),\n",
    "        (1, 'second'),\n",
    "    )\n",
    "        \n",
    "    r = []\n",
    "    for unit in units:\n",
    "        time_period, word = unit\n",
    "        print(time_period, word)\n",
    "        if seconds >= time_period:\n",
    "            n = int(seconds / time_period)\n",
    "            r.append(pluralize(n, word))\n",
    "            print(r)\n",
    "            seconds -= n * time_period\n",
    "    \n",
    "    return ' and'.join(', '.join(r).rsplit(',', 1))"
   ]
  },
  {
   "cell_type": "code",
   "execution_count": 203,
   "id": "03cfb786-8635-49fa-986a-e2eff6047439",
   "metadata": {},
   "outputs": [],
   "source": [
    "r = ['9 years', '187 days', '5 hours', '20 minutes']"
   ]
  },
  {
   "cell_type": "markdown",
   "id": "e94cf5f6-72d7-41ce-bae1-45a3b4fc9fab",
   "metadata": {},
   "source": [
    "joins all elements in list with `', '` then separates last element by the `','` just added"
   ]
  },
  {
   "cell_type": "code",
   "execution_count": 204,
   "id": "c103fdc1-92d3-4bde-abd0-dfebbae9243d",
   "metadata": {},
   "outputs": [
    {
     "data": {
      "text/plain": [
       "['9 years, 187 days, 5 hours', ' 20 minutes']"
      ]
     },
     "execution_count": 204,
     "metadata": {},
     "output_type": "execute_result"
    }
   ],
   "source": [
    "a =', '.join(r).rsplit(',',1)\n",
    "a"
   ]
  },
  {
   "cell_type": "markdown",
   "id": "7c125bb7-9678-42c0-99b2-706728986f63",
   "metadata": {},
   "source": [
    "Joins the last element with an `' and'`"
   ]
  },
  {
   "cell_type": "code",
   "execution_count": 205,
   "id": "55d32a94-a912-47f5-b4b0-0a220fee9abb",
   "metadata": {},
   "outputs": [
    {
     "data": {
      "text/plain": [
       "'9 years, 187 days, 5 hours and 20 minutes'"
      ]
     },
     "execution_count": 205,
     "metadata": {},
     "output_type": "execute_result"
    }
   ],
   "source": [
    "' and'.join(a)"
   ]
  },
  {
   "cell_type": "code",
   "execution_count": 200,
   "id": "1f6dc805-1da2-4654-bdd8-654e69cdb41a",
   "metadata": {},
   "outputs": [
    {
     "name": "stdout",
     "output_type": "stream",
     "text": [
      "31536000 year\n",
      "86400 day\n",
      "3600 hour\n",
      "60 minute\n",
      "['2 minutes']\n",
      "1 second\n",
      "['2 minutes', '1 second']\n"
     ]
    },
    {
     "data": {
      "text/plain": [
       "'2 minutes and 1 second'"
      ]
     },
     "execution_count": 200,
     "metadata": {},
     "output_type": "execute_result"
    }
   ],
   "source": [
    "seconds = 121\n",
    "\n",
    "format_duration(seconds)"
   ]
  },
  {
   "cell_type": "markdown",
   "id": "03531e6d-5629-42b4-aad6-822f6889cb0e",
   "metadata": {},
   "source": [
    "#### Lessons learned: \n",
    "If code is repeating more than once/twice, make a generic function like for `pluralize` situation that solves it.  \n",
    "If we have several variables that operate on, make a list of them and iterate over. Also good to then print with join.  \n",
    "Don't get stuck in a single method/function and try to force it to work. Make an overall requirements list, and try to see how several options/functions might go about it. Here got stuck on the `.format()` method, even though it was not even needed. "
   ]
  },
  {
   "cell_type": "markdown",
   "id": "b0d9af03-f89f-45a0-a751-b49463977161",
   "metadata": {},
   "source": [
    "### Sudoku validator"
   ]
  },
  {
   "cell_type": "markdown",
   "id": "a8c506dd-fe5e-4cc1-8c4c-a64269f624a7",
   "metadata": {},
   "source": [
    "Must not contain any '0'.  \n",
    "Each row and column must have all the digits from 1 to 9."
   ]
  },
  {
   "cell_type": "code",
   "execution_count": 284,
   "id": "7091fd52-f957-4d7e-91f1-3a49de5ae548",
   "metadata": {},
   "outputs": [],
   "source": [
    "data = [\n",
    "  [5, 3, 4, 6, 7, 8, 9, 1, 2],\n",
    "  [6, 7, 2, 1, 9, 5, 3, 4, 8],\n",
    "  [1, 9, 8, 3, 4, 2, 5, 6, 7],\n",
    "  [8, 5, 9, 7, 6, 1, 4, 2, 3],\n",
    "  [4, 2, 6, 8, 5, 3, 7, 9, 1],\n",
    "  [7, 1, 3, 9, 2, 4, 8, 5, 6],\n",
    "  [9, 6, 1, 5, 3, 7, 2, 8, 4],\n",
    "  [2, 8, 7, 4, 1, 9, 6, 3, 5],\n",
    "  [3, 4, 5, 2, 8, 6, 1, 7, 9]\n",
    "]\n",
    "\n",
    "expected = True\n",
    "\n",
    "data2 = [\n",
    "  [5, 3, 4, 6, 7, 8, 9, 1, 2], \n",
    "  [6, 7, 2, 1, 9, 0, 3, 4, 8],\n",
    "  [1, 0, 0, 3, 4, 2, 5, 6, 0],\n",
    "  [8, 5, 9, 7, 6, 1, 0, 2, 0],\n",
    "  [4, 2, 6, 8, 5, 3, 7, 9, 1],\n",
    "  [7, 1, 3, 9, 2, 4, 8, 5, 6],\n",
    "  [9, 0, 1, 5, 3, 7, 2, 1, 4],\n",
    "  [2, 8, 7, 4, 1, 9, 6, 3, 5],\n",
    "  [3, 0, 0, 4, 8, 1, 1, 7, 9]\n",
    "]\n",
    "\n",
    "expected2 = False"
   ]
  },
  {
   "cell_type": "code",
   "execution_count": 236,
   "id": "2e1ce8ad-c0b3-4825-9379-c5540ef27067",
   "metadata": {},
   "outputs": [
    {
     "data": {
      "text/plain": [
       "1"
      ]
     },
     "execution_count": 236,
     "metadata": {},
     "output_type": "execute_result"
    }
   ],
   "source": [
    "data2[1].count(0)"
   ]
  },
  {
   "cell_type": "code",
   "execution_count": 249,
   "id": "1c250ebd-79ca-4da1-904e-1eaf69b15cf3",
   "metadata": {},
   "outputs": [
    {
     "data": {
      "text/plain": [
       "False"
      ]
     },
     "execution_count": 249,
     "metadata": {},
     "output_type": "execute_result"
    }
   ],
   "source": [
    "data_set = set(data2[-1])\n",
    "\n",
    "len(data_set)==len(data2[-1])"
   ]
  },
  {
   "cell_type": "code",
   "execution_count": 250,
   "id": "ecaf8cc0-37bb-47d1-8965-cc32e97686e2",
   "metadata": {},
   "outputs": [
    {
     "name": "stdout",
     "output_type": "stream",
     "text": [
      "[5, 3, 4, 6, 7, 8, 9, 1, 2]\n",
      "True\n",
      "[6, 7, 2, 1, 9, 0, 3, 4, 8]\n",
      "False\n",
      "[1, 0, 0, 3, 4, 2, 5, 6, 0]\n",
      "False\n",
      "[8, 5, 9, 7, 6, 1, 0, 2, 0]\n",
      "False\n",
      "[4, 2, 6, 8, 5, 3, 7, 9, 1]\n",
      "True\n",
      "[7, 1, 3, 9, 2, 4, 8, 5, 6]\n",
      "True\n",
      "[9, 0, 1, 5, 3, 7, 2, 1, 4]\n",
      "False\n",
      "[2, 8, 7, 4, 1, 9, 6, 3, 5]\n",
      "True\n",
      "[3, 0, 0, 4, 8, 1, 1, 7, 9]\n",
      "False\n"
     ]
    }
   ],
   "source": [
    "# check for 0's\n",
    "\n",
    "for num in data2:\n",
    "    print(num)\n",
    "    if 0 in num:\n",
    "        print (False)\n",
    "    else:\n",
    "        print (True)"
   ]
  },
  {
   "cell_type": "code",
   "execution_count": 251,
   "id": "71152a51-eaed-4d4a-8147-0daa88fb8208",
   "metadata": {},
   "outputs": [
    {
     "name": "stdout",
     "output_type": "stream",
     "text": [
      "[5, 3, 4, 6, 7, 8, 9, 1, 2]\n",
      "True\n",
      "[6, 7, 2, 1, 9, 0, 3, 4, 8]\n",
      "True\n",
      "[1, 0, 0, 3, 4, 2, 5, 6, 0]\n",
      "False\n",
      "[8, 5, 9, 7, 6, 1, 0, 2, 0]\n",
      "False\n",
      "[4, 2, 6, 8, 5, 3, 7, 9, 1]\n",
      "True\n",
      "[7, 1, 3, 9, 2, 4, 8, 5, 6]\n",
      "True\n",
      "[9, 0, 1, 5, 3, 7, 2, 1, 4]\n",
      "False\n",
      "[2, 8, 7, 4, 1, 9, 6, 3, 5]\n",
      "True\n",
      "[3, 0, 0, 4, 8, 1, 1, 7, 9]\n",
      "False\n"
     ]
    }
   ],
   "source": [
    "# Check rows for duplicates\n",
    "for row in data2:\n",
    "    print(row)\n",
    "    print( len(row) == len(set(row)))"
   ]
  },
  {
   "cell_type": "code",
   "execution_count": 281,
   "id": "7ff566f6-7ef5-48f8-b10c-6dac4f1edecb",
   "metadata": {},
   "outputs": [
    {
     "data": {
      "text/plain": [
       "[(5, 6, 1, 8, 4, 7, 9, 2, 3),\n",
       " (3, 7, 0, 5, 2, 1, 0, 8, 0),\n",
       " (4, 2, 0, 9, 6, 3, 1, 7, 0),\n",
       " (6, 1, 3, 7, 8, 9, 5, 4, 4),\n",
       " (7, 9, 4, 6, 5, 2, 3, 1, 8),\n",
       " (8, 0, 2, 1, 3, 4, 7, 9, 1),\n",
       " (9, 3, 5, 0, 7, 8, 2, 6, 1),\n",
       " (1, 4, 6, 2, 9, 5, 1, 3, 7),\n",
       " (2, 8, 0, 0, 1, 6, 4, 5, 9)]"
      ]
     },
     "execution_count": 281,
     "metadata": {},
     "output_type": "execute_result"
    }
   ],
   "source": [
    "# transpose the list of lists with zip \n",
    "\n",
    "data2_T =list(zip(*data2))\n",
    "data2_T"
   ]
  },
  {
   "cell_type": "code",
   "execution_count": 276,
   "id": "13f385ef-72e5-4002-bcd6-346e4e68dbec",
   "metadata": {},
   "outputs": [
    {
     "name": "stdout",
     "output_type": "stream",
     "text": [
      "(5, 6, 1, 8, 4, 7, 9, 2, 3)\n",
      "True\n",
      "(3, 7, 0, 5, 2, 1, 0, 8, 0)\n",
      "False\n",
      "(4, 2, 0, 9, 6, 3, 1, 7, 0)\n",
      "False\n",
      "(6, 1, 3, 7, 8, 9, 5, 4, 4)\n",
      "False\n",
      "(7, 9, 4, 6, 5, 2, 3, 1, 8)\n",
      "True\n",
      "(8, 0, 2, 1, 3, 4, 7, 9, 1)\n",
      "False\n",
      "(9, 3, 5, 0, 7, 8, 2, 6, 1)\n",
      "True\n",
      "(1, 4, 6, 2, 9, 5, 1, 3, 7)\n",
      "False\n",
      "(2, 8, 0, 0, 1, 6, 4, 5, 9)\n",
      "False\n"
     ]
    }
   ],
   "source": [
    "# check columns for duplicates\n",
    "for col in data2_T:\n",
    "    print(col)\n",
    "    print( len(col) == len(set(col)))"
   ]
  },
  {
   "cell_type": "code",
   "execution_count": 334,
   "id": "416384b3-a4dc-42cf-9636-0c6e9f858460",
   "metadata": {},
   "outputs": [
    {
     "data": {
      "text/plain": [
       "[]"
      ]
     },
     "execution_count": 334,
     "metadata": {},
     "output_type": "execute_result"
    }
   ],
   "source": [
    "# compress to a comprehension\n",
    "check_zeros = [True for num in data if 0 in num]\n",
    "check_zeros"
   ]
  },
  {
   "cell_type": "code",
   "execution_count": 335,
   "id": "bcac49eb-061f-4dd2-a619-b02f309351e1",
   "metadata": {},
   "outputs": [
    {
     "data": {
      "text/plain": [
       "True"
      ]
     },
     "execution_count": 335,
     "metadata": {},
     "output_type": "execute_result"
    }
   ],
   "source": [
    "not any(check_zeros)"
   ]
  },
  {
   "cell_type": "code",
   "execution_count": 319,
   "id": "cae4dbe5-00ac-4fb0-84c4-16b93622e50a",
   "metadata": {},
   "outputs": [
    {
     "data": {
      "text/plain": [
       "[True, True, True, True, True, True, True, True, True]"
      ]
     },
     "execution_count": 319,
     "metadata": {},
     "output_type": "execute_result"
    }
   ],
   "source": [
    "check_row_dupes = [len(row) == len(set(row)) for row in data]\n",
    "check_row_dupes"
   ]
  },
  {
   "cell_type": "code",
   "execution_count": 320,
   "id": "5840a7ed-dfe0-42c3-9fb9-5da8cc0bc59e",
   "metadata": {},
   "outputs": [
    {
     "data": {
      "text/plain": [
       "True"
      ]
     },
     "execution_count": 320,
     "metadata": {},
     "output_type": "execute_result"
    }
   ],
   "source": [
    "all(check_row_dupes)"
   ]
  },
  {
   "cell_type": "code",
   "execution_count": 333,
   "id": "1f5a3aa5-bae6-4c82-a057-7ca122336616",
   "metadata": {},
   "outputs": [
    {
     "data": {
      "text/plain": [
       "[True, True, True, True, True, True, True, True, True]"
      ]
     },
     "execution_count": 333,
     "metadata": {},
     "output_type": "execute_result"
    }
   ],
   "source": [
    "data2_T =list(zip(*data))\n",
    "check_col_dupes = [len(col) == len(set(col)) for col in data2_T]\n",
    "check_col_dupes"
   ]
  },
  {
   "cell_type": "code",
   "execution_count": 332,
   "id": "b7f9d8de-0452-47c8-b96e-13e09661a7f1",
   "metadata": {},
   "outputs": [
    {
     "data": {
      "text/plain": [
       "False"
      ]
     },
     "execution_count": 332,
     "metadata": {},
     "output_type": "execute_result"
    }
   ],
   "source": [
    "True and False and True"
   ]
  },
  {
   "cell_type": "code",
   "execution_count": 328,
   "id": "b6141e5f-5aea-468d-a110-fe185d2e8b86",
   "metadata": {},
   "outputs": [],
   "source": [
    "def valid_solution(board):\n",
    "    # transpose board\n",
    "    board_T =list(zip(*board))\n",
    "    \n",
    "    check_zeros = [True for row in board if 0 in row]\n",
    "        \n",
    "    check_row_dupes = [len(row) == len(set(row)) for row in board]\n",
    "    \n",
    "    check_col_dupes = [len(col) == len(set(col)) for col in board_T]\n",
    "    \n",
    "    return not any(check_zeros) and all(check_row_dupes) and all(check_col_dupes)"
   ]
  },
  {
   "cell_type": "code",
   "execution_count": 329,
   "id": "d0db2a40-665e-4764-b13a-f9012f99072f",
   "metadata": {},
   "outputs": [
    {
     "data": {
      "text/plain": [
       "True"
      ]
     },
     "execution_count": 329,
     "metadata": {},
     "output_type": "execute_result"
    }
   ],
   "source": [
    "valid_solution(data)"
   ]
  },
  {
   "cell_type": "code",
   "execution_count": 330,
   "id": "ece3a029-7bb0-4a04-92fe-5ee272837d0d",
   "metadata": {},
   "outputs": [
    {
     "data": {
      "text/plain": [
       "False"
      ]
     },
     "execution_count": 330,
     "metadata": {},
     "output_type": "execute_result"
    }
   ],
   "source": [
    "valid_solution(data2)"
   ]
  }
 ],
 "metadata": {
  "kernelspec": {
   "display_name": "Python 3 (ipykernel)",
   "language": "python",
   "name": "python3"
  },
  "language_info": {
   "codemirror_mode": {
    "name": "ipython",
    "version": 3
   },
   "file_extension": ".py",
   "mimetype": "text/x-python",
   "name": "python",
   "nbconvert_exporter": "python",
   "pygments_lexer": "ipython3",
   "version": "3.9.7"
  }
 },
 "nbformat": 4,
 "nbformat_minor": 5
}
