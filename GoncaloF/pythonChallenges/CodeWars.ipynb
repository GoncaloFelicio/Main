{
 "cells": [
  {
   "cell_type": "markdown",
   "id": "65b4a88c-0c49-49b8-b63b-22999506ea30",
   "metadata": {},
   "source": [
    "# Code wars challenges "
   ]
  },
  {
   "cell_type": "markdown",
   "id": "985ee6b3-ab6d-444b-9008-c7434686c148",
   "metadata": {},
   "source": [
    "### Count vowels in sentence"
   ]
  },
  {
   "cell_type": "code",
   "execution_count": 34,
   "id": "fe38e1c5-6894-40e6-8ff8-8d94e0e3a4d2",
   "metadata": {},
   "outputs": [],
   "source": [
    "def get_count(sentence):\n",
    "    newstring = ''.join(sentence.split())\n",
    "    count = 0\n",
    "    for char in newstring:\n",
    "        if char == 'a' or char == 'e' or char == 'i' or char == 'o' or char == 'u':\n",
    "            count += 1\n",
    "    return count"
   ]
  },
  {
   "cell_type": "code",
   "execution_count": 38,
   "id": "ace5f71d-7bce-48f6-a691-98ec07a70455",
   "metadata": {},
   "outputs": [],
   "source": [
    "test = 'this is a test string'\n",
    "# result should be 5"
   ]
  },
  {
   "cell_type": "code",
   "execution_count": 39,
   "id": "67d7f3db-1ae7-4825-97dc-7f89c641524d",
   "metadata": {},
   "outputs": [
    {
     "data": {
      "text/plain": [
       "5"
      ]
     },
     "execution_count": 39,
     "metadata": {},
     "output_type": "execute_result"
    }
   ],
   "source": [
    "get_count(test)"
   ]
  },
  {
   "cell_type": "code",
   "execution_count": null,
   "id": "34ab144f-2c28-47e7-8fca-8236c1d1a3f6",
   "metadata": {},
   "outputs": [],
   "source": [
    "def disemvowel(string_):\n",
    "    vowelsdict = {'a':'', 'e':'', 'i':'', 'o':'', 'u':'',\n",
    "                 'A':'', 'E':'', 'I':'', 'O':'', 'U':'',}\n",
    "    translateTable = string_.maketrans(vowelsdict)\n",
    "    return string_.translate(translateTable)"
   ]
  },
  {
   "cell_type": "markdown",
   "id": "429613bb-cb04-4af4-9b0c-084e8d366d4c",
   "metadata": {},
   "source": [
    "### Square every digit in a number"
   ]
  },
  {
   "cell_type": "code",
   "execution_count": 48,
   "id": "321b5b40-2ab6-49bb-8dac-6f9ad5beb2ca",
   "metadata": {},
   "outputs": [
    {
     "data": {
      "text/plain": [
       "['9', '1', '1', '9']"
      ]
     },
     "execution_count": 48,
     "metadata": {},
     "output_type": "execute_result"
    }
   ],
   "source": [
    "num  = 9119\n",
    "list1 = list(str(num))\n",
    "list1"
   ]
  },
  {
   "cell_type": "code",
   "execution_count": 59,
   "id": "ae93e9ee-b2fb-4451-8a50-93b51ccc269b",
   "metadata": {},
   "outputs": [
    {
     "data": {
      "text/plain": [
       "['81', '1', '1', '81']"
      ]
     },
     "execution_count": 59,
     "metadata": {},
     "output_type": "execute_result"
    }
   ],
   "source": [
    "nlist=[]\n",
    "for num in list1:\n",
    "    squareDigit = int(num)**2\n",
    "    nlist.append(str(squareDigit))\n",
    "\n",
    "nlist\n",
    "    "
   ]
  },
  {
   "cell_type": "code",
   "execution_count": 55,
   "id": "2f5b7945-12d1-4f7c-8bdf-f29479db6bfe",
   "metadata": {},
   "outputs": [
    {
     "data": {
      "text/plain": [
       "811181"
      ]
     },
     "execution_count": 55,
     "metadata": {},
     "output_type": "execute_result"
    }
   ],
   "source": [
    "for num in nlist:\n",
    "    ''.join(num)"
   ]
  },
  {
   "cell_type": "code",
   "execution_count": null,
   "id": "819d1813-e7c4-444b-b304-a719f0ab30cc",
   "metadata": {},
   "outputs": [],
   "source": []
  },
  {
   "cell_type": "markdown",
   "id": "627fd876-66f2-4192-b0d6-b23c3ffd76ec",
   "metadata": {},
   "source": [
    "### Sum of multiples of 3 and 5 lower than x"
   ]
  },
  {
   "cell_type": "code",
   "execution_count": 8,
   "id": "20e6cf77-e542-4f0d-b64a-c8846e4862ba",
   "metadata": {},
   "outputs": [],
   "source": [
    "num = -10"
   ]
  },
  {
   "cell_type": "code",
   "execution_count": 9,
   "id": "771c2d76-03bc-4ca7-8eda-57d29f5cfabb",
   "metadata": {},
   "outputs": [
    {
     "data": {
      "text/plain": [
       "[]"
      ]
     },
     "execution_count": 9,
     "metadata": {},
     "output_type": "execute_result"
    }
   ],
   "source": [
    "[x for x in range(num) if x % 3 == 0 or x % 5 == 0]"
   ]
  },
  {
   "cell_type": "code",
   "execution_count": 33,
   "id": "a88bc907-786b-40a5-8e22-f90a246127f8",
   "metadata": {},
   "outputs": [
    {
     "data": {
      "text/plain": [
       "[0, 1, 2, 3, 4, 5, 6, 7, 8, 9]"
      ]
     },
     "execution_count": 33,
     "metadata": {},
     "output_type": "execute_result"
    }
   ],
   "source": [
    "num = 10\n",
    "a =list(range(10))\n",
    "a"
   ]
  },
  {
   "cell_type": "code",
   "execution_count": 12,
   "id": "44c5a068-b980-4b72-83b8-c0d46f239812",
   "metadata": {},
   "outputs": [
    {
     "data": {
      "text/plain": [
       "True"
      ]
     },
     "execution_count": 12,
     "metadata": {},
     "output_type": "execute_result"
    }
   ],
   "source": [
    "bool([0,1,2,3])"
   ]
  },
  {
   "cell_type": "code",
   "execution_count": 24,
   "id": "1bcd9b63-791c-42ae-8e20-78ad9326167a",
   "metadata": {},
   "outputs": [],
   "source": [
    "num = -10"
   ]
  },
  {
   "cell_type": "code",
   "execution_count": 30,
   "id": "75e741bd-cf62-4a6f-9a39-8f840c539ed1",
   "metadata": {},
   "outputs": [],
   "source": [
    "def numfunc(num):\n",
    "    listOfNum = [x for x in range(num) if x % 3 == 0 or x % 5 == 0]\n",
    "    if listOfNum:\n",
    "        return sum(listOfNum[1:])\n",
    "    else:\n",
    "        return 0"
   ]
  },
  {
   "cell_type": "code",
   "execution_count": 31,
   "id": "9c7827e5-2977-49c6-84b5-991067a9e258",
   "metadata": {},
   "outputs": [
    {
     "data": {
      "text/plain": [
       "23"
      ]
     },
     "execution_count": 31,
     "metadata": {},
     "output_type": "execute_result"
    }
   ],
   "source": [
    "numfunc(10)"
   ]
  },
  {
   "cell_type": "markdown",
   "id": "362c02be-63c0-48a9-9009-3cad55284d54",
   "metadata": {},
   "source": [
    "### Create a phone number from list of numbers"
   ]
  },
  {
   "cell_type": "code",
   "execution_count": 48,
   "id": "74840dee-894b-4180-8f56-2dd6b1c4307f",
   "metadata": {},
   "outputs": [],
   "source": [
    "phone_list = [1,2,3,4,5,6,7,8,9,0,]"
   ]
  },
  {
   "cell_type": "code",
   "execution_count": 44,
   "id": "707b718f-a1bd-439d-a965-1a462b2d3025",
   "metadata": {},
   "outputs": [
    {
     "name": "stdout",
     "output_type": "stream",
     "text": [
      "([1, 2, 3]) [4, 5, 6]-[7, 8, 9, 0]\n"
     ]
    }
   ],
   "source": [
    "print(f'({phone_list[0:3]}) {phone_list[3:6]}-{phone_list[6:]}')"
   ]
  },
  {
   "cell_type": "code",
   "execution_count": 56,
   "id": "240bedea-f846-4b6c-a27d-47e38c205c6f",
   "metadata": {},
   "outputs": [
    {
     "data": {
      "text/plain": [
       "['1', '2', '3', '4', '5', '6', '7', '8', '9', '0']"
      ]
     },
     "execution_count": 56,
     "metadata": {},
     "output_type": "execute_result"
    }
   ],
   "source": [
    "[''.join(str(num)) for num in phone_list]"
   ]
  },
  {
   "cell_type": "markdown",
   "id": "17e83ad8-b1aa-4f6b-bdd4-11cd66efa797",
   "metadata": {},
   "source": [
    "OR"
   ]
  },
  {
   "cell_type": "code",
   "execution_count": 63,
   "id": "67555e4b-6e7e-49e1-9510-1d2725f78e1a",
   "metadata": {},
   "outputs": [
    {
     "data": {
      "text/plain": [
       "['1', '2', '3', '4', '5', '6', '7', '8', '9', '0']"
      ]
     },
     "execution_count": 63,
     "metadata": {},
     "output_type": "execute_result"
    }
   ],
   "source": [
    "list_string = list(map(str ,phone_list))\n",
    "list_string"
   ]
  },
  {
   "cell_type": "code",
   "execution_count": 64,
   "id": "97dc6257-828c-49b9-afbf-eb5b4bff6f96",
   "metadata": {},
   "outputs": [
    {
     "data": {
      "text/plain": [
       "'1234567890'"
      ]
     },
     "execution_count": 64,
     "metadata": {},
     "output_type": "execute_result"
    }
   ],
   "source": [
    "''.join(list(list_string))"
   ]
  },
  {
   "cell_type": "code",
   "execution_count": 65,
   "id": "371e8866-9f0d-408e-b5dd-675564fb819a",
   "metadata": {},
   "outputs": [
    {
     "data": {
      "text/plain": [
       "'123'"
      ]
     },
     "execution_count": 65,
     "metadata": {},
     "output_type": "execute_result"
    }
   ],
   "source": [
    "''.join(list(list_string)[0:3])"
   ]
  },
  {
   "cell_type": "code",
   "execution_count": 66,
   "id": "3f5160dc-20d0-44c6-a3af-e706a69a93e5",
   "metadata": {},
   "outputs": [],
   "source": [
    "def create_phone_number(n):\n",
    "    string_list = list(map(str, n))\n",
    "    first_part = ''.join(string_list[0:3])\n",
    "    second_part = ''.join(string_list[3:6])\n",
    "    third_part = ''.join(string_list[6:])\n",
    "    print(f'({first_part}) {second_part}-{third_part}')"
   ]
  },
  {
   "cell_type": "code",
   "execution_count": 67,
   "id": "6a39fdf3-1fa6-45b1-a177-cf146fe1eb7c",
   "metadata": {},
   "outputs": [
    {
     "name": "stdout",
     "output_type": "stream",
     "text": [
      "(123) 456-7890\n"
     ]
    }
   ],
   "source": [
    "n = [1,2,3,4,5,6,7,8,9,0,]\n",
    "create_phone_number(n)"
   ]
  },
  {
   "cell_type": "markdown",
   "id": "f59a44e6-4e6a-49d1-86ea-656968b95d22",
   "metadata": {},
   "source": [
    "### Who Likes IT?"
   ]
  },
  {
   "cell_type": "code",
   "execution_count": 69,
   "id": "d947d4ed-f810-4b16-bae8-7489f0fa882f",
   "metadata": {},
   "outputs": [],
   "source": [
    "list_of_names = ['alex','jacob','Mia']"
   ]
  },
  {
   "cell_type": "code",
   "execution_count": null,
   "id": "42a8ea7b-cd4a-4f60-a665-519f283652b4",
   "metadata": {},
   "outputs": [],
   "source": [
    "def generate_name(list_)s:\n",
    "    iterator = iter(list_)\n",
    "    "
   ]
  },
  {
   "cell_type": "code",
   "execution_count": 72,
   "id": "3c9ceed3-b9fe-4766-ab38-1f326da29ba6",
   "metadata": {},
   "outputs": [],
   "source": [
    "iterator = iter(list_of_names)"
   ]
  },
  {
   "cell_type": "code",
   "execution_count": 76,
   "id": "70246382-ca62-4776-bd6f-934c5fd8a16c",
   "metadata": {
    "collapsed": true,
    "jupyter": {
     "outputs_hidden": true
    },
    "tags": []
   },
   "outputs": [
    {
     "ename": "StopIteration",
     "evalue": "",
     "output_type": "error",
     "traceback": [
      "\u001b[1;31m---------------------------------------------------------------------------\u001b[0m",
      "\u001b[1;31mStopIteration\u001b[0m                             Traceback (most recent call last)",
      "\u001b[1;32mC:\\Users\\GONCAL~1.FEL\\AppData\\Local\\Temp/ipykernel_11768/4235178104.py\u001b[0m in \u001b[0;36m<module>\u001b[1;34m\u001b[0m\n\u001b[1;32m----> 1\u001b[1;33m \u001b[0mnext\u001b[0m\u001b[1;33m(\u001b[0m\u001b[0miterator\u001b[0m\u001b[1;33m)\u001b[0m\u001b[1;33m\u001b[0m\u001b[1;33m\u001b[0m\u001b[0m\n\u001b[0m",
      "\u001b[1;31mStopIteration\u001b[0m: "
     ]
    }
   ],
   "source": [
    "next(iterator)"
   ]
  },
  {
   "cell_type": "code",
   "execution_count": 77,
   "id": "d1992315-84c3-4ff6-aea9-78ecc7239d56",
   "metadata": {},
   "outputs": [
    {
     "data": {
      "text/plain": [
       "3"
      ]
     },
     "execution_count": 77,
     "metadata": {},
     "output_type": "execute_result"
    }
   ],
   "source": [
    "len(list_of_names)"
   ]
  },
  {
   "cell_type": "code",
   "execution_count": 78,
   "id": "74d57825-c9f0-4d87-aad8-c15f069982a6",
   "metadata": {},
   "outputs": [],
   "source": [
    "a = 'sdfsdfs'"
   ]
  },
  {
   "cell_type": "code",
   "execution_count": null,
   "id": "68211884-af45-4704-8e0d-55bddb73b082",
   "metadata": {
    "tags": []
   },
   "outputs": [],
   "source": [
    "a.maketrans\n",
    "a.replace"
   ]
  },
  {
   "cell_type": "markdown",
   "id": "a983147b-ae50-409e-830d-b6adc0d6c211",
   "metadata": {},
   "source": [
    "### Snail Ordering"
   ]
  },
  {
   "cell_type": "code",
   "execution_count": 31,
   "id": "5123154b-09ea-4f37-8bb6-9a75c36347e5",
   "metadata": {},
   "outputs": [],
   "source": [
    "data = [[1, 2, 3, 4],\n",
    "        [12, 13, 14, 5],\n",
    "        [11, 16, 15, 6],\n",
    "        [10, 9, 8, 7]]\n",
    "\n",
    "data2 = [[1, 2, 3],\n",
    "        [4, 5, 6],\n",
    "        [7, 8, 9]]\n",
    "\n",
    "expected = [1, 2, 3, 4, 5, 6, 7, 8, 9, 10, 11, 12, 13, 14, 15, 16]\n",
    "expected2 = [1, 2, 3, 6, 9, 8, 7, 4, 5]\n"
   ]
  },
  {
   "cell_type": "code",
   "execution_count": 18,
   "id": "52bf8190-3a26-43e3-b489-5bfed41dbc18",
   "metadata": {},
   "outputs": [
    {
     "name": "stdout",
     "output_type": "stream",
     "text": [
      "[5]\n",
      "[5, 6]\n",
      "[5, 6, 5, 14, 13, 12]\n",
      "[]\n"
     ]
    }
   ],
   "source": [
    "unit_test = [[12, 13, 14, 5],\n",
    "            [11, 16, 15, 6],\n",
    "            [10, 9, 8, 7]]\n",
    "\n",
    "len(unit_test)\n",
    "\n",
    "test=[]\n",
    "for row in unit_test:\n",
    "    test += [row[-1]]\n",
    "    print(test)\n",
    "    del [unit_test[-1]]\n",
    "    \n",
    "if unit_test[-1]:\n",
    "    test += unit_test[-1][::-1]\n",
    "    print(test)\n",
    "    del unit_test[-1]\n",
    "\n",
    "print(unit_test)"
   ]
  },
  {
   "cell_type": "code",
   "execution_count": 11,
   "id": "880ba19f-9d15-4055-933f-7647598f7d68",
   "metadata": {},
   "outputs": [
    {
     "data": {
      "text/plain": [
       "[7, 8, 9, 10]"
      ]
     },
     "execution_count": 11,
     "metadata": {},
     "output_type": "execute_result"
    }
   ],
   "source": [
    "unit_test[-1][::-1]"
   ]
  },
  {
   "cell_type": "code",
   "execution_count": 27,
   "id": "51545405-bcca-49b8-b676-8813c7a22600",
   "metadata": {},
   "outputs": [
    {
     "data": {
      "text/plain": [
       "[1, 2, 3, 4, 5, 6, 7, 8, 9, 10, 11, 12, 13, 14, 15, 16]"
      ]
     },
     "execution_count": 27,
     "metadata": {},
     "output_type": "execute_result"
    }
   ],
   "source": [
    "unit_test = [[1, 2, 3, 4],\n",
    "        [12, 13, 14, 5],\n",
    "        [11, 16, 15, 6],\n",
    "        [10, 9, 8, 7]]\n",
    "\n",
    "\n",
    "def SuperSnail(unit_test):\n",
    "    result = []\n",
    "    while len(unit_test) > 0: # go right\n",
    "        result += unit_test[0]\n",
    "        del unit_test[0]\n",
    "        #print(result)\n",
    "        #print(unit_test)\n",
    "\n",
    "        if len(unit_test) > 0: # go down\n",
    "            for row in unit_test:\n",
    "                result += [row[-1]]\n",
    "                del [row[-1]]\n",
    "                #print(result)\n",
    "                #print(unit_test)\n",
    "\n",
    "            if unit_test[-1]: # go left\n",
    "                result += unit_test[-1][::-1]\n",
    "                del unit_test[-1]\n",
    "                #print(result)\n",
    "                #print(unit_test)\n",
    "\n",
    "            for row in reversed(unit_test): # go up\n",
    "                result += [row[0]]\n",
    "                del row[0]\n",
    "                #print(result)\n",
    "                #print(unit_test)\n",
    "\n",
    "    return result\n",
    "result"
   ]
  },
  {
   "cell_type": "code",
   "execution_count": 32,
   "id": "1aa90dad-c6ad-47c5-83f1-db33371cc8aa",
   "metadata": {},
   "outputs": [
    {
     "data": {
      "text/plain": [
       "[1, 2, 3, 4, 5, 6, 7, 8, 9, 10, 11, 12, 13, 14, 15, 16]"
      ]
     },
     "execution_count": 32,
     "metadata": {},
     "output_type": "execute_result"
    }
   ],
   "source": [
    "SuperSnail(unit_test)"
   ]
  },
  {
   "cell_type": "markdown",
   "id": "7f1f2b70-f8ce-4881-b41c-99459be9e988",
   "metadata": {},
   "source": [
    "### Human readable duration format"
   ]
  },
  {
   "cell_type": "code",
   "execution_count": 39,
   "id": "66f79a02-603e-4b3e-b522-75eb084ef9bd",
   "metadata": {},
   "outputs": [],
   "source": [
    "data = 62 # seconds\n",
    "expected = '1 minute and 2 seconds'\n",
    "\n",
    "data2 = 3662\n",
    "expected2 = '1 hour, 1 minute and 2 seconds'\n"
   ]
  },
  {
   "cell_type": "code",
   "execution_count": 198,
   "id": "2b5e6e55-57ac-461d-9053-5a76b0248869",
   "metadata": {},
   "outputs": [],
   "source": [
    "def formatduration(seconds):\n",
    "    \n",
    "    DD, Drem = seconds // (24 * 3600), (seconds / (24 *3600)) % 1\n",
    "    HH, Hrem =  int(DD * 24), ( Drem * 24) % 1\n",
    "    MM, Mrem = int(Hrem * 60), (Hrem * 60) % 1\n",
    "    SS = round(Mrem * 60)\n",
    "    \n",
    "    return '{dayVal}{pluralD}{hourVal}{pluralH}{minuteVal}{pluralM}{secondVal}{pluralS}'.format(dayVal = str(DD)+' day' if DD > 0 else '',\n",
    "                                                                                                pluralD = 's' if DD > 1 else '',\n",
    "                                                                                                hourVal = ' '+str(HH)+' hour' if HH > 0 else '',\n",
    "                                                                                                pluralH = 's' if HH > 1 else '',\n",
    "                                                                                                minuteVal = ' '+str(int(MM))+' minute' if MM > 0 else '',\n",
    "                                                                                                pluralM = 's' if MM > 1 else '',\n",
    "                                                                                                secondVal = ' '+str(SS) + ' second'if SS > 0 else '',\n",
    "                                                                                                pluralS = 's' if SS > 1 else '')"
   ]
  },
  {
   "cell_type": "code",
   "execution_count": 153,
   "id": "13999542-a36e-403c-b506-d8c2cc72b0b1",
   "metadata": {},
   "outputs": [
    {
     "data": {
      "text/plain": [
       "(1, 0.033333333333333215)"
      ]
     },
     "execution_count": 153,
     "metadata": {},
     "output_type": "execute_result"
    }
   ],
   "source": [
    "seconds = 62\n",
    "HH, Hrem = seconds // 3600, seconds / 3600 % 1\n",
    "MM, Mrem = int(Hrem * 60), (Hrem * 60) % 1\n",
    "MM,Mrem"
   ]
  },
  {
   "cell_type": "code",
   "execution_count": 35,
   "id": "67c104bf-7b4f-45fb-9e6f-0a6d6f74c0f6",
   "metadata": {},
   "outputs": [
    {
     "data": {
      "text/plain": [
       "2"
      ]
     },
     "execution_count": 35,
     "metadata": {},
     "output_type": "execute_result"
    }
   ],
   "source": [
    "SS = round(Mrem * 60)\n",
    "SS"
   ]
  },
  {
   "cell_type": "code",
   "execution_count": 202,
   "id": "f80e614c-da2a-4bc8-b7b5-fd05cdf23ed6",
   "metadata": {},
   "outputs": [
    {
     "data": {
      "text/plain": [
       "'3472 days 83328 hours 19 minutes 60 seconds'"
      ]
     },
     "execution_count": 202,
     "metadata": {},
     "output_type": "execute_result"
    }
   ],
   "source": [
    "seconds = 300000000\n",
    "\n",
    "formatduration(seconds)"
   ]
  },
  {
   "cell_type": "code",
   "execution_count": 201,
   "id": "20fcd41e-2144-44e9-b38c-4a93c86ed7fb",
   "metadata": {},
   "outputs": [
    {
     "name": "stdout",
     "output_type": "stream",
     "text": [
      "31536000 year\n",
      "['9 years']\n",
      "86400 day\n",
      "['9 years', '187 days']\n",
      "3600 hour\n",
      "['9 years', '187 days', '5 hours']\n",
      "60 minute\n",
      "['9 years', '187 days', '5 hours', '20 minutes']\n",
      "1 second\n"
     ]
    },
    {
     "data": {
      "text/plain": [
       "'9 years, 187 days, 5 hours and 20 minutes'"
      ]
     },
     "execution_count": 201,
     "metadata": {},
     "output_type": "execute_result"
    }
   ],
   "source": [
    "seconds = 300000000\n",
    "\n",
    "format_duration(seconds)"
   ]
  },
  {
   "cell_type": "markdown",
   "id": "095f7984-74c1-4ab4-b7dc-a56ee0bb64ad",
   "metadata": {},
   "source": [
    "Other from git  \n",
    "The way this one works is it looks at total seconds and checks if they are greater than number of seconds in: 1 year, 1 day, 1 hour, 1 minute, and 1 second through a for loop. If it is greater, then calculates number of respective time and adds to a list, before adding, runs a pluralize function to plural the time or not. Finnally, it subtracts the time in seconds it just added to the list, and continues the loop, until reaching the degree of second.\n",
    "\n",
    "Last is a super compact f string that adds the list of numbers and words"
   ]
  },
  {
   "cell_type": "code",
   "execution_count": 199,
   "id": "462983ad-7a6a-49e0-876e-db510b37c59a",
   "metadata": {},
   "outputs": [],
   "source": [
    "def pluralize(n, word):\n",
    "    if n == 1:\n",
    "        return '{} {}'.format(n, word)\n",
    "        \n",
    "    return '{} {}s'.format(n, word)\n",
    "        \n",
    "def format_duration(seconds):\n",
    "    if seconds == 0:\n",
    "        return \"now\"\n",
    "    \n",
    "    ONE_MINUTE = 60\n",
    "    ONE_HOUR = 60 * ONE_MINUTE\n",
    "    ONE_DAY = 24 * ONE_HOUR\n",
    "    ONE_YEAR = 365 * ONE_DAY\n",
    "    \n",
    "    units = (\n",
    "        (ONE_YEAR, 'year'),\n",
    "        (ONE_DAY, 'day'),\n",
    "        (ONE_HOUR, 'hour'),\n",
    "        (ONE_MINUTE, 'minute'),\n",
    "        (1, 'second'),\n",
    "    )\n",
    "        \n",
    "    r = []\n",
    "    for unit in units:\n",
    "        time_period, word = unit\n",
    "        print(time_period, word)\n",
    "        if seconds >= time_period:\n",
    "            n = int(seconds / time_period)\n",
    "            r.append(pluralize(n, word))\n",
    "            print(r)\n",
    "            seconds -= n * time_period\n",
    "    \n",
    "    return ' and'.join(', '.join(r).rsplit(',', 1))"
   ]
  },
  {
   "cell_type": "code",
   "execution_count": 203,
   "id": "caad9edc-2051-424e-aad6-854ce1784658",
   "metadata": {},
   "outputs": [],
   "source": [
    "r = ['9 years', '187 days', '5 hours', '20 minutes']"
   ]
  },
  {
   "cell_type": "markdown",
   "id": "ea1721ec-f1f3-4c36-a77c-f4150b79053b",
   "metadata": {},
   "source": [
    "joins all elements in list with `', '` then separates last element by the `','` just added"
   ]
  },
  {
   "cell_type": "code",
   "execution_count": 204,
   "id": "3862f65d-2947-4a3b-b8f2-7783cb11745b",
   "metadata": {},
   "outputs": [
    {
     "data": {
      "text/plain": [
       "['9 years, 187 days, 5 hours', ' 20 minutes']"
      ]
     },
     "execution_count": 204,
     "metadata": {},
     "output_type": "execute_result"
    }
   ],
   "source": [
    "a =', '.join(r).rsplit(',',1)\n",
    "a"
   ]
  },
  {
   "cell_type": "markdown",
   "id": "16611478-3d83-4d06-940b-73dc7d707fb8",
   "metadata": {},
   "source": [
    "Joins the last element with an `' and'`"
   ]
  },
  {
   "cell_type": "code",
   "execution_count": 205,
   "id": "17e452a3-91dc-446b-bc33-0622deebd686",
   "metadata": {},
   "outputs": [
    {
     "data": {
      "text/plain": [
       "'9 years, 187 days, 5 hours and 20 minutes'"
      ]
     },
     "execution_count": 205,
     "metadata": {},
     "output_type": "execute_result"
    }
   ],
   "source": [
    "' and'.join(a)"
   ]
  },
  {
   "cell_type": "code",
   "execution_count": 200,
   "id": "9a139eca-d990-4be6-973e-44d027704599",
   "metadata": {},
   "outputs": [
    {
     "name": "stdout",
     "output_type": "stream",
     "text": [
      "31536000 year\n",
      "86400 day\n",
      "3600 hour\n",
      "60 minute\n",
      "['2 minutes']\n",
      "1 second\n",
      "['2 minutes', '1 second']\n"
     ]
    },
    {
     "data": {
      "text/plain": [
       "'2 minutes and 1 second'"
      ]
     },
     "execution_count": 200,
     "metadata": {},
     "output_type": "execute_result"
    }
   ],
   "source": [
    "seconds = 121\n",
    "\n",
    "format_duration(seconds)"
   ]
  },
  {
   "cell_type": "markdown",
   "id": "61c8aeff-2908-4854-af3c-a67f130ab443",
   "metadata": {},
   "source": [
    "#### Lessons learned: \n",
    "If code is repeating more than once/twice, make a generic function like for `pluralize` situation that solves it.  \n",
    "If we have several variables that operate on, make a list of them and iterate over. Also good to then print with join.  \n",
    "Don't get stuck in a single method/function and try to force it to work. Make an overall requirements list, and try to see how several options/functions might go about it. Here got stuck on the `.format()` method, even though it was not even needed. "
   ]
  },
  {
   "cell_type": "markdown",
   "id": "26105a1d-47df-47b9-a75c-a80f2a420bce",
   "metadata": {},
   "source": [
    "### Sudoku validator"
   ]
  },
  {
   "cell_type": "markdown",
   "id": "7d0a0e8d-91a9-427f-83cf-619ce3f2ac23",
   "metadata": {},
   "source": [
    "Must not contain any '0'.  \n",
    "Each row and column must have all the digits from 1 to 9."
   ]
  },
  {
   "cell_type": "code",
   "execution_count": 284,
   "id": "11c82462-ce14-4bd5-8640-76eafd627ecf",
   "metadata": {},
   "outputs": [],
   "source": [
    "data = [\n",
    "  [5, 3, 4, 6, 7, 8, 9, 1, 2],\n",
    "  [6, 7, 2, 1, 9, 5, 3, 4, 8],\n",
    "  [1, 9, 8, 3, 4, 2, 5, 6, 7],\n",
    "  [8, 5, 9, 7, 6, 1, 4, 2, 3],\n",
    "  [4, 2, 6, 8, 5, 3, 7, 9, 1],\n",
    "  [7, 1, 3, 9, 2, 4, 8, 5, 6],\n",
    "  [9, 6, 1, 5, 3, 7, 2, 8, 4],\n",
    "  [2, 8, 7, 4, 1, 9, 6, 3, 5],\n",
    "  [3, 4, 5, 2, 8, 6, 1, 7, 9]\n",
    "]\n",
    "\n",
    "expected = True\n",
    "\n",
    "data2 = [\n",
    "  [5, 3, 4, 6, 7, 8, 9, 1, 2], \n",
    "  [6, 7, 2, 1, 9, 0, 3, 4, 8],\n",
    "  [1, 0, 0, 3, 4, 2, 5, 6, 0],\n",
    "  [8, 5, 9, 7, 6, 1, 0, 2, 0],\n",
    "  [4, 2, 6, 8, 5, 3, 7, 9, 1],\n",
    "  [7, 1, 3, 9, 2, 4, 8, 5, 6],\n",
    "  [9, 0, 1, 5, 3, 7, 2, 1, 4],\n",
    "  [2, 8, 7, 4, 1, 9, 6, 3, 5],\n",
    "  [3, 0, 0, 4, 8, 1, 1, 7, 9]\n",
    "]\n",
    "\n",
    "expected2 = False"
   ]
  },
  {
   "cell_type": "code",
   "execution_count": 236,
   "id": "3533c64c-b356-4b50-a529-6da7155e9182",
   "metadata": {},
   "outputs": [
    {
     "data": {
      "text/plain": [
       "1"
      ]
     },
     "execution_count": 236,
     "metadata": {},
     "output_type": "execute_result"
    }
   ],
   "source": [
    "data2[1].count(0)"
   ]
  },
  {
   "cell_type": "code",
   "execution_count": 249,
   "id": "d6ffdd41-e539-44a4-aa38-8cadc9830d5e",
   "metadata": {},
   "outputs": [
    {
     "data": {
      "text/plain": [
       "False"
      ]
     },
     "execution_count": 249,
     "metadata": {},
     "output_type": "execute_result"
    }
   ],
   "source": [
    "data_set = set(data2[-1])\n",
    "\n",
    "len(data_set)==len(data2[-1])"
   ]
  },
  {
   "cell_type": "code",
   "execution_count": 250,
   "id": "5022e248-3c8d-42b6-a5c5-c8ea8a01cba2",
   "metadata": {},
   "outputs": [
    {
     "name": "stdout",
     "output_type": "stream",
     "text": [
      "[5, 3, 4, 6, 7, 8, 9, 1, 2]\n",
      "True\n",
      "[6, 7, 2, 1, 9, 0, 3, 4, 8]\n",
      "False\n",
      "[1, 0, 0, 3, 4, 2, 5, 6, 0]\n",
      "False\n",
      "[8, 5, 9, 7, 6, 1, 0, 2, 0]\n",
      "False\n",
      "[4, 2, 6, 8, 5, 3, 7, 9, 1]\n",
      "True\n",
      "[7, 1, 3, 9, 2, 4, 8, 5, 6]\n",
      "True\n",
      "[9, 0, 1, 5, 3, 7, 2, 1, 4]\n",
      "False\n",
      "[2, 8, 7, 4, 1, 9, 6, 3, 5]\n",
      "True\n",
      "[3, 0, 0, 4, 8, 1, 1, 7, 9]\n",
      "False\n"
     ]
    }
   ],
   "source": [
    "# check for 0's\n",
    "\n",
    "for num in data2:\n",
    "    print(num)\n",
    "    if 0 in num:\n",
    "        print (False)\n",
    "    else:\n",
    "        print (True)"
   ]
  },
  {
   "cell_type": "code",
   "execution_count": 251,
   "id": "61dd4a5f-f5c5-45f5-a13e-2ce4cead33a3",
   "metadata": {},
   "outputs": [
    {
     "name": "stdout",
     "output_type": "stream",
     "text": [
      "[5, 3, 4, 6, 7, 8, 9, 1, 2]\n",
      "True\n",
      "[6, 7, 2, 1, 9, 0, 3, 4, 8]\n",
      "True\n",
      "[1, 0, 0, 3, 4, 2, 5, 6, 0]\n",
      "False\n",
      "[8, 5, 9, 7, 6, 1, 0, 2, 0]\n",
      "False\n",
      "[4, 2, 6, 8, 5, 3, 7, 9, 1]\n",
      "True\n",
      "[7, 1, 3, 9, 2, 4, 8, 5, 6]\n",
      "True\n",
      "[9, 0, 1, 5, 3, 7, 2, 1, 4]\n",
      "False\n",
      "[2, 8, 7, 4, 1, 9, 6, 3, 5]\n",
      "True\n",
      "[3, 0, 0, 4, 8, 1, 1, 7, 9]\n",
      "False\n"
     ]
    }
   ],
   "source": [
    "# Check rows for duplicates\n",
    "for row in data2:\n",
    "    print(row)\n",
    "    print( len(row) == len(set(row)))"
   ]
  },
  {
   "cell_type": "code",
   "execution_count": 281,
   "id": "3d6f85aa-0470-4e67-b89a-f22b95f7206f",
   "metadata": {},
   "outputs": [
    {
     "data": {
      "text/plain": [
       "[(5, 6, 1, 8, 4, 7, 9, 2, 3),\n",
       " (3, 7, 0, 5, 2, 1, 0, 8, 0),\n",
       " (4, 2, 0, 9, 6, 3, 1, 7, 0),\n",
       " (6, 1, 3, 7, 8, 9, 5, 4, 4),\n",
       " (7, 9, 4, 6, 5, 2, 3, 1, 8),\n",
       " (8, 0, 2, 1, 3, 4, 7, 9, 1),\n",
       " (9, 3, 5, 0, 7, 8, 2, 6, 1),\n",
       " (1, 4, 6, 2, 9, 5, 1, 3, 7),\n",
       " (2, 8, 0, 0, 1, 6, 4, 5, 9)]"
      ]
     },
     "execution_count": 281,
     "metadata": {},
     "output_type": "execute_result"
    }
   ],
   "source": [
    "# transpose the list of lists with zip \n",
    "\n",
    "data2_T =list(zip(*data2))\n",
    "data2_T"
   ]
  },
  {
   "cell_type": "code",
   "execution_count": 276,
   "id": "3ed3f371-dbb3-44c6-92e1-dc328dc73447",
   "metadata": {},
   "outputs": [
    {
     "name": "stdout",
     "output_type": "stream",
     "text": [
      "(5, 6, 1, 8, 4, 7, 9, 2, 3)\n",
      "True\n",
      "(3, 7, 0, 5, 2, 1, 0, 8, 0)\n",
      "False\n",
      "(4, 2, 0, 9, 6, 3, 1, 7, 0)\n",
      "False\n",
      "(6, 1, 3, 7, 8, 9, 5, 4, 4)\n",
      "False\n",
      "(7, 9, 4, 6, 5, 2, 3, 1, 8)\n",
      "True\n",
      "(8, 0, 2, 1, 3, 4, 7, 9, 1)\n",
      "False\n",
      "(9, 3, 5, 0, 7, 8, 2, 6, 1)\n",
      "True\n",
      "(1, 4, 6, 2, 9, 5, 1, 3, 7)\n",
      "False\n",
      "(2, 8, 0, 0, 1, 6, 4, 5, 9)\n",
      "False\n"
     ]
    }
   ],
   "source": [
    "# check columns for duplicates\n",
    "for col in data2_T:\n",
    "    print(col)\n",
    "    print( len(col) == len(set(col)))"
   ]
  },
  {
   "cell_type": "code",
   "execution_count": 334,
   "id": "4a9599af-c259-499c-9289-1179140a2b27",
   "metadata": {},
   "outputs": [
    {
     "data": {
      "text/plain": [
       "[]"
      ]
     },
     "execution_count": 334,
     "metadata": {},
     "output_type": "execute_result"
    }
   ],
   "source": [
    "# compress to a comprehension\n",
    "check_zeros = [True for num in data if 0 in num]\n",
    "check_zeros"
   ]
  },
  {
   "cell_type": "code",
   "execution_count": 335,
   "id": "f2d72b49-e736-4341-9612-8a74f21c4766",
   "metadata": {},
   "outputs": [
    {
     "data": {
      "text/plain": [
       "True"
      ]
     },
     "execution_count": 335,
     "metadata": {},
     "output_type": "execute_result"
    }
   ],
   "source": [
    "not any(check_zeros)"
   ]
  },
  {
   "cell_type": "code",
   "execution_count": 319,
   "id": "ffca709f-7e46-4a01-85d1-41cb56a685d2",
   "metadata": {},
   "outputs": [
    {
     "data": {
      "text/plain": [
       "[True, True, True, True, True, True, True, True, True]"
      ]
     },
     "execution_count": 319,
     "metadata": {},
     "output_type": "execute_result"
    }
   ],
   "source": [
    "check_row_dupes = [len(row) == len(set(row)) for row in data]\n",
    "check_row_dupes"
   ]
  },
  {
   "cell_type": "code",
   "execution_count": 320,
   "id": "1541544d-57f5-4064-a85d-2348010c6945",
   "metadata": {},
   "outputs": [
    {
     "data": {
      "text/plain": [
       "True"
      ]
     },
     "execution_count": 320,
     "metadata": {},
     "output_type": "execute_result"
    }
   ],
   "source": [
    "all(check_row_dupes)"
   ]
  },
  {
   "cell_type": "code",
   "execution_count": 333,
   "id": "a307f464-ea74-4b3a-8b21-c079f560893b",
   "metadata": {},
   "outputs": [
    {
     "data": {
      "text/plain": [
       "[True, True, True, True, True, True, True, True, True]"
      ]
     },
     "execution_count": 333,
     "metadata": {},
     "output_type": "execute_result"
    }
   ],
   "source": [
    "data2_T =list(zip(*data))\n",
    "check_col_dupes = [len(col) == len(set(col)) for col in data2_T]\n",
    "check_col_dupes"
   ]
  },
  {
   "cell_type": "code",
   "execution_count": 328,
   "id": "d5e9b1c1-3f69-4cd0-b6bc-94d0c45dffcf",
   "metadata": {},
   "outputs": [],
   "source": [
    "def valid_solution(board):\n",
    "    # transpose board\n",
    "    board_T =list(zip(*board))\n",
    "    \n",
    "    check_zeros = [True for row in board if 0 in row]\n",
    "        \n",
    "    check_row_dupes = [len(row) == len(set(row)) for row in board]\n",
    "    \n",
    "    check_col_dupes = [len(col) == len(set(col)) for col in board_T]\n",
    "    \n",
    "    return not any(check_zeros) and all(check_row_dupes) and all(check_col_dupes)"
   ]
  },
  {
   "cell_type": "code",
   "execution_count": 329,
   "id": "6c06c285-1328-4972-ba64-3c10a4c45ecd",
   "metadata": {},
   "outputs": [
    {
     "data": {
      "text/plain": [
       "True"
      ]
     },
     "execution_count": 329,
     "metadata": {},
     "output_type": "execute_result"
    }
   ],
   "source": [
    "valid_solution(data)"
   ]
  },
  {
   "cell_type": "code",
   "execution_count": 330,
   "id": "aa6b3e8b-a9ee-4615-ad89-01c85fb50b38",
   "metadata": {},
   "outputs": [
    {
     "data": {
      "text/plain": [
       "False"
      ]
     },
     "execution_count": 330,
     "metadata": {},
     "output_type": "execute_result"
    }
   ],
   "source": [
    "valid_solution(data2)"
   ]
  },
  {
   "cell_type": "code",
   "execution_count": 332,
   "id": "b65dcd11-5664-4dc0-8f1a-7d12943e1e24",
   "metadata": {},
   "outputs": [
    {
     "data": {
      "text/plain": [
       "False"
      ]
     },
     "execution_count": 332,
     "metadata": {},
     "output_type": "execute_result"
    }
   ],
   "source": [
    "True and False and True"
   ]
  },
  {
   "cell_type": "code",
   "execution_count": null,
   "id": "d41e6e5c-84f6-4a4c-85f9-35d58b20a9e7",
   "metadata": {},
   "outputs": [],
   "source": []
  }
 ],
 "metadata": {
  "kernelspec": {
   "display_name": "Python 3 (ipykernel)",
   "language": "python",
   "name": "python3"
  },
  "language_info": {
   "codemirror_mode": {
    "name": "ipython",
    "version": 3
   },
   "file_extension": ".py",
   "mimetype": "text/x-python",
   "name": "python",
   "nbconvert_exporter": "python",
   "pygments_lexer": "ipython3",
   "version": "3.9.7"
  }
 },
 "nbformat": 4,
 "nbformat_minor": 5
}
