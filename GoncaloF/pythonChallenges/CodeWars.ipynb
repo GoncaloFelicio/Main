{
 "cells": [
  {
   "cell_type": "markdown",
   "id": "65b4a88c-0c49-49b8-b63b-22999506ea30",
   "metadata": {},
   "source": [
    "# Code wars challenges "
   ]
  },
  {
   "cell_type": "code",
   "execution_count": 34,
   "id": "55341861-d19c-4016-8928-dfedafc9516c",
   "metadata": {},
   "outputs": [],
   "source": [
    "def get_count(sentence):\n",
    "    newstring = ''.join(sentence.split())\n",
    "    count = 0\n",
    "    for char in newstring:\n",
    "        if char == 'a' or char == 'e' or char == 'i' or char == 'o' or char == 'u':\n",
    "            count += 1\n",
    "    return count"
   ]
  },
  {
   "cell_type": "code",
   "execution_count": 38,
   "id": "6ad26dcb-ef10-4b5d-87f8-c43aa20b2a8a",
   "metadata": {},
   "outputs": [],
   "source": [
    "test = 'this is a test string'\n",
    "# result should be 5"
   ]
  },
  {
   "cell_type": "code",
   "execution_count": 39,
   "id": "2da766cc-fdfc-4129-9628-f2494d47d959",
   "metadata": {},
   "outputs": [
    {
     "data": {
      "text/plain": [
       "5"
      ]
     },
     "execution_count": 39,
     "metadata": {},
     "output_type": "execute_result"
    }
   ],
   "source": [
    "get_count(test)"
   ]
  },
  {
   "cell_type": "code",
   "execution_count": null,
   "id": "f59a2394-8c49-48b6-9f6a-3038e24af4cd",
   "metadata": {},
   "outputs": [],
   "source": [
    "def disemvowel(string_):\n",
    "    vowelsdict = {'a':'', 'e':'', 'i':'', 'o':'', 'u':'',\n",
    "                 'A':'', 'E':'', 'I':'', 'O':'', 'U':'',}\n",
    "    translateTable = string_.maketrans(vowelsdict)\n",
    "    return string_.translate(translateTable)"
   ]
  },
  {
   "cell_type": "markdown",
   "id": "db7efa6b-5fb3-40a0-a95c-567304cd15ce",
   "metadata": {},
   "source": [
    "### Square every digit in a number"
   ]
  },
  {
   "cell_type": "code",
   "execution_count": 48,
   "id": "cadb127c-da60-46aa-90a0-1d94fe474d94",
   "metadata": {},
   "outputs": [
    {
     "data": {
      "text/plain": [
       "['9', '1', '1', '9']"
      ]
     },
     "execution_count": 48,
     "metadata": {},
     "output_type": "execute_result"
    }
   ],
   "source": [
    "num  = 9119\n",
    "list1 = list(str(num))\n",
    "list1"
   ]
  },
  {
   "cell_type": "code",
   "execution_count": 59,
   "id": "4c55ceda-57b0-403a-aa8a-81dd71cbd48b",
   "metadata": {},
   "outputs": [
    {
     "data": {
      "text/plain": [
       "['81', '1', '1', '81']"
      ]
     },
     "execution_count": 59,
     "metadata": {},
     "output_type": "execute_result"
    }
   ],
   "source": [
    "nlist=[]\n",
    "for num in list1:\n",
    "    squareDigit = int(num)**2\n",
    "    nlist.append(str(squareDigit))\n",
    "\n",
    "nlist\n",
    "    "
   ]
  },
  {
   "cell_type": "code",
   "execution_count": 55,
   "id": "ccd47b4c-1460-4484-82c3-3b367844929b",
   "metadata": {},
   "outputs": [
    {
     "data": {
      "text/plain": [
       "811181"
      ]
     },
     "execution_count": 55,
     "metadata": {},
     "output_type": "execute_result"
    }
   ],
   "source": [
    "for num in nlist:\n",
    "    ''.join(num)"
   ]
  },
  {
   "cell_type": "markdown",
   "id": "a0608466-76a8-48a1-a073-35915fbcc73a",
   "metadata": {},
   "source": [
    "### Sum of multiples of 3 and 5 lower than x"
   ]
  },
  {
   "cell_type": "code",
   "execution_count": 1,
   "id": "cdedac63-7486-41e5-be9c-c615d15745a2",
   "metadata": {},
   "outputs": [],
   "source": [
    "num = 10"
   ]
  },
  {
   "cell_type": "code",
   "execution_count": 2,
   "id": "2bb66196-04c9-4aec-afaa-655a40090bb8",
   "metadata": {},
   "outputs": [
    {
     "data": {
      "text/plain": [
       "[0, 3, 5, 6, 9]"
      ]
     },
     "execution_count": 2,
     "metadata": {},
     "output_type": "execute_result"
    }
   ],
   "source": [
    "[x for x in range(num) if x % 3 == 0 or x % 5 == 0]"
   ]
  },
  {
   "cell_type": "code",
   "execution_count": 3,
   "id": "2455e108-9c4e-4360-a127-818168f7f997",
   "metadata": {},
   "outputs": [
    {
     "data": {
      "text/plain": [
       "[0, 1, 2, 3, 4, 5, 6, 7, 8, 9]"
      ]
     },
     "execution_count": 3,
     "metadata": {},
     "output_type": "execute_result"
    }
   ],
   "source": [
    "num = 10\n",
    "a =list(range(10))\n",
    "a"
   ]
  },
  {
   "cell_type": "code",
   "execution_count": 12,
   "id": "beb3e77b-a5cc-404a-8028-3553a8f015b7",
   "metadata": {},
   "outputs": [
    {
     "data": {
      "text/plain": [
       "True"
      ]
     },
     "execution_count": 12,
     "metadata": {},
     "output_type": "execute_result"
    }
   ],
   "source": [
    "bool([0,1,2,3])"
   ]
  },
  {
   "cell_type": "code",
   "execution_count": 5,
   "id": "e8800366-87ce-4490-8f8b-175d099f9e04",
   "metadata": {},
   "outputs": [],
   "source": [
    "def numfunc(num):\n",
    "    listOfNum = [x for x in range(num) if x % 3 == 0 or x % 5 == 0]\n",
    "    if listOfNum:\n",
    "        return sum(listOfNum[1:])\n",
    "    else:\n",
    "        return 0"
   ]
  },
  {
   "cell_type": "code",
   "execution_count": 6,
   "id": "88002c2f-ca4d-4299-933e-02dc2a044799",
   "metadata": {},
   "outputs": [
    {
     "data": {
      "text/plain": [
       "23"
      ]
     },
     "execution_count": 6,
     "metadata": {},
     "output_type": "execute_result"
    }
   ],
   "source": [
    "numfunc(10)"
   ]
  },
  {
   "cell_type": "code",
   "execution_count": 7,
   "id": "4c002729-490d-44be-9d61-d6b632744ac2",
   "metadata": {},
   "outputs": [
    {
     "data": {
      "text/plain": [
       "0"
      ]
     },
     "execution_count": 7,
     "metadata": {},
     "output_type": "execute_result"
    }
   ],
   "source": [
    "numfunc(-10)"
   ]
  },
  {
   "cell_type": "markdown",
   "id": "634fe8d4-e4a6-4654-8ddc-d4a20fc4404f",
   "metadata": {},
   "source": [
    "### Create a phone number from list of numbers"
   ]
  },
  {
   "cell_type": "code",
   "execution_count": 48,
   "id": "098dbcd7-018f-43d8-962f-6875788b05d6",
   "metadata": {},
   "outputs": [],
   "source": [
    "phone_list = [1,2,3,4,5,6,7,8,9,0,]"
   ]
  },
  {
   "cell_type": "code",
   "execution_count": 44,
   "id": "84ff288a-b1c9-4513-a727-a31a56f119ef",
   "metadata": {},
   "outputs": [
    {
     "name": "stdout",
     "output_type": "stream",
     "text": [
      "([1, 2, 3]) [4, 5, 6]-[7, 8, 9, 0]\n"
     ]
    }
   ],
   "source": [
    "print(f'({phone_list[0:3]}) {phone_list[3:6]}-{phone_list[6:]}')"
   ]
  },
  {
   "cell_type": "code",
   "execution_count": 56,
   "id": "085e47d8-da06-4e68-b594-d52944042f81",
   "metadata": {},
   "outputs": [
    {
     "data": {
      "text/plain": [
       "['1', '2', '3', '4', '5', '6', '7', '8', '9', '0']"
      ]
     },
     "execution_count": 56,
     "metadata": {},
     "output_type": "execute_result"
    }
   ],
   "source": [
    "[''.join(str(num)) for num in phone_list]"
   ]
  },
  {
   "cell_type": "markdown",
   "id": "ac22bc5e-638e-4187-9bcc-a3442677d748",
   "metadata": {},
   "source": [
    "OR"
   ]
  },
  {
   "cell_type": "code",
   "execution_count": 63,
   "id": "1e31816e-4f88-45aa-b2e8-aa5e5b53aeba",
   "metadata": {},
   "outputs": [
    {
     "data": {
      "text/plain": [
       "['1', '2', '3', '4', '5', '6', '7', '8', '9', '0']"
      ]
     },
     "execution_count": 63,
     "metadata": {},
     "output_type": "execute_result"
    }
   ],
   "source": [
    "list_string = list(map(str ,phone_list))\n",
    "list_string"
   ]
  },
  {
   "cell_type": "code",
   "execution_count": 64,
   "id": "c878a4d1-661d-41df-a36e-fc15f2f75a9b",
   "metadata": {},
   "outputs": [
    {
     "data": {
      "text/plain": [
       "'1234567890'"
      ]
     },
     "execution_count": 64,
     "metadata": {},
     "output_type": "execute_result"
    }
   ],
   "source": [
    "''.join(list(list_string))"
   ]
  },
  {
   "cell_type": "code",
   "execution_count": 65,
   "id": "f4de67b2-206a-4e5d-8f3b-e4009c767733",
   "metadata": {},
   "outputs": [
    {
     "data": {
      "text/plain": [
       "'123'"
      ]
     },
     "execution_count": 65,
     "metadata": {},
     "output_type": "execute_result"
    }
   ],
   "source": [
    "''.join(list(list_string)[0:3])"
   ]
  },
  {
   "cell_type": "code",
   "execution_count": 66,
   "id": "cd05861c-bc40-4488-8ec4-ffa0be93164d",
   "metadata": {},
   "outputs": [],
   "source": [
    "def create_phone_number(n):\n",
    "    string_list = list(map(str, n))\n",
    "    first_part = ''.join(string_list[0:3])\n",
    "    second_part = ''.join(string_list[3:6])\n",
    "    third_part = ''.join(string_list[6:])\n",
    "    print(f'({first_part}) {second_part}-{third_part}')"
   ]
  },
  {
   "cell_type": "code",
   "execution_count": 67,
   "id": "23e5cd8d-9eda-4c8c-b566-39acae86f528",
   "metadata": {},
   "outputs": [
    {
     "name": "stdout",
     "output_type": "stream",
     "text": [
      "(123) 456-7890\n"
     ]
    }
   ],
   "source": [
    "n = [1,2,3,4,5,6,7,8,9,0,]\n",
    "create_phone_number(n)"
   ]
  },
  {
   "cell_type": "markdown",
   "id": "1ab2d8df-20e7-4071-8cd2-227ed586f015",
   "metadata": {},
   "source": [
    "### Who Likes it?"
   ]
  },
  {
   "cell_type": "code",
   "execution_count": 69,
   "id": "edc46a7c-dc6f-48f0-bb94-0e5053fb8c1f",
   "metadata": {},
   "outputs": [],
   "source": [
    "list_of_names = ['alex','jacob','Mia']"
   ]
  },
  {
   "cell_type": "code",
   "execution_count": 77,
   "id": "58edfbad-75ec-4b00-b91e-39a3f0c21df2",
   "metadata": {},
   "outputs": [
    {
     "data": {
      "text/plain": [
       "3"
      ]
     },
     "execution_count": 77,
     "metadata": {},
     "output_type": "execute_result"
    }
   ],
   "source": [
    "len(list_of_names)"
   ]
  },
  {
   "cell_type": "markdown",
   "id": "5c24401b-b08f-4a06-b07c-9c0e36c1dcf8",
   "metadata": {},
   "source": [
    "Finished in browser"
   ]
  },
  {
   "cell_type": "markdown",
   "id": "206ce100-2d40-4f74-9ba0-ff71c7d1c724",
   "metadata": {},
   "source": [
    "### Snail Ordering"
   ]
  },
  {
   "cell_type": "code",
   "execution_count": 31,
   "id": "006fd583-73d7-454f-b5eb-df5f9a9b641b",
   "metadata": {},
   "outputs": [],
   "source": [
    "data = [[1, 2, 3, 4],\n",
    "        [12, 13, 14, 5],\n",
    "        [11, 16, 15, 6],\n",
    "        [10, 9, 8, 7]]\n",
    "\n",
    "data2 = [[1, 2, 3],\n",
    "        [4, 5, 6],\n",
    "        [7, 8, 9]]\n",
    "\n",
    "expected = [1, 2, 3, 4, 5, 6, 7, 8, 9, 10, 11, 12, 13, 14, 15, 16]\n",
    "expected2 = [1, 2, 3, 6, 9, 8, 7, 4, 5]\n"
   ]
  },
  {
   "cell_type": "code",
   "execution_count": 8,
   "id": "5d2b5cdc-0cfe-4ce2-91db-5b5a61cb57a5",
   "metadata": {},
   "outputs": [
    {
     "name": "stdout",
     "output_type": "stream",
     "text": [
      "[5]\n",
      "[5, 6]\n",
      "[5, 6, 5, 14, 13, 12]\n",
      "[]\n"
     ]
    }
   ],
   "source": [
    "unit_test = [[12, 13, 14, 5],\n",
    "            [11, 16, 15, 6],\n",
    "            [10, 9, 8, 7]]\n",
    "\n",
    "len(unit_test)\n",
    "\n",
    "test=[]\n",
    "for row in unit_test:\n",
    "    test += [row[-1]]\n",
    "    print(test)\n",
    "    del [unit_test[-1]]\n",
    "    \n",
    "if unit_test[-1]:\n",
    "    test += unit_test[-1][::-1]\n",
    "    print(test)\n",
    "    del unit_test[-1]\n",
    "\n",
    "print(unit_test)"
   ]
  },
  {
   "cell_type": "code",
   "execution_count": 11,
   "id": "08029358-863f-4481-8422-c1c01f3e27b9",
   "metadata": {},
   "outputs": [
    {
     "data": {
      "text/plain": [
       "[7, 8, 9, 10]"
      ]
     },
     "execution_count": 11,
     "metadata": {},
     "output_type": "execute_result"
    }
   ],
   "source": [
    "unit_test[-1][::-1]"
   ]
  },
  {
   "cell_type": "code",
   "execution_count": 27,
   "id": "1640f9a4-d6c4-44f0-8d8b-59112b9ed91c",
   "metadata": {},
   "outputs": [
    {
     "data": {
      "text/plain": [
       "[1, 2, 3, 4, 5, 6, 7, 8, 9, 10, 11, 12, 13, 14, 15, 16]"
      ]
     },
     "execution_count": 27,
     "metadata": {},
     "output_type": "execute_result"
    }
   ],
   "source": [
    "unit_test = [[1, 2, 3, 4],\n",
    "        [12, 13, 14, 5],\n",
    "        [11, 16, 15, 6],\n",
    "        [10, 9, 8, 7]]\n",
    "\n",
    "\n",
    "def SuperSnail(unit_test):\n",
    "    result = []\n",
    "    while len(unit_test) > 0: # go right\n",
    "        result += unit_test[0]\n",
    "        del unit_test[0]\n",
    "        #print(result)\n",
    "        #print(unit_test)\n",
    "\n",
    "        if len(unit_test) > 0: # go down\n",
    "            for row in unit_test:\n",
    "                result += [row[-1]]\n",
    "                del [row[-1]]\n",
    "                #print(result)\n",
    "                #print(unit_test)\n",
    "\n",
    "            if unit_test[-1]: # go left\n",
    "                result += unit_test[-1][::-1]\n",
    "                del unit_test[-1]\n",
    "                #print(result)\n",
    "                #print(unit_test)\n",
    "\n",
    "            for row in reversed(unit_test): # go up\n",
    "                result += [row[0]]\n",
    "                del row[0]\n",
    "                #print(result)\n",
    "                #print(unit_test)\n",
    "\n",
    "    return result\n",
    "result"
   ]
  },
  {
   "cell_type": "code",
   "execution_count": 32,
   "id": "a3234fdc-43db-4a0e-9a52-4c7df03131fd",
   "metadata": {},
   "outputs": [
    {
     "data": {
      "text/plain": [
       "[1, 2, 3, 4, 5, 6, 7, 8, 9, 10, 11, 12, 13, 14, 15, 16]"
      ]
     },
     "execution_count": 32,
     "metadata": {},
     "output_type": "execute_result"
    }
   ],
   "source": [
    "SuperSnail(unit_test)"
   ]
  },
  {
   "cell_type": "markdown",
   "id": "79316a5e-7a6e-46ae-8685-2657849c487f",
   "metadata": {},
   "source": [
    "### Human readable duration format"
   ]
  },
  {
   "cell_type": "code",
   "execution_count": 39,
   "id": "5d669ff7-d647-40c3-8dc0-bf1001b89edd",
   "metadata": {},
   "outputs": [],
   "source": [
    "data = 62 # seconds\n",
    "expected = '1 minute and 2 seconds'\n",
    "\n",
    "data2 = 3662\n",
    "expected2 = '1 hour, 1 minute and 2 seconds'\n"
   ]
  },
  {
   "cell_type": "code",
   "execution_count": 47,
   "id": "5bcbecf2-14b2-46d1-87b1-22b8c6190496",
   "metadata": {},
   "outputs": [],
   "source": [
    "def formatduration(seconds):\n",
    "    \n",
    "    DD, Drem = seconds // (24 * 3600), (seconds / (24 *3600)) % 1\n",
    "    HH, Hrem =  int(DD * 24), ( Drem * 24) % 1\n",
    "    MM, Mrem = int(Hrem * 60), (Hrem * 60) % 1\n",
    "    SS = round(Mrem * 60)\n",
    "    \n",
    "    return '{dayVal}{pluralD}{hourVal}{pluralH}{minuteVal}{pluralM}{secondVal}{pluralS}'.format(dayVal = str(DD)+' day' if DD > 0 else '',\n",
    "                                                                                                pluralD = 's' if DD > 1 else '',\n",
    "                                                                                                hourVal = ' '+str(HH)+' hour' if HH > 0 else '',\n",
    "                                                                                                pluralH = 's' if HH > 1 else '',\n",
    "                                                                                                minuteVal = ' '+str(int(MM))+' minute' if MM > 0 else '',\n",
    "                                                                                                pluralM = 's' if MM > 1 else '',\n",
    "                                                                                                secondVal = ' '+str(SS) + ' second'if SS > 0 else '',\n",
    "                                                                                                pluralS = 's' if SS > 1 else '')"
   ]
  },
  {
   "cell_type": "code",
   "execution_count": 50,
   "id": "032f845a-178f-4845-8203-4a6a8ee88bcb",
   "metadata": {},
   "outputs": [
    {
     "data": {
      "text/plain": [
       "(1, 0.03333333333333499)"
      ]
     },
     "execution_count": 50,
     "metadata": {},
     "output_type": "execute_result"
    }
   ],
   "source": [
    "seconds = 3662\n",
    "HH, Hrem = seconds // 3600, seconds / 3600 % 1\n",
    "MM, Mrem = int(Hrem * 60), (Hrem * 60) % 1\n",
    "MM,Mrem"
   ]
  },
  {
   "cell_type": "code",
   "execution_count": 51,
   "id": "33b668dd-88b8-4ccd-8434-ea9c4ffe6af6",
   "metadata": {},
   "outputs": [
    {
     "data": {
      "text/plain": [
       "(1, 0.01722222222222225)"
      ]
     },
     "execution_count": 51,
     "metadata": {},
     "output_type": "execute_result"
    }
   ],
   "source": [
    "HH, Hrem"
   ]
  },
  {
   "cell_type": "code",
   "execution_count": 52,
   "id": "c72ee90c-d2ec-4f33-a06d-57cf92e17efa",
   "metadata": {},
   "outputs": [
    {
     "data": {
      "text/plain": [
       "2"
      ]
     },
     "execution_count": 52,
     "metadata": {},
     "output_type": "execute_result"
    }
   ],
   "source": [
    "SS = round(Mrem * 60)\n",
    "SS"
   ]
  },
  {
   "cell_type": "code",
   "execution_count": 53,
   "id": "86d23fef-a0ee-4d45-b28a-f6bb303091fd",
   "metadata": {},
   "outputs": [
    {
     "data": {
      "text/plain": [
       "'3472 days 83328 hours 19 minutes 60 seconds'"
      ]
     },
     "execution_count": 53,
     "metadata": {},
     "output_type": "execute_result"
    }
   ],
   "source": [
    "seconds = 300000000\n",
    "\n",
    "formatduration(seconds)"
   ]
  },
  {
   "cell_type": "code",
   "execution_count": 201,
   "id": "bd89ee3e-fe8d-4770-b7f5-77051d07a5af",
   "metadata": {},
   "outputs": [
    {
     "name": "stdout",
     "output_type": "stream",
     "text": [
      "31536000 year\n",
      "['9 years']\n",
      "86400 day\n",
      "['9 years', '187 days']\n",
      "3600 hour\n",
      "['9 years', '187 days', '5 hours']\n",
      "60 minute\n",
      "['9 years', '187 days', '5 hours', '20 minutes']\n",
      "1 second\n"
     ]
    },
    {
     "data": {
      "text/plain": [
       "'9 years, 187 days, 5 hours and 20 minutes'"
      ]
     },
     "execution_count": 201,
     "metadata": {},
     "output_type": "execute_result"
    }
   ],
   "source": [
    "seconds = 300000000\n",
    "\n",
    "format_duration(seconds)"
   ]
  },
  {
   "cell_type": "markdown",
   "id": "f6001d93-2810-4eac-87eb-1dc99ee3a185",
   "metadata": {},
   "source": [
    "Other from git  \n",
    "The way this one works is it looks at total seconds and checks if they are greater than number of seconds in: 1 year, 1 day, 1 hour, 1 minute, and 1 second through a for loop. If it is greater, then calculates number of respective time and adds to a list, before adding, runs a pluralize function to plural the time or not. Finnally, it subtracts the time in seconds it just added to the list, and continues the loop, until reaching the degree of second.\n",
    "\n",
    "Last is a super compact f string that adds the list of numbers and words"
   ]
  },
  {
   "cell_type": "code",
   "execution_count": 199,
   "id": "103300e8-31f5-4889-914d-c83cc2be3472",
   "metadata": {},
   "outputs": [],
   "source": [
    "def pluralize(n, word):\n",
    "    if n == 1:\n",
    "        return '{} {}'.format(n, word)\n",
    "        \n",
    "    return '{} {}s'.format(n, word)\n",
    "        \n",
    "def format_duration(seconds):\n",
    "    if seconds == 0:\n",
    "        return \"now\"\n",
    "    \n",
    "    ONE_MINUTE = 60\n",
    "    ONE_HOUR = 60 * ONE_MINUTE\n",
    "    ONE_DAY = 24 * ONE_HOUR\n",
    "    ONE_YEAR = 365 * ONE_DAY\n",
    "    \n",
    "    units = (\n",
    "        (ONE_YEAR, 'year'),\n",
    "        (ONE_DAY, 'day'),\n",
    "        (ONE_HOUR, 'hour'),\n",
    "        (ONE_MINUTE, 'minute'),\n",
    "        (1, 'second'),\n",
    "    )\n",
    "        \n",
    "    r = []\n",
    "    for unit in units:\n",
    "        time_period, word = unit\n",
    "        print(time_period, word)\n",
    "        if seconds >= time_period:\n",
    "            n = int(seconds / time_period)\n",
    "            r.append(pluralize(n, word))\n",
    "            print(r)\n",
    "            seconds -= n * time_period\n",
    "    \n",
    "    return ' and'.join(', '.join(r).rsplit(',', 1))"
   ]
  },
  {
   "cell_type": "code",
   "execution_count": 203,
   "id": "350d4451-2411-4b9e-b6e6-dc1aabc150c7",
   "metadata": {},
   "outputs": [],
   "source": [
    "r = ['9 years', '187 days', '5 hours', '20 minutes']"
   ]
  },
  {
   "cell_type": "markdown",
   "id": "52c16cad-e4a8-4561-9b36-de1f5b0fdd35",
   "metadata": {},
   "source": [
    "joins all elements in list with `', '` then separates last element by the `','` just added"
   ]
  },
  {
   "cell_type": "code",
   "execution_count": 204,
   "id": "375b828b-e8f1-43bf-8075-3da0c4569d8d",
   "metadata": {},
   "outputs": [
    {
     "data": {
      "text/plain": [
       "['9 years, 187 days, 5 hours', ' 20 minutes']"
      ]
     },
     "execution_count": 204,
     "metadata": {},
     "output_type": "execute_result"
    }
   ],
   "source": [
    "a =', '.join(r).rsplit(',',1)\n",
    "a"
   ]
  },
  {
   "cell_type": "markdown",
   "id": "651313c2-6a1e-402b-b7d0-4cd32132ce04",
   "metadata": {},
   "source": [
    "Joins the last element with an `' and'`"
   ]
  },
  {
   "cell_type": "code",
   "execution_count": 205,
   "id": "1984404a-e2ab-495a-8d1b-004eeabd5227",
   "metadata": {},
   "outputs": [
    {
     "data": {
      "text/plain": [
       "'9 years, 187 days, 5 hours and 20 minutes'"
      ]
     },
     "execution_count": 205,
     "metadata": {},
     "output_type": "execute_result"
    }
   ],
   "source": [
    "' and'.join(a)"
   ]
  },
  {
   "cell_type": "code",
   "execution_count": 200,
   "id": "c4423818-ac79-4c99-9c97-fc0992af7d00",
   "metadata": {},
   "outputs": [
    {
     "name": "stdout",
     "output_type": "stream",
     "text": [
      "31536000 year\n",
      "86400 day\n",
      "3600 hour\n",
      "60 minute\n",
      "['2 minutes']\n",
      "1 second\n",
      "['2 minutes', '1 second']\n"
     ]
    },
    {
     "data": {
      "text/plain": [
       "'2 minutes and 1 second'"
      ]
     },
     "execution_count": 200,
     "metadata": {},
     "output_type": "execute_result"
    }
   ],
   "source": [
    "seconds = 121\n",
    "\n",
    "format_duration(seconds)"
   ]
  },
  {
   "cell_type": "markdown",
   "id": "5b3dd325-0cac-4c09-bb83-0483d2c54631",
   "metadata": {},
   "source": [
    "#### Lessons learned: \n",
    "If code is repeating more than once/twice, make a generic function like for `pluralize` situation that solves it.  \n",
    "If we have several variables that operate on, make a list of them and iterate over. Also good to then print with join.  \n",
    "Don't get stuck in a single method/function and try to force it to work. Make an overall requirements list, and try to see how several options/functions might go about it. Here got stuck on the `.format()` method, even though it was not even needed. "
   ]
  },
  {
   "cell_type": "markdown",
   "id": "e4e1d9dc-45cf-41df-aabb-a9a2238c78f8",
   "metadata": {},
   "source": [
    "### Sudoku validator"
   ]
  },
  {
   "cell_type": "markdown",
   "id": "f2535b0b-58b6-4290-abbb-76a88d07b1e7",
   "metadata": {},
   "source": [
    "Must not contain any '0'.  \n",
    "Each row and column must have all the digits from 1 to 9."
   ]
  },
  {
   "cell_type": "code",
   "execution_count": 179,
   "id": "102334ea-e877-490d-801d-0c812c186a81",
   "metadata": {},
   "outputs": [],
   "source": [
    "data = [\n",
    "  [5, 3, 4, 6, 7, 8, 9, 1, 2],\n",
    "  [6, 7, 2, 1, 9, 5, 3, 4, 8],\n",
    "  [1, 9, 8, 3, 4, 2, 5, 6, 7],\n",
    "  [8, 5, 9, 7, 6, 1, 4, 2, 3],\n",
    "  [4, 2, 6, 8, 5, 3, 7, 9, 1],\n",
    "  [7, 1, 3, 9, 2, 4, 8, 5, 6],\n",
    "  [9, 6, 1, 5, 3, 7, 2, 8, 4],\n",
    "  [2, 8, 7, 4, 1, 9, 6, 3, 5],\n",
    "  [3, 4, 5, 2, 8, 6, 1, 7, 9]\n",
    "]\n",
    "\n",
    "expected = True\n",
    "\n",
    "data2 = [\n",
    "  [5, 3, 4, 6, 7, 8, 9, 1, 2], \n",
    "  [6, 7, 2, 1, 9, 0, 3, 4, 8],\n",
    "  [1, 0, 0, 3, 4, 2, 5, 6, 0],\n",
    "  [8, 5, 9, 7, 6, 1, 0, 2, 0],\n",
    "  [4, 2, 6, 8, 5, 3, 7, 9, 1],\n",
    "  [7, 1, 3, 9, 2, 4, 8, 5, 6],\n",
    "  [9, 0, 1, 5, 3, 7, 2, 1, 4],\n",
    "  [2, 8, 7, 4, 1, 9, 6, 3, 5],\n",
    "  [3, 0, 0, 4, 8, 1, 1, 7, 5]\n",
    "]\n",
    "\n",
    "expected2 = False"
   ]
  },
  {
   "cell_type": "code",
   "execution_count": 236,
   "id": "d4e04ca0-73e3-4f24-b288-6f26d770cdb0",
   "metadata": {},
   "outputs": [
    {
     "data": {
      "text/plain": [
       "1"
      ]
     },
     "execution_count": 236,
     "metadata": {},
     "output_type": "execute_result"
    }
   ],
   "source": [
    "data2[1].count(0)"
   ]
  },
  {
   "cell_type": "code",
   "execution_count": 249,
   "id": "120d0b87-86a2-4d86-97d2-29c76a569c2c",
   "metadata": {},
   "outputs": [
    {
     "data": {
      "text/plain": [
       "False"
      ]
     },
     "execution_count": 249,
     "metadata": {},
     "output_type": "execute_result"
    }
   ],
   "source": [
    "data_set = set(data2[-1])\n",
    "\n",
    "len(data_set)==len(data2[-1])"
   ]
  },
  {
   "cell_type": "code",
   "execution_count": 250,
   "id": "f63479b6-5314-442d-84ed-b30e643ef23b",
   "metadata": {},
   "outputs": [
    {
     "name": "stdout",
     "output_type": "stream",
     "text": [
      "[5, 3, 4, 6, 7, 8, 9, 1, 2]\n",
      "True\n",
      "[6, 7, 2, 1, 9, 0, 3, 4, 8]\n",
      "False\n",
      "[1, 0, 0, 3, 4, 2, 5, 6, 0]\n",
      "False\n",
      "[8, 5, 9, 7, 6, 1, 0, 2, 0]\n",
      "False\n",
      "[4, 2, 6, 8, 5, 3, 7, 9, 1]\n",
      "True\n",
      "[7, 1, 3, 9, 2, 4, 8, 5, 6]\n",
      "True\n",
      "[9, 0, 1, 5, 3, 7, 2, 1, 4]\n",
      "False\n",
      "[2, 8, 7, 4, 1, 9, 6, 3, 5]\n",
      "True\n",
      "[3, 0, 0, 4, 8, 1, 1, 7, 9]\n",
      "False\n"
     ]
    }
   ],
   "source": [
    "# check for 0's\n",
    "for num in data2:\n",
    "    print(num)\n",
    "    if 0 in num:\n",
    "        print (False)\n",
    "    else:\n",
    "        print (True)"
   ]
  },
  {
   "cell_type": "code",
   "execution_count": 251,
   "id": "08e1c455-3c2f-4e1c-8177-5210ad6d7c28",
   "metadata": {},
   "outputs": [
    {
     "name": "stdout",
     "output_type": "stream",
     "text": [
      "[5, 3, 4, 6, 7, 8, 9, 1, 2]\n",
      "True\n",
      "[6, 7, 2, 1, 9, 0, 3, 4, 8]\n",
      "True\n",
      "[1, 0, 0, 3, 4, 2, 5, 6, 0]\n",
      "False\n",
      "[8, 5, 9, 7, 6, 1, 0, 2, 0]\n",
      "False\n",
      "[4, 2, 6, 8, 5, 3, 7, 9, 1]\n",
      "True\n",
      "[7, 1, 3, 9, 2, 4, 8, 5, 6]\n",
      "True\n",
      "[9, 0, 1, 5, 3, 7, 2, 1, 4]\n",
      "False\n",
      "[2, 8, 7, 4, 1, 9, 6, 3, 5]\n",
      "True\n",
      "[3, 0, 0, 4, 8, 1, 1, 7, 9]\n",
      "False\n"
     ]
    }
   ],
   "source": [
    "# Check rows for duplicates\n",
    "for row in data2:\n",
    "    print(row)\n",
    "    print( len(row) == len(set(row)))"
   ]
  },
  {
   "cell_type": "code",
   "execution_count": 281,
   "id": "499342b3-44b0-4529-b86e-06e0762a09d6",
   "metadata": {},
   "outputs": [
    {
     "data": {
      "text/plain": [
       "[(5, 6, 1, 8, 4, 7, 9, 2, 3),\n",
       " (3, 7, 0, 5, 2, 1, 0, 8, 0),\n",
       " (4, 2, 0, 9, 6, 3, 1, 7, 0),\n",
       " (6, 1, 3, 7, 8, 9, 5, 4, 4),\n",
       " (7, 9, 4, 6, 5, 2, 3, 1, 8),\n",
       " (8, 0, 2, 1, 3, 4, 7, 9, 1),\n",
       " (9, 3, 5, 0, 7, 8, 2, 6, 1),\n",
       " (1, 4, 6, 2, 9, 5, 1, 3, 7),\n",
       " (2, 8, 0, 0, 1, 6, 4, 5, 9)]"
      ]
     },
     "execution_count": 281,
     "metadata": {},
     "output_type": "execute_result"
    }
   ],
   "source": [
    "# transpose the list of lists with zip \n",
    "\n",
    "data2_T =list(zip(*data2))\n",
    "data2_T"
   ]
  },
  {
   "cell_type": "code",
   "execution_count": 276,
   "id": "7845ecb3-a433-4439-b5f6-2348e7f7f603",
   "metadata": {},
   "outputs": [
    {
     "name": "stdout",
     "output_type": "stream",
     "text": [
      "(5, 6, 1, 8, 4, 7, 9, 2, 3)\n",
      "True\n",
      "(3, 7, 0, 5, 2, 1, 0, 8, 0)\n",
      "False\n",
      "(4, 2, 0, 9, 6, 3, 1, 7, 0)\n",
      "False\n",
      "(6, 1, 3, 7, 8, 9, 5, 4, 4)\n",
      "False\n",
      "(7, 9, 4, 6, 5, 2, 3, 1, 8)\n",
      "True\n",
      "(8, 0, 2, 1, 3, 4, 7, 9, 1)\n",
      "False\n",
      "(9, 3, 5, 0, 7, 8, 2, 6, 1)\n",
      "True\n",
      "(1, 4, 6, 2, 9, 5, 1, 3, 7)\n",
      "False\n",
      "(2, 8, 0, 0, 1, 6, 4, 5, 9)\n",
      "False\n"
     ]
    }
   ],
   "source": [
    "# check columns for duplicates\n",
    "for col in data2_T:\n",
    "    print(col)\n",
    "    print( len(col) == len(set(col)))"
   ]
  },
  {
   "cell_type": "code",
   "execution_count": 334,
   "id": "a36839f1-4977-4954-bddb-d6c079b42200",
   "metadata": {},
   "outputs": [
    {
     "data": {
      "text/plain": [
       "[]"
      ]
     },
     "execution_count": 334,
     "metadata": {},
     "output_type": "execute_result"
    }
   ],
   "source": [
    "# compress to a comprehension\n",
    "check_zeros = [True for num in data if 0 in num]\n",
    "check_zeros"
   ]
  },
  {
   "cell_type": "code",
   "execution_count": 335,
   "id": "d038b3e1-cedc-44be-8a5d-9826f020bfc8",
   "metadata": {},
   "outputs": [
    {
     "data": {
      "text/plain": [
       "True"
      ]
     },
     "execution_count": 335,
     "metadata": {},
     "output_type": "execute_result"
    }
   ],
   "source": [
    "not any(check_zeros)"
   ]
  },
  {
   "cell_type": "code",
   "execution_count": 319,
   "id": "ef1455ac-4b1f-4788-8b34-995ad8d0fe08",
   "metadata": {},
   "outputs": [
    {
     "data": {
      "text/plain": [
       "[True, True, True, True, True, True, True, True, True]"
      ]
     },
     "execution_count": 319,
     "metadata": {},
     "output_type": "execute_result"
    }
   ],
   "source": [
    "check_row_dupes = [len(row) == len(set(row)) for row in data]\n",
    "check_row_dupes"
   ]
  },
  {
   "cell_type": "code",
   "execution_count": 320,
   "id": "18f0a5e5-7002-4d7a-9b6f-3f269c37192a",
   "metadata": {},
   "outputs": [
    {
     "data": {
      "text/plain": [
       "True"
      ]
     },
     "execution_count": 320,
     "metadata": {},
     "output_type": "execute_result"
    }
   ],
   "source": [
    "all(check_row_dupes)"
   ]
  },
  {
   "cell_type": "code",
   "execution_count": 333,
   "id": "9ee4a268-4238-4789-b0cd-2cd27cc8d5fe",
   "metadata": {},
   "outputs": [
    {
     "data": {
      "text/plain": [
       "[True, True, True, True, True, True, True, True, True]"
      ]
     },
     "execution_count": 333,
     "metadata": {},
     "output_type": "execute_result"
    }
   ],
   "source": [
    "data2_T =list(zip(*data))\n",
    "check_col_dupes = [len(col) == len(set(col)) for col in data2_T]\n",
    "check_col_dupes"
   ]
  },
  {
   "cell_type": "code",
   "execution_count": 332,
   "id": "943b2799-6b1f-4b16-9084-1b2ec3114449",
   "metadata": {},
   "outputs": [
    {
     "data": {
      "text/plain": [
       "False"
      ]
     },
     "execution_count": 332,
     "metadata": {},
     "output_type": "execute_result"
    }
   ],
   "source": [
    "True and False and True"
   ]
  },
  {
   "cell_type": "code",
   "execution_count": 328,
   "id": "e6303637-addd-404b-b9b8-2e38b944c109",
   "metadata": {},
   "outputs": [],
   "source": [
    "def valid_solution(board):\n",
    "    # transpose board\n",
    "    board_T =list(zip(*board))\n",
    "    \n",
    "    check_zeros = [True for row in board if 0 in row]\n",
    "        \n",
    "    check_row_dupes = [len(row) == len(set(row)) for row in board]\n",
    "    \n",
    "    check_col_dupes = [len(col) == len(set(col)) for col in board_T]\n",
    "    \n",
    "    return not any(check_zeros) and all(check_row_dupes) and all(check_col_dupes)"
   ]
  },
  {
   "cell_type": "code",
   "execution_count": 329,
   "id": "59b7c2c4-e94e-40df-9dd2-7d933e580308",
   "metadata": {},
   "outputs": [
    {
     "data": {
      "text/plain": [
       "True"
      ]
     },
     "execution_count": 329,
     "metadata": {},
     "output_type": "execute_result"
    }
   ],
   "source": [
    "valid_solution(data)"
   ]
  },
  {
   "cell_type": "code",
   "execution_count": 330,
   "id": "f53bb483-b23c-4eda-9efc-10498511c6cb",
   "metadata": {},
   "outputs": [
    {
     "data": {
      "text/plain": [
       "False"
      ]
     },
     "execution_count": 330,
     "metadata": {},
     "output_type": "execute_result"
    }
   ],
   "source": [
    "valid_solution(data2)"
   ]
  },
  {
   "cell_type": "code",
   "execution_count": 12,
   "id": "62849c02-6316-4598-ae85-5ce3b2239717",
   "metadata": {},
   "outputs": [
    {
     "data": {
      "text/plain": [
       "3"
      ]
     },
     "execution_count": 12,
     "metadata": {},
     "output_type": "execute_result"
    }
   ],
   "source": [
    "data2[0][1]"
   ]
  },
  {
   "cell_type": "code",
   "execution_count": 11,
   "id": "dcf9244d-d534-4ee6-aa35-bd4d3104a9a7",
   "metadata": {
    "collapsed": true,
    "jupyter": {
     "outputs_hidden": true
    },
    "tags": []
   },
   "outputs": [
    {
     "name": "stdout",
     "output_type": "stream",
     "text": [
      "True\n",
      "True\n",
      "True\n",
      "True\n",
      "True\n",
      "True\n",
      "True\n",
      "True\n",
      "True\n",
      "True\n",
      "True\n",
      "True\n",
      "True\n",
      "True\n",
      "False\n",
      "True\n",
      "True\n",
      "True\n",
      "True\n",
      "False\n",
      "False\n",
      "True\n",
      "True\n",
      "True\n",
      "True\n",
      "True\n",
      "False\n",
      "True\n",
      "True\n",
      "True\n",
      "True\n",
      "True\n",
      "True\n",
      "False\n",
      "True\n",
      "False\n",
      "True\n",
      "True\n",
      "True\n",
      "True\n",
      "True\n",
      "True\n",
      "True\n",
      "True\n",
      "True\n",
      "True\n",
      "True\n",
      "True\n",
      "True\n",
      "True\n",
      "True\n",
      "True\n",
      "True\n",
      "True\n",
      "True\n",
      "False\n",
      "True\n",
      "True\n",
      "True\n",
      "True\n",
      "True\n",
      "True\n",
      "True\n",
      "True\n",
      "True\n",
      "True\n",
      "True\n",
      "True\n",
      "True\n",
      "True\n",
      "True\n",
      "True\n",
      "True\n",
      "False\n",
      "False\n",
      "True\n",
      "True\n",
      "True\n",
      "True\n",
      "True\n",
      "True\n"
     ]
    }
   ],
   "source": [
    "# check for numbers in range 1-9\n",
    "for i in range(len(data2)):\n",
    "    for j in range(len(data2[0])):\n",
    "        if 1 <= data2[i][j] <= 9:\n",
    "            print( True )\n",
    "        else:\n",
    "            print( False )"
   ]
  },
  {
   "cell_type": "code",
   "execution_count": 118,
   "id": "a5c72da7-3129-4a15-af63-79d78f54dc1a",
   "metadata": {},
   "outputs": [],
   "source": [
    "def in_range(board):\n",
    "    try:\n",
    "        for i in range(len(board)):\n",
    "            for j in range(len(board[0])):\n",
    "                if 1 <= board[i][j] <= 9:\n",
    "                    pass\n",
    "                else:\n",
    "                    raise StopIteration\n",
    "        return True\n",
    "    except StopIteration:\n",
    "        return False"
   ]
  },
  {
   "cell_type": "code",
   "execution_count": 153,
   "id": "5ceb17b7-47e2-4ac1-be4e-48a70b05e82d",
   "metadata": {},
   "outputs": [],
   "source": [
    "data3 = [\n",
    "  [5, 3, 4, 6, 7, 8, 9, 1, 2],\n",
    "  [6, 7, 2, 1, 9, 5, 3, 4, 8],\n",
    "  [1, 9, 8, 3, 4, 2, 5, 6, 7],\n",
    "  [8, 5, 9, 7, 6, 1, 4, 2, 3],\n",
    "  [4, 2, 6, 8, 5, 3, 7, 9, 1],\n",
    "  [7, 1, 3, 9, 2, 4, 8, 5, 6],\n",
    "  [9, 6, 1, 8, 3, 7, 2, 8, 4],\n",
    "  [2, 8, 7, 4, 1, 9, 6, 3, 5],\n",
    "  [3, 4, 5, 2, 8, 6, 1, 7, 9]\n",
    "]"
   ]
  },
  {
   "cell_type": "code",
   "execution_count": 154,
   "id": "63563b11-f253-410d-981e-528ec4eb6e55",
   "metadata": {},
   "outputs": [
    {
     "data": {
      "text/plain": [
       "True"
      ]
     },
     "execution_count": 154,
     "metadata": {},
     "output_type": "execute_result"
    }
   ],
   "source": [
    "check = in_range(data)\n",
    "check"
   ]
  },
  {
   "cell_type": "code",
   "execution_count": 155,
   "id": "a3d4401b-4fc3-4a01-a040-73f73a410dd3",
   "metadata": {},
   "outputs": [
    {
     "name": "stdout",
     "output_type": "stream",
     "text": [
      "Not valid. Found a duplicated number in a row.\n"
     ]
    },
    {
     "data": {
      "text/plain": [
       "False"
      ]
     },
     "execution_count": 155,
     "metadata": {},
     "output_type": "execute_result"
    }
   ],
   "source": [
    "valid_solution2(data3)"
   ]
  },
  {
   "cell_type": "code",
   "execution_count": 170,
   "id": "d16b5eb9-a59f-4023-991f-09408b316a1a",
   "metadata": {},
   "outputs": [],
   "source": [
    "# check a single 3x3 square with initial coordinate n,m\n",
    "def check_square(board, n, m):\n",
    "    s = []\n",
    "    for i in range(n,n+3):\n",
    "        for j in range(m,m+3):\n",
    "            s += [board[i][j]]\n",
    "    s.sort()\n",
    "    if s == [1,2,3,4,5,6,7,8,9]:\n",
    "        return True\n",
    "    return False\n"
   ]
  },
  {
   "cell_type": "code",
   "execution_count": 159,
   "id": "896dfc2b-c1a5-4ec1-abe5-150b34028ac7",
   "metadata": {},
   "outputs": [
    {
     "data": {
      "text/plain": [
       "[5, 3, 4, 6, 7, 2, 1, 9, 8]"
      ]
     },
     "execution_count": 159,
     "metadata": {},
     "output_type": "execute_result"
    }
   ],
   "source": [
    "n,m = 0,0\n",
    "s = []\n",
    "for i in range(n,n+3):\n",
    "    for j in range(m,m+3):\n",
    "        s += [data[i][j]]\n",
    "s "
   ]
  },
  {
   "cell_type": "code",
   "execution_count": 168,
   "id": "0254daf9-c3dc-47dd-a251-6e909432adca",
   "metadata": {},
   "outputs": [
    {
     "data": {
      "text/plain": [
       "True"
      ]
     },
     "execution_count": 168,
     "metadata": {},
     "output_type": "execute_result"
    }
   ],
   "source": [
    "check_square(data3, 3, 0)"
   ]
  },
  {
   "cell_type": "code",
   "execution_count": 175,
   "id": "7e2de4ac-3d5f-471e-bd39-5a8b7556131c",
   "metadata": {},
   "outputs": [],
   "source": [
    "def check_all_squares(board):\n",
    "    try:\n",
    "        for i in range(0,9,3):\n",
    "            for j in range(0,9,3):\n",
    "                if check_square(board, i, j):\n",
    "                    pass\n",
    "                else:\n",
    "                    raise StopIteration\n",
    "    except StopIteration:\n",
    "        print('Square {}x{} is not valid'.format(i,j))\n",
    "        return False"
   ]
  },
  {
   "cell_type": "code",
   "execution_count": 172,
   "id": "02c98aa4-8613-4fd9-8caf-2b693136227d",
   "metadata": {},
   "outputs": [
    {
     "data": {
      "text/plain": [
       "[0, 3, 6]"
      ]
     },
     "execution_count": 172,
     "metadata": {},
     "output_type": "execute_result"
    }
   ],
   "source": [
    "list(range(0,9,3))"
   ]
  },
  {
   "cell_type": "code",
   "execution_count": 173,
   "id": "8dd63941-9c78-470e-a1c8-daf37123ece6",
   "metadata": {},
   "outputs": [
    {
     "data": {
      "text/plain": [
       "'Square 0x6 is not valid'"
      ]
     },
     "execution_count": 173,
     "metadata": {},
     "output_type": "execute_result"
    }
   ],
   "source": [
    "'Square {}x{} is not valid'.format(0,6)"
   ]
  },
  {
   "cell_type": "markdown",
   "id": "ee419bb0-1091-4744-b0d9-2479b3109207",
   "metadata": {},
   "source": [
    "Everything together - Finaly correct"
   ]
  },
  {
   "cell_type": "code",
   "execution_count": 189,
   "id": "e3dd5ba3-dc0b-47c2-bbf3-3c5f82aa73b4",
   "metadata": {},
   "outputs": [],
   "source": [
    "def in_range(board):\n",
    "    try:\n",
    "        for i in range(len(board)):\n",
    "            for j in range(len(board)):\n",
    "                if 1 <= board[i][j] <= 9:\n",
    "                    pass\n",
    "                else:\n",
    "                    raise StopIteration\n",
    "        return True\n",
    "    except StopIteration:\n",
    "        return False\n",
    "    \n",
    "    \n",
    "# check a single 3x3 square with initial coordinate n,m\n",
    "def check_square(board, n, m):\n",
    "    s = []\n",
    "    for i in range(n,n+3):\n",
    "        for j in range(m,m+3):\n",
    "            s += [board[i][j]]\n",
    "    s.sort()\n",
    "    if s == [1,2,3,4,5,6,7,8,9]:\n",
    "        return True\n",
    "    return False\n",
    "\n",
    "\n",
    "# checks all 3x3 squares with previous function\n",
    "def check_all_squares(board):\n",
    "    try:\n",
    "        for i in range(0,9,3):\n",
    "            for j in range(0,9,3):\n",
    "                if check_square(board, i, j):\n",
    "                    pass\n",
    "                else:\n",
    "                    raise StopIteration\n",
    "        return True\n",
    "    except StopIteration:\n",
    "        print('Square {}x{} is not valid'.format(i,j))\n",
    "        return False\n",
    "    \n",
    "    \n",
    "def valid_solution(board):\n",
    "    # transpose board\n",
    "    board_T =list(zip(*board))\n",
    "    \n",
    "    # check for number inside the range 1-9\n",
    "    check_range = in_range(board)\n",
    "    try:\n",
    "        if check_range:\n",
    "            pass\n",
    "        else:\n",
    "            raise StopIteration\n",
    "    except StopIteration:\n",
    "        print('Not valid. Found a number outside permissable range (1,9).')\n",
    "        return False\n",
    "    \n",
    "    #check for any 0'2 - not necessary after checking the range\n",
    "    check_zeros = [True for row in board if 0 in row]\n",
    "    try:\n",
    "        if not any(check_zeros):\n",
    "            pass\n",
    "        else:\n",
    "            raise StopIteration\n",
    "    except StopIteration:\n",
    "        print('Not valid. Found a zero on the board.')\n",
    "        return False\n",
    "    \n",
    "        \n",
    "    check_row_dupes = [len(row) == len(set(row)) for row in board]\n",
    "    try:\n",
    "        if all (check_row_dupes):\n",
    "            pass\n",
    "        else:\n",
    "            raise StopIteration\n",
    "    except StopIteration:\n",
    "        print('Not valid. Found a duplicated number in a row.')\n",
    "        return False\n",
    "    \n",
    "    check_col_dupes = [len(row) == len(set(row)) for row in board_T]\n",
    "    try:\n",
    "        if all (check_col_dupes):\n",
    "            pass\n",
    "        else:\n",
    "            raise StopIteration\n",
    "    except StopIteration:\n",
    "        print('Not valid. Found a duplicated number in a column.')\n",
    "        return False\n",
    "    \n",
    "    check_squares = check_all_squares(board)\n",
    "    if check_squares:\n",
    "        return True\n",
    "    else:\n",
    "        return False"
   ]
  },
  {
   "cell_type": "code",
   "execution_count": 191,
   "id": "fd1e913f-a71c-4817-849b-31dfa4c57235",
   "metadata": {},
   "outputs": [
    {
     "name": "stdout",
     "output_type": "stream",
     "text": [
      "Not valid. Found a duplicated number in a row.\n"
     ]
    },
    {
     "data": {
      "text/plain": [
       "False"
      ]
     },
     "execution_count": 191,
     "metadata": {},
     "output_type": "execute_result"
    }
   ],
   "source": [
    "valid_solution(data3)"
   ]
  },
  {
   "cell_type": "markdown",
   "id": "d4d0dced-e44a-44d4-aa13-31cf9918e83f",
   "metadata": {},
   "source": [
    "### Strip Comments"
   ]
  },
  {
   "cell_type": "code",
   "execution_count": 57,
   "id": "715e5e5a-c6d6-48eb-b613-15cc01002385",
   "metadata": {},
   "outputs": [],
   "source": [
    "# input \n",
    "data = [\"apples, pears # and bananas\\ngrapes\\nbananas !apples\", [\"#\", \"!\"]]"
   ]
  },
  {
   "cell_type": "code",
   "execution_count": 78,
   "id": "56f12baf-2e9e-4f23-8538-0c4829e5719c",
   "metadata": {},
   "outputs": [],
   "source": [
    "markers = [\"-\", \"!\"]\n",
    "string_unit_test = \"strawberries\\n- avocados lemons pears apples strawberries'\""
   ]
  },
  {
   "cell_type": "code",
   "execution_count": 80,
   "id": "2a84f85b-9a0a-4079-9534-2d5fb608c830",
   "metadata": {},
   "outputs": [
    {
     "data": {
      "text/plain": [
       "\"strawberries\\ndel avocados lemons pears apples strawberries'\""
      ]
     },
     "execution_count": 80,
     "metadata": {},
     "output_type": "execute_result"
    }
   ],
   "source": [
    "for marker in markers:\n",
    "    string_unit_test = string_unit_test.replace(marker, 'del')\n",
    "string_unit_test"
   ]
  },
  {
   "cell_type": "code",
   "execution_count": 69,
   "id": "190f65f4-3ac7-4ae8-af0c-11c7b4509593",
   "metadata": {},
   "outputs": [
    {
     "data": {
      "text/plain": [
       "['strawberries', \"del avocados lemons pears apples strawberries',\"]"
      ]
     },
     "execution_count": 69,
     "metadata": {},
     "output_type": "execute_result"
    }
   ],
   "source": [
    "lines = string_unit_test.splitlines()\n",
    "lines"
   ]
  },
  {
   "cell_type": "code",
   "execution_count": 70,
   "id": "62986c97-428c-4c44-a9b0-2a70315cde3d",
   "metadata": {},
   "outputs": [
    {
     "name": "stdout",
     "output_type": "stream",
     "text": [
      "['strawberries']\n",
      "['', \" avocados lemons pears apples strawberries',\"]\n"
     ]
    },
    {
     "data": {
      "text/plain": [
       "['strawberries', '']"
      ]
     },
     "execution_count": 70,
     "metadata": {},
     "output_type": "execute_result"
    }
   ],
   "source": [
    "result = []\n",
    "for string in lines:\n",
    "    strings_split = string.split('del')\n",
    "    print(strings_split)\n",
    "    if len(strings_split) > 1:\n",
    "        result += [strings_split[0]]\n",
    "    else:\n",
    "        result += strings_split\n",
    "        \n",
    "result"
   ]
  },
  {
   "cell_type": "code",
   "execution_count": 73,
   "id": "5bf61666-4adf-4341-911e-2d5916399bee",
   "metadata": {},
   "outputs": [
    {
     "data": {
      "text/plain": [
       "'strawberries\\n'"
      ]
     },
     "execution_count": 73,
     "metadata": {},
     "output_type": "execute_result"
    }
   ],
   "source": [
    "'\\n'.join(result)"
   ]
  },
  {
   "cell_type": "code",
   "execution_count": 91,
   "id": "256e386e-e071-487a-8f63-0d35dbaa7100",
   "metadata": {},
   "outputs": [],
   "source": [
    "def solution(string,markers):\n",
    "    for marker in markers:\n",
    "        string = string.replace(marker, 'del')\n",
    "    \n",
    "    result = []\n",
    "    for line in string.splitlines():\n",
    "        line_split = line.split('del')\n",
    "        \n",
    "        if len(line_split) > 1:\n",
    "            result += [line_split[0].strip()] # .strip to remove trailing whitespaces\n",
    "        else:\n",
    "            result += line_split\n",
    "    \n",
    "    return '\\n'.join(result)"
   ]
  },
  {
   "cell_type": "code",
   "execution_count": 90,
   "id": "8e45cfba-7325-4507-86aa-ab0f917a974e",
   "metadata": {},
   "outputs": [
    {
     "name": "stdout",
     "output_type": "stream",
     "text": [
      "['apples, pears ', ' and bananas']\n",
      "['grapes']\n",
      "['bananas ', 'apples']\n"
     ]
    },
    {
     "data": {
      "text/plain": [
       "'apples, pears\\ngrapes\\nbananas'"
      ]
     },
     "execution_count": 90,
     "metadata": {},
     "output_type": "execute_result"
    }
   ],
   "source": [
    "solution(\"apples, pears # and bananas\\ngrapes\\nbananas !apples\", [\"#\", \"!\"])"
   ]
  },
  {
   "cell_type": "code",
   "execution_count": 76,
   "id": "d9e99281-8ab9-45ed-a35e-81cfe490301b",
   "metadata": {},
   "outputs": [
    {
     "data": {
      "text/plain": [
       "'lemons strawberries \\nstrawberries cherries watermelons lemons\\nstrawberries \\n'"
      ]
     },
     "execution_count": 76,
     "metadata": {},
     "output_type": "execute_result"
    }
   ],
   "source": [
    "solution('lemons strawberries !\\nstrawberries cherries watermelons lemons\\nstrawberries -\\n- avocados lemons pears apples strawberries', ['-', '^', '!', '@', '#', \"'\", '?', ','])"
   ]
  },
  {
   "cell_type": "markdown",
   "id": "7de09a2a-89f3-498a-948b-e41f0e060598",
   "metadata": {},
   "source": [
    "### Range Extraction"
   ]
  },
  {
   "cell_type": "code",
   "execution_count": 93,
   "id": "f4e0bc6e-3a50-43a2-ab24-5d1a1ecc607d",
   "metadata": {},
   "outputs": [],
   "source": [
    "data = ([-10, -9, -8, -6, -3, -2, -1, 0, 1, 3, 4, 5, 7, 8, 9, 10, 11, 14, 15, 17, 18, 19, 20])\n",
    "# returns \"-10--8,-6,-3-1,3-5,7-11,14,15,17-20\""
   ]
  },
  {
   "cell_type": "code",
   "execution_count": 209,
   "id": "ed7b2f9c-bd5a-4fd6-9a0f-2c4cc9d1e145",
   "metadata": {},
   "outputs": [
    {
     "name": "stdout",
     "output_type": "stream",
     "text": [
      "[[-10, -8], [-6], [-3, 1], [3, 5], [7, 11], [14], [15], [17, 20]]\n"
     ]
    },
    {
     "data": {
      "text/plain": [
       "'-10--8,-6,-3-1,3-5,7-11,14,15,17-20'"
      ]
     },
     "execution_count": 209,
     "metadata": {},
     "output_type": "execute_result"
    }
   ],
   "source": [
    "consecutive_list(data)"
   ]
  },
  {
   "cell_type": "code",
   "execution_count": 197,
   "id": "e24794df-b358-4421-acee-b9318de60961",
   "metadata": {},
   "outputs": [],
   "source": [
    "unit_test = [-10, -9, -8, -6, -3, -2, -1, 0, 1, 3, 4, 5, 7, 8, 9, 10, 11, 14, 15, 17, 18, 19, 20]"
   ]
  },
  {
   "cell_type": "code",
   "execution_count": 210,
   "id": "ecabc201-9c50-4aaf-8c0c-f82474bf9319",
   "metadata": {},
   "outputs": [],
   "source": [
    "def solution(nums_list):\n",
    "    list_of_lists = []\n",
    "    new_list = [nums_list[0]]\n",
    "    for i in range(1, len(nums_list)):\n",
    "    \n",
    "        if nums_list[i] == nums_list[i-1] + 1:\n",
    "            new_list.append(nums_list[i])\n",
    "\n",
    "        else:\n",
    "            list_of_lists.append(new_list)\n",
    "            #print(new_list)\n",
    "            #print(list_of_lists)\n",
    "            new_list = [nums_list[i]]\n",
    "            #print(new_list)\n",
    "            \n",
    "        if i == len(nums_list) -1:\n",
    "            list_of_lists.append(new_list)\n",
    "        #print(list_of_lists)\n",
    "    \n",
    "    reduced_list = []\n",
    "    for list_a in list_of_lists:\n",
    "        if len(list_a) > 2:\n",
    "            reduced_list.append([list_a[0], list_a[-1]])\n",
    "        elif len(list_a) == 2:\n",
    "            reduced_list.append([list_a[0]])\n",
    "            reduced_list.append([list_a[1]])\n",
    "        else:\n",
    "            reduced_list.append(list_a)\n",
    "    print(reduced_list)\n",
    "\n",
    "    return ','.join(['-'.join(map(str,list_b)) for list_b in reduced_list ])"
   ]
  },
  {
   "cell_type": "code",
   "execution_count": 211,
   "id": "3c78b34c-a241-4142-bb53-27e6fc445797",
   "metadata": {},
   "outputs": [
    {
     "name": "stdout",
     "output_type": "stream",
     "text": [
      "[]\n",
      "[]\n",
      "[[-10, -9, -8]]\n",
      "[[-10, -9, -8], [-6]]\n",
      "[[-10, -9, -8], [-6]]\n",
      "[[-10, -9, -8], [-6]]\n",
      "[[-10, -9, -8], [-6]]\n",
      "[[-10, -9, -8], [-6]]\n",
      "[[-10, -9, -8], [-6], [-3, -2, -1, 0, 1]]\n",
      "[[-10, -9, -8], [-6], [-3, -2, -1, 0, 1]]\n",
      "[[-10, -9, -8], [-6], [-3, -2, -1, 0, 1]]\n",
      "[[-10, -9, -8], [-6], [-3, -2, -1, 0, 1], [3, 4, 5]]\n",
      "[[-10, -9, -8], [-6], [-3, -2, -1, 0, 1], [3, 4, 5]]\n",
      "[[-10, -9, -8], [-6], [-3, -2, -1, 0, 1], [3, 4, 5]]\n",
      "[[-10, -9, -8], [-6], [-3, -2, -1, 0, 1], [3, 4, 5]]\n",
      "[[-10, -9, -8], [-6], [-3, -2, -1, 0, 1], [3, 4, 5]]\n",
      "[[-10, -9, -8], [-6], [-3, -2, -1, 0, 1], [3, 4, 5], [7, 8, 9, 10, 11]]\n",
      "[[-10, -9, -8], [-6], [-3, -2, -1, 0, 1], [3, 4, 5], [7, 8, 9, 10, 11]]\n",
      "[[-10, -9, -8], [-6], [-3, -2, -1, 0, 1], [3, 4, 5], [7, 8, 9, 10, 11], [14, 15]]\n",
      "[[-10, -9, -8], [-6], [-3, -2, -1, 0, 1], [3, 4, 5], [7, 8, 9, 10, 11], [14, 15]]\n",
      "[[-10, -9, -8], [-6], [-3, -2, -1, 0, 1], [3, 4, 5], [7, 8, 9, 10, 11], [14, 15]]\n",
      "[[-10, -9, -8], [-6], [-3, -2, -1, 0, 1], [3, 4, 5], [7, 8, 9, 10, 11], [14, 15], [17, 18, 19, 20]]\n"
     ]
    }
   ],
   "source": [
    "list_of_lists = []\n",
    "new_list = [unit_test[0]]\n",
    "\n",
    "for i in range(1, len(unit_test)):\n",
    "    \n",
    "    if unit_test[i] == unit_test[i-1] + 1:\n",
    "        new_list.append(unit_test[i])\n",
    "\n",
    "    else:\n",
    "        list_of_lists.append(new_list)\n",
    "        #print(new_list)\n",
    "        #print(list_of_lists)\n",
    "        new_list = [unit_test[i]]\n",
    "        #print(new_list)\n",
    "        \n",
    "    if i == len(unit_test) -1:\n",
    "        list_of_lists.append(new_list)\n",
    "    print(list_of_lists)"
   ]
  },
  {
   "cell_type": "code",
   "execution_count": 160,
   "id": "c9f47bd6-ab8f-4865-ad1d-51fa63ed9316",
   "metadata": {},
   "outputs": [
    {
     "data": {
      "text/plain": [
       "[[-10, -9, -8], [-6], [-3, -2, -1], [2], [5], [7, 8, 9]]"
      ]
     },
     "execution_count": 160,
     "metadata": {},
     "output_type": "execute_result"
    }
   ],
   "source": [
    "list_of_lists"
   ]
  },
  {
   "cell_type": "code",
   "execution_count": 115,
   "id": "247529e8-4d8b-4fa7-82fb-0a2964a2b36f",
   "metadata": {},
   "outputs": [
    {
     "data": {
      "text/plain": [
       "[-10]"
      ]
     },
     "execution_count": 115,
     "metadata": {},
     "output_type": "execute_result"
    }
   ],
   "source": [
    "new_list = [unit_test[0]]\n",
    "new_list"
   ]
  },
  {
   "cell_type": "code",
   "execution_count": 116,
   "id": "9bd2e249-e966-47f4-a935-304622202dfe",
   "metadata": {},
   "outputs": [
    {
     "data": {
      "text/plain": [
       "[-10, -9]"
      ]
     },
     "execution_count": 116,
     "metadata": {},
     "output_type": "execute_result"
    }
   ],
   "source": [
    "new_list.append(unit_test[1])\n",
    "new_list"
   ]
  },
  {
   "cell_type": "code",
   "execution_count": 134,
   "id": "509d711b-25c0-42ae-ab26-45e6dcee902d",
   "metadata": {},
   "outputs": [],
   "source": [
    "list_of_lists = []\n",
    "new_list = [-10,-9,-8]"
   ]
  },
  {
   "cell_type": "code",
   "execution_count": 125,
   "id": "616542dc-54f5-4363-8fd7-7f88677d4994",
   "metadata": {},
   "outputs": [
    {
     "data": {
      "text/plain": [
       "[[-10, -9, -8]]"
      ]
     },
     "execution_count": 125,
     "metadata": {},
     "output_type": "execute_result"
    }
   ],
   "source": [
    "list_of_lists.append(new_list)\n",
    "list_of_lists"
   ]
  },
  {
   "cell_type": "code",
   "execution_count": 180,
   "id": "984f6939-5ed2-4906-967b-13ab106ea3e2",
   "metadata": {},
   "outputs": [
    {
     "data": {
      "text/plain": [
       "[[-10, -9, -8], [-6], [-3, -2, -1], [2], [5], [7, 8, 9]]"
      ]
     },
     "execution_count": 180,
     "metadata": {},
     "output_type": "execute_result"
    }
   ],
   "source": [
    "list_of_lists"
   ]
  },
  {
   "cell_type": "code",
   "execution_count": 185,
   "id": "84b9633f-8216-4c1f-be73-4fd6129d5bf9",
   "metadata": {},
   "outputs": [
    {
     "data": {
      "text/plain": [
       "[[-10, -8], [-6], [-3, -1], [2], [5], [7, 9]]"
      ]
     },
     "execution_count": 185,
     "metadata": {},
     "output_type": "execute_result"
    }
   ],
   "source": [
    "correct_list= []\n",
    "for list_ in list_of_lists:\n",
    "    if len(list_) > 1:\n",
    "        correct_list.append([list_[0], list_[-1]])\n",
    "    else:\n",
    "        correct_list.append(list_)\n",
    "correct_list"
   ]
  },
  {
   "cell_type": "code",
   "execution_count": 190,
   "id": "1ad894fd-139b-4949-a590-5e0a317d90be",
   "metadata": {},
   "outputs": [
    {
     "data": {
      "text/plain": [
       "'-10--8, -6, -3--1, 2, 5, 7-9'"
      ]
     },
     "execution_count": 190,
     "metadata": {},
     "output_type": "execute_result"
    }
   ],
   "source": [
    "a = ', '.join(['-'.join(map(str,list_)) for list_ in correct_list ])\n",
    "a"
   ]
  },
  {
   "cell_type": "code",
   "execution_count": 184,
   "id": "7c8f6b7f-ce65-44f6-bb9a-8fe4e2a4819c",
   "metadata": {},
   "outputs": [
    {
     "data": {
      "text/plain": [
       "[(1, 2)]"
      ]
     },
     "execution_count": 184,
     "metadata": {},
     "output_type": "execute_result"
    }
   ],
   "source": [
    "correct_list = []\n",
    "correct_list.append((1, 2))\n",
    "correct_list"
   ]
  },
  {
   "cell_type": "markdown",
   "id": "9b6476f0-3dc5-4a63-a34f-2d04bd227c37",
   "metadata": {},
   "source": [
    "### Permutations"
   ]
  },
  {
   "cell_type": "code",
   "execution_count": 33,
   "id": "23c8c8ad-6d0d-4837-a9e6-09405e16773b",
   "metadata": {},
   "outputs": [],
   "source": [
    "data = 'aabb'\n",
    "expected = ['aabb', 'abab', 'abba', 'baab', 'baba', 'bbaa']"
   ]
  },
  {
   "cell_type": "code",
   "execution_count": 88,
   "id": "0d73aa6c-0195-42d5-aadf-4db6e5695518",
   "metadata": {},
   "outputs": [],
   "source": [
    "# can use itertools to get the permutations from an iterable. Would work only if itertools is available.\n",
    "from itertools import combinations\n",
    "from itertools import permutations\n",
    "from itertools import product"
   ]
  },
  {
   "cell_type": "code",
   "execution_count": 46,
   "id": "b6c9115e-b71f-4912-acfc-e5183ce8edc6",
   "metadata": {
    "collapsed": true,
    "jupyter": {
     "outputs_hidden": true
    },
    "tags": []
   },
   "outputs": [
    {
     "name": "stdout",
     "output_type": "stream",
     "text": [
      "Help on class combinations in module itertools:\n",
      "\n",
      "class combinations(builtins.object)\n",
      " |  combinations(iterable, r)\n",
      " |  \n",
      " |  Return successive r-length combinations of elements in the iterable.\n",
      " |  \n",
      " |  combinations(range(4), 3) --> (0,1,2), (0,1,3), (0,2,3), (1,2,3)\n",
      " |  \n",
      " |  Methods defined here:\n",
      " |  \n",
      " |  __getattribute__(self, name, /)\n",
      " |      Return getattr(self, name).\n",
      " |  \n",
      " |  __iter__(self, /)\n",
      " |      Implement iter(self).\n",
      " |  \n",
      " |  __next__(self, /)\n",
      " |      Implement next(self).\n",
      " |  \n",
      " |  __reduce__(...)\n",
      " |      Return state information for pickling.\n",
      " |  \n",
      " |  __setstate__(...)\n",
      " |      Set state information for unpickling.\n",
      " |  \n",
      " |  __sizeof__(...)\n",
      " |      Returns size in memory, in bytes.\n",
      " |  \n",
      " |  ----------------------------------------------------------------------\n",
      " |  Static methods defined here:\n",
      " |  \n",
      " |  __new__(*args, **kwargs) from builtins.type\n",
      " |      Create and return a new object.  See help(type) for accurate signature.\n",
      "\n"
     ]
    }
   ],
   "source": [
    "help(combinations)"
   ]
  },
  {
   "cell_type": "code",
   "execution_count": 49,
   "id": "8b22219f-6e3f-4f37-8deb-4de21f4607ee",
   "metadata": {
    "collapsed": true,
    "jupyter": {
     "outputs_hidden": true
    },
    "tags": []
   },
   "outputs": [
    {
     "name": "stdout",
     "output_type": "stream",
     "text": [
      "Help on class permutations in module itertools:\n",
      "\n",
      "class permutations(builtins.object)\n",
      " |  permutations(iterable, r=None)\n",
      " |  \n",
      " |  Return successive r-length permutations of elements in the iterable.\n",
      " |  \n",
      " |  permutations(range(3), 2) --> (0,1), (0,2), (1,0), (1,2), (2,0), (2,1)\n",
      " |  \n",
      " |  Methods defined here:\n",
      " |  \n",
      " |  __getattribute__(self, name, /)\n",
      " |      Return getattr(self, name).\n",
      " |  \n",
      " |  __iter__(self, /)\n",
      " |      Implement iter(self).\n",
      " |  \n",
      " |  __next__(self, /)\n",
      " |      Implement next(self).\n",
      " |  \n",
      " |  __reduce__(...)\n",
      " |      Return state information for pickling.\n",
      " |  \n",
      " |  __setstate__(...)\n",
      " |      Set state information for unpickling.\n",
      " |  \n",
      " |  __sizeof__(...)\n",
      " |      Returns size in memory, in bytes.\n",
      " |  \n",
      " |  ----------------------------------------------------------------------\n",
      " |  Static methods defined here:\n",
      " |  \n",
      " |  __new__(*args, **kwargs) from builtins.type\n",
      " |      Create and return a new object.  See help(type) for accurate signature.\n",
      "\n"
     ]
    }
   ],
   "source": [
    "help(permutations)"
   ]
  },
  {
   "cell_type": "code",
   "execution_count": 50,
   "id": "5998b729-5af6-4e3e-971c-3a5461d57933",
   "metadata": {
    "collapsed": true,
    "jupyter": {
     "outputs_hidden": true
    },
    "tags": []
   },
   "outputs": [
    {
     "name": "stdout",
     "output_type": "stream",
     "text": [
      "Help on class product in module itertools:\n",
      "\n",
      "class product(builtins.object)\n",
      " |  product(*iterables, repeat=1) --> product object\n",
      " |  \n",
      " |  Cartesian product of input iterables.  Equivalent to nested for-loops.\n",
      " |  \n",
      " |  For example, product(A, B) returns the same as:  ((x,y) for x in A for y in B).\n",
      " |  The leftmost iterators are in the outermost for-loop, so the output tuples\n",
      " |  cycle in a manner similar to an odometer (with the rightmost element changing\n",
      " |  on every iteration).\n",
      " |  \n",
      " |  To compute the product of an iterable with itself, specify the number\n",
      " |  of repetitions with the optional repeat keyword argument. For example,\n",
      " |  product(A, repeat=4) means the same as product(A, A, A, A).\n",
      " |  \n",
      " |  product('ab', range(3)) --> ('a',0) ('a',1) ('a',2) ('b',0) ('b',1) ('b',2)\n",
      " |  product((0,1), (0,1), (0,1)) --> (0,0,0) (0,0,1) (0,1,0) (0,1,1) (1,0,0) ...\n",
      " |  \n",
      " |  Methods defined here:\n",
      " |  \n",
      " |  __getattribute__(self, name, /)\n",
      " |      Return getattr(self, name).\n",
      " |  \n",
      " |  __iter__(self, /)\n",
      " |      Implement iter(self).\n",
      " |  \n",
      " |  __next__(self, /)\n",
      " |      Implement next(self).\n",
      " |  \n",
      " |  __reduce__(...)\n",
      " |      Return state information for pickling.\n",
      " |  \n",
      " |  __setstate__(...)\n",
      " |      Set state information for unpickling.\n",
      " |  \n",
      " |  __sizeof__(...)\n",
      " |      Returns size in memory, in bytes.\n",
      " |  \n",
      " |  ----------------------------------------------------------------------\n",
      " |  Static methods defined here:\n",
      " |  \n",
      " |  __new__(*args, **kwargs) from builtins.type\n",
      " |      Create and return a new object.  See help(type) for accurate signature.\n",
      "\n"
     ]
    }
   ],
   "source": [
    "help(product)"
   ]
  },
  {
   "cell_type": "code",
   "execution_count": 65,
   "id": "bcd41d0f-308f-431b-bcec-5b9869ccd4a5",
   "metadata": {},
   "outputs": [],
   "source": [
    "test = 'aabb'\n",
    "\n",
    "# remeber that these functions create generators! Need to call them everytime we want a new list printed\n",
    "combs = combinations(test,len(test))\n",
    "perm = permutations (test,len(test))\n",
    "prod = product(test,repeat = len(test))"
   ]
  },
  {
   "cell_type": "code",
   "execution_count": 62,
   "id": "9f306e8f-ff99-4cb0-a701-88bd50b61af1",
   "metadata": {},
   "outputs": [
    {
     "data": {
      "text/plain": [
       "[('a', 'a', 'b', 'b')]"
      ]
     },
     "execution_count": 62,
     "metadata": {},
     "output_type": "execute_result"
    }
   ],
   "source": [
    "# only returns one element because combinations gives a sorted list, without repetitions, so only this\n",
    "# element satisfies that condition\n",
    "list(combs)"
   ]
  },
  {
   "cell_type": "code",
   "execution_count": 66,
   "id": "8d5eefea-310a-4aa4-ac8d-8e26315ee258",
   "metadata": {
    "collapsed": true,
    "jupyter": {
     "outputs_hidden": true
    },
    "tags": []
   },
   "outputs": [
    {
     "data": {
      "text/plain": [
       "[('a', 'a', 'b', 'b'),\n",
       " ('a', 'a', 'b', 'b'),\n",
       " ('a', 'b', 'a', 'b'),\n",
       " ('a', 'b', 'b', 'a'),\n",
       " ('a', 'b', 'a', 'b'),\n",
       " ('a', 'b', 'b', 'a'),\n",
       " ('a', 'a', 'b', 'b'),\n",
       " ('a', 'a', 'b', 'b'),\n",
       " ('a', 'b', 'a', 'b'),\n",
       " ('a', 'b', 'b', 'a'),\n",
       " ('a', 'b', 'a', 'b'),\n",
       " ('a', 'b', 'b', 'a'),\n",
       " ('b', 'a', 'a', 'b'),\n",
       " ('b', 'a', 'b', 'a'),\n",
       " ('b', 'a', 'a', 'b'),\n",
       " ('b', 'a', 'b', 'a'),\n",
       " ('b', 'b', 'a', 'a'),\n",
       " ('b', 'b', 'a', 'a'),\n",
       " ('b', 'a', 'a', 'b'),\n",
       " ('b', 'a', 'b', 'a'),\n",
       " ('b', 'a', 'a', 'b'),\n",
       " ('b', 'a', 'b', 'a'),\n",
       " ('b', 'b', 'a', 'a'),\n",
       " ('b', 'b', 'a', 'a')]"
      ]
     },
     "execution_count": 66,
     "metadata": {},
     "output_type": "execute_result"
    }
   ],
   "source": [
    "# returns all combinations of the sequence, even repeating elements, as some elements in the sequence are the same\n",
    "# look at first two permutations for example\n",
    "list(perm)"
   ]
  },
  {
   "cell_type": "code",
   "execution_count": 67,
   "id": "e64d4140-db16-40f5-86ba-053261b4d443",
   "metadata": {
    "collapsed": true,
    "jupyter": {
     "outputs_hidden": true
    },
    "tags": []
   },
   "outputs": [
    {
     "data": {
      "text/plain": [
       "[('a', 'a', 'a', 'a'),\n",
       " ('a', 'a', 'a', 'a'),\n",
       " ('a', 'a', 'a', 'b'),\n",
       " ('a', 'a', 'a', 'b'),\n",
       " ('a', 'a', 'a', 'a'),\n",
       " ('a', 'a', 'a', 'a'),\n",
       " ('a', 'a', 'a', 'b'),\n",
       " ('a', 'a', 'a', 'b'),\n",
       " ('a', 'a', 'b', 'a'),\n",
       " ('a', 'a', 'b', 'a'),\n",
       " ('a', 'a', 'b', 'b'),\n",
       " ('a', 'a', 'b', 'b'),\n",
       " ('a', 'a', 'b', 'a'),\n",
       " ('a', 'a', 'b', 'a'),\n",
       " ('a', 'a', 'b', 'b'),\n",
       " ('a', 'a', 'b', 'b'),\n",
       " ('a', 'a', 'a', 'a'),\n",
       " ('a', 'a', 'a', 'a'),\n",
       " ('a', 'a', 'a', 'b'),\n",
       " ('a', 'a', 'a', 'b'),\n",
       " ('a', 'a', 'a', 'a'),\n",
       " ('a', 'a', 'a', 'a'),\n",
       " ('a', 'a', 'a', 'b'),\n",
       " ('a', 'a', 'a', 'b'),\n",
       " ('a', 'a', 'b', 'a'),\n",
       " ('a', 'a', 'b', 'a'),\n",
       " ('a', 'a', 'b', 'b'),\n",
       " ('a', 'a', 'b', 'b'),\n",
       " ('a', 'a', 'b', 'a'),\n",
       " ('a', 'a', 'b', 'a'),\n",
       " ('a', 'a', 'b', 'b'),\n",
       " ('a', 'a', 'b', 'b'),\n",
       " ('a', 'b', 'a', 'a'),\n",
       " ('a', 'b', 'a', 'a'),\n",
       " ('a', 'b', 'a', 'b'),\n",
       " ('a', 'b', 'a', 'b'),\n",
       " ('a', 'b', 'a', 'a'),\n",
       " ('a', 'b', 'a', 'a'),\n",
       " ('a', 'b', 'a', 'b'),\n",
       " ('a', 'b', 'a', 'b'),\n",
       " ('a', 'b', 'b', 'a'),\n",
       " ('a', 'b', 'b', 'a'),\n",
       " ('a', 'b', 'b', 'b'),\n",
       " ('a', 'b', 'b', 'b'),\n",
       " ('a', 'b', 'b', 'a'),\n",
       " ('a', 'b', 'b', 'a'),\n",
       " ('a', 'b', 'b', 'b'),\n",
       " ('a', 'b', 'b', 'b'),\n",
       " ('a', 'b', 'a', 'a'),\n",
       " ('a', 'b', 'a', 'a'),\n",
       " ('a', 'b', 'a', 'b'),\n",
       " ('a', 'b', 'a', 'b'),\n",
       " ('a', 'b', 'a', 'a'),\n",
       " ('a', 'b', 'a', 'a'),\n",
       " ('a', 'b', 'a', 'b'),\n",
       " ('a', 'b', 'a', 'b'),\n",
       " ('a', 'b', 'b', 'a'),\n",
       " ('a', 'b', 'b', 'a'),\n",
       " ('a', 'b', 'b', 'b'),\n",
       " ('a', 'b', 'b', 'b'),\n",
       " ('a', 'b', 'b', 'a'),\n",
       " ('a', 'b', 'b', 'a'),\n",
       " ('a', 'b', 'b', 'b'),\n",
       " ('a', 'b', 'b', 'b'),\n",
       " ('a', 'a', 'a', 'a'),\n",
       " ('a', 'a', 'a', 'a'),\n",
       " ('a', 'a', 'a', 'b'),\n",
       " ('a', 'a', 'a', 'b'),\n",
       " ('a', 'a', 'a', 'a'),\n",
       " ('a', 'a', 'a', 'a'),\n",
       " ('a', 'a', 'a', 'b'),\n",
       " ('a', 'a', 'a', 'b'),\n",
       " ('a', 'a', 'b', 'a'),\n",
       " ('a', 'a', 'b', 'a'),\n",
       " ('a', 'a', 'b', 'b'),\n",
       " ('a', 'a', 'b', 'b'),\n",
       " ('a', 'a', 'b', 'a'),\n",
       " ('a', 'a', 'b', 'a'),\n",
       " ('a', 'a', 'b', 'b'),\n",
       " ('a', 'a', 'b', 'b'),\n",
       " ('a', 'a', 'a', 'a'),\n",
       " ('a', 'a', 'a', 'a'),\n",
       " ('a', 'a', 'a', 'b'),\n",
       " ('a', 'a', 'a', 'b'),\n",
       " ('a', 'a', 'a', 'a'),\n",
       " ('a', 'a', 'a', 'a'),\n",
       " ('a', 'a', 'a', 'b'),\n",
       " ('a', 'a', 'a', 'b'),\n",
       " ('a', 'a', 'b', 'a'),\n",
       " ('a', 'a', 'b', 'a'),\n",
       " ('a', 'a', 'b', 'b'),\n",
       " ('a', 'a', 'b', 'b'),\n",
       " ('a', 'a', 'b', 'a'),\n",
       " ('a', 'a', 'b', 'a'),\n",
       " ('a', 'a', 'b', 'b'),\n",
       " ('a', 'a', 'b', 'b'),\n",
       " ('a', 'b', 'a', 'a'),\n",
       " ('a', 'b', 'a', 'a'),\n",
       " ('a', 'b', 'a', 'b'),\n",
       " ('a', 'b', 'a', 'b'),\n",
       " ('a', 'b', 'a', 'a'),\n",
       " ('a', 'b', 'a', 'a'),\n",
       " ('a', 'b', 'a', 'b'),\n",
       " ('a', 'b', 'a', 'b'),\n",
       " ('a', 'b', 'b', 'a'),\n",
       " ('a', 'b', 'b', 'a'),\n",
       " ('a', 'b', 'b', 'b'),\n",
       " ('a', 'b', 'b', 'b'),\n",
       " ('a', 'b', 'b', 'a'),\n",
       " ('a', 'b', 'b', 'a'),\n",
       " ('a', 'b', 'b', 'b'),\n",
       " ('a', 'b', 'b', 'b'),\n",
       " ('a', 'b', 'a', 'a'),\n",
       " ('a', 'b', 'a', 'a'),\n",
       " ('a', 'b', 'a', 'b'),\n",
       " ('a', 'b', 'a', 'b'),\n",
       " ('a', 'b', 'a', 'a'),\n",
       " ('a', 'b', 'a', 'a'),\n",
       " ('a', 'b', 'a', 'b'),\n",
       " ('a', 'b', 'a', 'b'),\n",
       " ('a', 'b', 'b', 'a'),\n",
       " ('a', 'b', 'b', 'a'),\n",
       " ('a', 'b', 'b', 'b'),\n",
       " ('a', 'b', 'b', 'b'),\n",
       " ('a', 'b', 'b', 'a'),\n",
       " ('a', 'b', 'b', 'a'),\n",
       " ('a', 'b', 'b', 'b'),\n",
       " ('a', 'b', 'b', 'b'),\n",
       " ('b', 'a', 'a', 'a'),\n",
       " ('b', 'a', 'a', 'a'),\n",
       " ('b', 'a', 'a', 'b'),\n",
       " ('b', 'a', 'a', 'b'),\n",
       " ('b', 'a', 'a', 'a'),\n",
       " ('b', 'a', 'a', 'a'),\n",
       " ('b', 'a', 'a', 'b'),\n",
       " ('b', 'a', 'a', 'b'),\n",
       " ('b', 'a', 'b', 'a'),\n",
       " ('b', 'a', 'b', 'a'),\n",
       " ('b', 'a', 'b', 'b'),\n",
       " ('b', 'a', 'b', 'b'),\n",
       " ('b', 'a', 'b', 'a'),\n",
       " ('b', 'a', 'b', 'a'),\n",
       " ('b', 'a', 'b', 'b'),\n",
       " ('b', 'a', 'b', 'b'),\n",
       " ('b', 'a', 'a', 'a'),\n",
       " ('b', 'a', 'a', 'a'),\n",
       " ('b', 'a', 'a', 'b'),\n",
       " ('b', 'a', 'a', 'b'),\n",
       " ('b', 'a', 'a', 'a'),\n",
       " ('b', 'a', 'a', 'a'),\n",
       " ('b', 'a', 'a', 'b'),\n",
       " ('b', 'a', 'a', 'b'),\n",
       " ('b', 'a', 'b', 'a'),\n",
       " ('b', 'a', 'b', 'a'),\n",
       " ('b', 'a', 'b', 'b'),\n",
       " ('b', 'a', 'b', 'b'),\n",
       " ('b', 'a', 'b', 'a'),\n",
       " ('b', 'a', 'b', 'a'),\n",
       " ('b', 'a', 'b', 'b'),\n",
       " ('b', 'a', 'b', 'b'),\n",
       " ('b', 'b', 'a', 'a'),\n",
       " ('b', 'b', 'a', 'a'),\n",
       " ('b', 'b', 'a', 'b'),\n",
       " ('b', 'b', 'a', 'b'),\n",
       " ('b', 'b', 'a', 'a'),\n",
       " ('b', 'b', 'a', 'a'),\n",
       " ('b', 'b', 'a', 'b'),\n",
       " ('b', 'b', 'a', 'b'),\n",
       " ('b', 'b', 'b', 'a'),\n",
       " ('b', 'b', 'b', 'a'),\n",
       " ('b', 'b', 'b', 'b'),\n",
       " ('b', 'b', 'b', 'b'),\n",
       " ('b', 'b', 'b', 'a'),\n",
       " ('b', 'b', 'b', 'a'),\n",
       " ('b', 'b', 'b', 'b'),\n",
       " ('b', 'b', 'b', 'b'),\n",
       " ('b', 'b', 'a', 'a'),\n",
       " ('b', 'b', 'a', 'a'),\n",
       " ('b', 'b', 'a', 'b'),\n",
       " ('b', 'b', 'a', 'b'),\n",
       " ('b', 'b', 'a', 'a'),\n",
       " ('b', 'b', 'a', 'a'),\n",
       " ('b', 'b', 'a', 'b'),\n",
       " ('b', 'b', 'a', 'b'),\n",
       " ('b', 'b', 'b', 'a'),\n",
       " ('b', 'b', 'b', 'a'),\n",
       " ('b', 'b', 'b', 'b'),\n",
       " ('b', 'b', 'b', 'b'),\n",
       " ('b', 'b', 'b', 'a'),\n",
       " ('b', 'b', 'b', 'a'),\n",
       " ('b', 'b', 'b', 'b'),\n",
       " ('b', 'b', 'b', 'b'),\n",
       " ('b', 'a', 'a', 'a'),\n",
       " ('b', 'a', 'a', 'a'),\n",
       " ('b', 'a', 'a', 'b'),\n",
       " ('b', 'a', 'a', 'b'),\n",
       " ('b', 'a', 'a', 'a'),\n",
       " ('b', 'a', 'a', 'a'),\n",
       " ('b', 'a', 'a', 'b'),\n",
       " ('b', 'a', 'a', 'b'),\n",
       " ('b', 'a', 'b', 'a'),\n",
       " ('b', 'a', 'b', 'a'),\n",
       " ('b', 'a', 'b', 'b'),\n",
       " ('b', 'a', 'b', 'b'),\n",
       " ('b', 'a', 'b', 'a'),\n",
       " ('b', 'a', 'b', 'a'),\n",
       " ('b', 'a', 'b', 'b'),\n",
       " ('b', 'a', 'b', 'b'),\n",
       " ('b', 'a', 'a', 'a'),\n",
       " ('b', 'a', 'a', 'a'),\n",
       " ('b', 'a', 'a', 'b'),\n",
       " ('b', 'a', 'a', 'b'),\n",
       " ('b', 'a', 'a', 'a'),\n",
       " ('b', 'a', 'a', 'a'),\n",
       " ('b', 'a', 'a', 'b'),\n",
       " ('b', 'a', 'a', 'b'),\n",
       " ('b', 'a', 'b', 'a'),\n",
       " ('b', 'a', 'b', 'a'),\n",
       " ('b', 'a', 'b', 'b'),\n",
       " ('b', 'a', 'b', 'b'),\n",
       " ('b', 'a', 'b', 'a'),\n",
       " ('b', 'a', 'b', 'a'),\n",
       " ('b', 'a', 'b', 'b'),\n",
       " ('b', 'a', 'b', 'b'),\n",
       " ('b', 'b', 'a', 'a'),\n",
       " ('b', 'b', 'a', 'a'),\n",
       " ('b', 'b', 'a', 'b'),\n",
       " ('b', 'b', 'a', 'b'),\n",
       " ('b', 'b', 'a', 'a'),\n",
       " ('b', 'b', 'a', 'a'),\n",
       " ('b', 'b', 'a', 'b'),\n",
       " ('b', 'b', 'a', 'b'),\n",
       " ('b', 'b', 'b', 'a'),\n",
       " ('b', 'b', 'b', 'a'),\n",
       " ('b', 'b', 'b', 'b'),\n",
       " ('b', 'b', 'b', 'b'),\n",
       " ('b', 'b', 'b', 'a'),\n",
       " ('b', 'b', 'b', 'a'),\n",
       " ('b', 'b', 'b', 'b'),\n",
       " ('b', 'b', 'b', 'b'),\n",
       " ('b', 'b', 'a', 'a'),\n",
       " ('b', 'b', 'a', 'a'),\n",
       " ('b', 'b', 'a', 'b'),\n",
       " ('b', 'b', 'a', 'b'),\n",
       " ('b', 'b', 'a', 'a'),\n",
       " ('b', 'b', 'a', 'a'),\n",
       " ('b', 'b', 'a', 'b'),\n",
       " ('b', 'b', 'a', 'b'),\n",
       " ('b', 'b', 'b', 'a'),\n",
       " ('b', 'b', 'b', 'a'),\n",
       " ('b', 'b', 'b', 'b'),\n",
       " ('b', 'b', 'b', 'b'),\n",
       " ('b', 'b', 'b', 'a'),\n",
       " ('b', 'b', 'b', 'a'),\n",
       " ('b', 'b', 'b', 'b'),\n",
       " ('b', 'b', 'b', 'b')]"
      ]
     },
     "execution_count": 67,
     "metadata": {},
     "output_type": "execute_result"
    }
   ],
   "source": [
    "# returns the cartesian product, this is not what we are looking for in this exercise as it creates new elements.\n",
    "list(prod)"
   ]
  },
  {
   "cell_type": "code",
   "execution_count": 93,
   "id": "6afbd577-e80d-4236-b813-11a98b212aee",
   "metadata": {},
   "outputs": [
    {
     "data": {
      "text/plain": [
       "[('b', 'a', 'a', 'b'),\n",
       " ('a', 'a', 'b', 'b'),\n",
       " ('b', 'b', 'a', 'a'),\n",
       " ('a', 'b', 'b', 'a'),\n",
       " ('b', 'a', 'b', 'a'),\n",
       " ('a', 'b', 'a', 'b')]"
      ]
     },
     "execution_count": 93,
     "metadata": {},
     "output_type": "execute_result"
    }
   ],
   "source": [
    "unique_perms = list(set(permutations(test,len(test))))\n",
    "unique_perms"
   ]
  },
  {
   "cell_type": "code",
   "execution_count": 77,
   "id": "7be5a810-44ea-4dac-a474-d9fc7331da44",
   "metadata": {},
   "outputs": [
    {
     "name": "stdout",
     "output_type": "stream",
     "text": [
      "[('a', 'a', 'b', 'b'), ('a', 'b', 'a', 'b'), ('a', 'b', 'b', 'a'), ('b', 'a', 'a', 'b'), ('b', 'a', 'b', 'a'), ('b', 'b', 'a', 'a')]\n"
     ]
    }
   ],
   "source": [
    "unique_perms.sort()\n",
    "print(unique_perms)"
   ]
  },
  {
   "cell_type": "code",
   "execution_count": 81,
   "id": "7f0fbd7b-6301-4c7d-b852-803fd2350158",
   "metadata": {},
   "outputs": [],
   "source": [
    "result = [''.join(ele) for ele in unique_perms]"
   ]
  },
  {
   "cell_type": "code",
   "execution_count": 82,
   "id": "cfd53997-e22a-4a4c-821c-31277785c227",
   "metadata": {},
   "outputs": [
    {
     "data": {
      "text/plain": [
       "True"
      ]
     },
     "execution_count": 82,
     "metadata": {},
     "output_type": "execute_result"
    }
   ],
   "source": [
    "result == expected"
   ]
  },
  {
   "cell_type": "markdown",
   "id": "21a80fdd-23e7-4e84-a3e1-f62ea4ccd9d9",
   "metadata": {},
   "source": [
    "#### Solution:"
   ]
  },
  {
   "cell_type": "code",
   "execution_count": 31,
   "id": "4cb243d9-b3d4-4c44-aa6d-aee1d6270070",
   "metadata": {},
   "outputs": [],
   "source": [
    "from itertools import permutations\n",
    "\n",
    "def permutations_code(string):\n",
    "    \n",
    "    return result"
   ]
  },
  {
   "cell_type": "code",
   "execution_count": 34,
   "id": "fda50f3e-e629-41ce-bcc4-f036892535b2",
   "metadata": {},
   "outputs": [
    {
     "data": {
      "text/plain": [
       "True"
      ]
     },
     "execution_count": 34,
     "metadata": {},
     "output_type": "execute_result"
    }
   ],
   "source": [
    "permutations_code(data) == expected"
   ]
  },
  {
   "cell_type": "markdown",
   "id": "e2e64216-37c3-43b7-a751-e090a661d86e",
   "metadata": {},
   "source": [
    "Without using itertools, a permutation code must be done by itself (reinventing the wheel in a way). But this works for any language and no need for itertools module"
   ]
  },
  {
   "cell_type": "code",
   "execution_count": 35,
   "id": "4e5eece2-98c9-4edd-b1ff-2da9e04b0c5d",
   "metadata": {},
   "outputs": [],
   "source": [
    "perm_ant = ['a']\n",
    "novo_char = 'b'\n",
    "perm_seg = []\n",
    "for e in perm_ant[:]:\n",
    "    for i in range(len(perm_ant) + 1):\n",
    "        perm_seg.append(e[:i] + novo_char + e[i:])"
   ]
  },
  {
   "cell_type": "code",
   "execution_count": 36,
   "id": "2c300de6-33b5-49b4-b45e-d1a5fdc37cf0",
   "metadata": {},
   "outputs": [
    {
     "data": {
      "text/plain": [
       "['ba', 'ab']"
      ]
     },
     "execution_count": 36,
     "metadata": {},
     "output_type": "execute_result"
    }
   ],
   "source": [
    "perm_seg"
   ]
  },
  {
   "cell_type": "code",
   "execution_count": 23,
   "id": "bf4d17fd-07f1-4f24-88c3-4a46e372fe2e",
   "metadata": {},
   "outputs": [],
   "source": [
    "perm_ant = ['ba','ab']\n",
    "novo_char = 'c'\n",
    "perm_seg = []\n",
    "for e in perm_ant[:]:\n",
    "    for i in range(len(perm_ant) + 1):\n",
    "        perm_seg.append(e[:i] + novo_char + e[i:])"
   ]
  },
  {
   "cell_type": "code",
   "execution_count": 24,
   "id": "d0ef8896-a766-43df-a162-8f6cbe57ede2",
   "metadata": {},
   "outputs": [
    {
     "data": {
      "text/plain": [
       "['cba', 'bca', 'bac', 'cab', 'acb', 'abc']"
      ]
     },
     "execution_count": 24,
     "metadata": {},
     "output_type": "execute_result"
    }
   ],
   "source": [
    "perm_seg"
   ]
  },
  {
   "cell_type": "code",
   "execution_count": 37,
   "id": "ca1cda5a-1725-4c11-895f-ab168deba07d",
   "metadata": {},
   "outputs": [],
   "source": [
    "def my_permutations (string):\n",
    "    if len(string) < 1:\n",
    "        return [string]\n",
    "    else:\n",
    "        perms = []\n",
    "        for e in my_permutations(string[:-1]):\n",
    "            #print(e)\n",
    "            for i in range(len(e)+1):\n",
    "                #print(i)\n",
    "                #print(range(len(e)+1))\n",
    "                perms.append(e[:i] + string[-1] + e[i:])\n",
    "                #print(perms)\n",
    "        return perms"
   ]
  },
  {
   "cell_type": "code",
   "execution_count": 38,
   "id": "de6f2eec-ce31-4a52-969e-0cdeb3cb7b03",
   "metadata": {},
   "outputs": [
    {
     "data": {
      "text/plain": [
       "['321', '231', '213', '312', '132', '123']"
      ]
     },
     "execution_count": 38,
     "metadata": {},
     "output_type": "execute_result"
    }
   ],
   "source": [
    "my_permutations('123')"
   ]
  },
  {
   "cell_type": "code",
   "execution_count": 40,
   "id": "6b067398-2354-49e5-9caf-b6d62454276a",
   "metadata": {},
   "outputs": [
    {
     "data": {
      "text/plain": [
       "['bbaa',\n",
       " 'bbaa',\n",
       " 'baba',\n",
       " 'baab',\n",
       " 'baba',\n",
       " 'abba',\n",
       " 'abba',\n",
       " 'abab',\n",
       " 'baab',\n",
       " 'abab',\n",
       " 'aabb',\n",
       " 'aabb',\n",
       " 'bbaa',\n",
       " 'bbaa',\n",
       " 'baba',\n",
       " 'baab',\n",
       " 'baba',\n",
       " 'abba',\n",
       " 'abba',\n",
       " 'abab',\n",
       " 'baab',\n",
       " 'abab',\n",
       " 'aabb',\n",
       " 'aabb']"
      ]
     },
     "execution_count": 40,
     "metadata": {},
     "output_type": "execute_result"
    }
   ],
   "source": [
    "my_permutations('aabb')"
   ]
  },
  {
   "cell_type": "code",
   "execution_count": 45,
   "id": "ef703d34-ce79-4b3b-a09f-cbc00fdd417c",
   "metadata": {},
   "outputs": [],
   "source": [
    "def my_permutations (string):\n",
    "    if len(string) < 1:\n",
    "        return [string]\n",
    "    else:\n",
    "        perms = []\n",
    "        for e in my_permutations(string[:-1]):\n",
    "            #print(e)\n",
    "            for i in range(len(e)+1):\n",
    "                #print(i)\n",
    "                #print(range(len(e)+1))\n",
    "                perms.append(e[:i] + string[-1] + e[i:])\n",
    "                #print(perms)\n",
    "        perms = list(set(perms))\n",
    "        perms.sort()\n",
    "        return perms"
   ]
  },
  {
   "cell_type": "code",
   "execution_count": 46,
   "id": "d4bac636-ae15-4e0e-b00c-0e91ddca75ca",
   "metadata": {},
   "outputs": [
    {
     "data": {
      "text/plain": [
       "['aabb', 'abab', 'abba', 'baab', 'baba', 'bbaa']"
      ]
     },
     "execution_count": 46,
     "metadata": {},
     "output_type": "execute_result"
    }
   ],
   "source": [
    "my_permutations('aabb')"
   ]
  },
  {
   "cell_type": "code",
   "execution_count": 47,
   "id": "0f08d2f1-2ff7-4347-849c-0e2de26a83aa",
   "metadata": {},
   "outputs": [
    {
     "data": {
      "text/plain": [
       "['122', '212', '221']"
      ]
     },
     "execution_count": 47,
     "metadata": {},
     "output_type": "execute_result"
    }
   ],
   "source": [
    "my_permutations('122')"
   ]
  },
  {
   "cell_type": "markdown",
   "id": "5818b58a-222e-414f-86a1-a9e2fa807809",
   "metadata": {},
   "source": [
    "### Next Bigger number"
   ]
  },
  {
   "cell_type": "code",
   "execution_count": 48,
   "id": "ce3796d3-7e8b-4940-82d9-cd4303e91377",
   "metadata": {},
   "outputs": [],
   "source": [
    "data = 12\n",
    "data2 = 315\n",
    "data3 = 2017\n",
    "\n",
    "expected = 21\n",
    "expected2 = 351\n",
    "expected3 = 2071"
   ]
  },
  {
   "cell_type": "code",
   "execution_count": 53,
   "id": "3483d493-9c04-469b-9d0e-f013d230faf5",
   "metadata": {},
   "outputs": [
    {
     "data": {
      "text/plain": [
       "3"
      ]
     },
     "execution_count": 53,
     "metadata": {},
     "output_type": "execute_result"
    }
   ],
   "source": [
    "len(str(432))"
   ]
  },
  {
   "cell_type": "code",
   "execution_count": 63,
   "id": "d09e4612-830f-4731-b183-49ea0fa1a620",
   "metadata": {},
   "outputs": [
    {
     "data": {
      "text/plain": [
       "'123'"
      ]
     },
     "execution_count": 63,
     "metadata": {},
     "output_type": "execute_result"
    }
   ],
   "source": [
    "num = 123\n",
    "''.join(str(num))"
   ]
  },
  {
   "cell_type": "code",
   "execution_count": 97,
   "id": "93f3910c-32da-43b9-be31-9a99b2009c44",
   "metadata": {},
   "outputs": [],
   "source": [
    "def next_bigger(num):\n",
    "    perms = list(set(permutations(str(num),len(str(num)))))\n",
    "    list_of_nums = [''.join(nums) for nums in perms]\n",
    "    list_of_nums.sort()\n",
    "    \n",
    "    next_bigger_num = int(list_of_nums[list_of_nums.index(str(num)) + 1])\n",
    "    return next_bigger_num"
   ]
  },
  {
   "cell_type": "code",
   "execution_count": 98,
   "id": "e330345f-9dc7-4b3a-8131-eab7fca07eab",
   "metadata": {},
   "outputs": [
    {
     "data": {
      "text/plain": [
       "132"
      ]
     },
     "execution_count": 98,
     "metadata": {},
     "output_type": "execute_result"
    }
   ],
   "source": [
    "next_bigger(123)"
   ]
  }
 ],
 "metadata": {
  "kernelspec": {
   "display_name": "Python 3 (ipykernel)",
   "language": "python",
   "name": "python3"
  },
  "language_info": {
   "codemirror_mode": {
    "name": "ipython",
    "version": 3
   },
   "file_extension": ".py",
   "mimetype": "text/x-python",
   "name": "python",
   "nbconvert_exporter": "python",
   "pygments_lexer": "ipython3",
   "version": "3.9.11"
  }
 },
 "nbformat": 4,
 "nbformat_minor": 5
}
