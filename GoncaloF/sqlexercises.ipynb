{
 "cells": [
  {
   "cell_type": "code",
   "execution_count": 4,
   "metadata": {},
   "outputs": [
    {
     "ename": "ModuleNotFoundError",
     "evalue": "No module named 'google'",
     "output_type": "error",
     "traceback": [
      "\u001b[1;31m---------------------------------------------------------------------------\u001b[0m",
      "\u001b[1;31mModuleNotFoundError\u001b[0m                       Traceback (most recent call last)",
      "\u001b[1;32mC:\\Users\\GONCAL~1.FEL\\AppData\\Local\\Temp/ipykernel_2792/2040333403.py\u001b[0m in \u001b[0;36m<module>\u001b[1;34m\u001b[0m\n\u001b[0;32m      2\u001b[0m \u001b[1;31m# Set up feedack system\u001b[0m\u001b[1;33m\u001b[0m\u001b[1;33m\u001b[0m\u001b[0m\n\u001b[0;32m      3\u001b[0m \u001b[1;33m\u001b[0m\u001b[0m\n\u001b[1;32m----> 4\u001b[1;33m \u001b[1;32mfrom\u001b[0m \u001b[0mgoogle\u001b[0m\u001b[1;33m.\u001b[0m\u001b[0mcloud\u001b[0m \u001b[1;32mimport\u001b[0m \u001b[0mbigquery\u001b[0m\u001b[1;33m\u001b[0m\u001b[1;33m\u001b[0m\u001b[0m\n\u001b[0m\u001b[0;32m      5\u001b[0m \u001b[1;31m# Create a \"Client\" object\u001b[0m\u001b[1;33m\u001b[0m\u001b[1;33m\u001b[0m\u001b[0m\n\u001b[0;32m      6\u001b[0m \u001b[0mclient\u001b[0m \u001b[1;33m=\u001b[0m \u001b[0mbigquery\u001b[0m\u001b[1;33m.\u001b[0m\u001b[0mClient\u001b[0m\u001b[1;33m(\u001b[0m\u001b[1;33m)\u001b[0m\u001b[1;33m\u001b[0m\u001b[1;33m\u001b[0m\u001b[0m\n",
      "\u001b[1;31mModuleNotFoundError\u001b[0m: No module named 'google'"
     ]
    }
   ],
   "source": [
    "# Simple exercises with the chicago crime dataset from the intro to SQL course\n",
    "# Set up feedack system\n",
    "\n",
    "from google.cloud import bigquery\n",
    "# Create a \"Client\" object\n",
    "client = bigquery.Client()\n",
    "\n",
    "# Construct a reference to the \"chicago_crime\" dataset\n",
    "dataset_ref = client.dataset(\"chicago_crime\", project=\"bigquery-public-data\")\n",
    "\n",
    "# API request - fetch the dataset\n",
    "dataset = client.get_dataset(dataset_ref)\n",
    "\n",
    "# Get a reference to the \"crime\" table\n",
    "table_ref = dataset_ref.table(\"crime\")\n",
    "\n",
    "# API request - fetch the table referenced above\n",
    "table = client.get_table(table_ref)\n",
    "\n",
    "# Print first 5 rows to see the data\n",
    "client.list_rows(table,max_results=5).to_dataframe()"
   ]
  },
  {
   "cell_type": "code",
   "execution_count": null,
   "metadata": {},
   "outputs": [],
   "source": [
    "# Set up the query (cancel the query if it would use too much of \n",
    "# your quota, with the limit set to 10 gigabytes)\n",
    "TEN_GB = 10**10\n",
    "safe_config = bigquery.QueryJobConfig(maximum_bytes_billed=TEN_GB)"
   ]
  },
  {
   "cell_type": "code",
   "execution_count": null,
   "metadata": {},
   "outputs": [],
   "source": [
    "table.schema"
   ]
  },
  {
   "cell_type": "markdown",
   "metadata": {},
   "source": [
    "# Questions\n",
    "\n",
    "1 -What is the year with the highest offences count? (use columns description and year)\n",
    "\n",
    "2 -What are the 3 most common offences in each year? (use columns description and year)\n",
    "\n",
    "3 -What are the most common domestic offenses per year? (use columns description and year)\n",
    "\n",
    "4 -What are the most common offenses that lead to arrest? (use columns description and arrest)\n",
    "\n",
    "5 -What is the most common hour of day in which offenses are recored? (use field date)it set to choose one)"
   ]
  },
  {
   "cell_type": "code",
   "execution_count": null,
   "metadata": {},
   "outputs": [],
   "source": [
    "# 1 -What is the year with the highest offences count? (use columns description and year)\n",
    "first_query = \"\"\"\n",
    "            SELECT count(description) as Num_offences, year as Year\n",
    "            FROM `bigquery-public-data.chicago_crime.crime`\n",
    "            GROUP BY Year\n",
    "            ORDER BY Num_offences DESC\n",
    "            \"\"\"\n",
    "first_query_job = client.query(first_query, job_config=safe_config)\n",
    "\n",
    "# API request - run the query, and return a pandas DataFrame\n",
    "first_results = first_query_job.to_dataframe()\n",
    "\n",
    "# View top few rows of results\n",
    "print(first_results.head())\n",
    "\n"
   ]
  },
  {
   "cell_type": "code",
   "execution_count": null,
   "metadata": {},
   "outputs": [],
   "source": [
    "import pandas as pd\n",
    "import pandasql as ps\n",
    "\n",
    "pd.set_option(\"display.max_columns\", None)\n",
    "pd.set_option('display.max_rows', None)\n",
    "\n",
    "## Adjust width of pandas df\n",
    "pd.set_option('display.width', 1000)"
   ]
  },
  {
   "cell_type": "code",
   "execution_count": null,
   "metadata": {},
   "outputs": [],
   "source": [
    "# 2 -What are the 3 most common offences in each year? (use columns description and year)\n",
    "query_2 = \"\"\"\n",
    "            SELECT\n",
    "            *,\n",
    "            FROM(\n",
    "                SELECT\n",
    "                *, \n",
    "                ROW_NUMBER() OVER(PARTITION BY year ORDER BY Num_offences DESC) AS row_number\n",
    "                FROM( \n",
    "                    SELECT year, count(description) as Num_offences, description \n",
    "                    FROM `bigquery-public-data.chicago_crime.crime`\n",
    "                    GROUP BY Year, description\n",
    "                    )\n",
    "                )\n",
    "            WHERE row_number < 4\n",
    "            ORDER BY Year, Num_offences Desc\n",
    "            \"\"\"\n",
    "query_2_job = client.query(query_2, job_config=safe_config)\n",
    "\n",
    "# API request - run the query, and return a pandas DataFrame\n",
    "query_2_results = query_2_job.to_dataframe()\n",
    "\n",
    "# View top few rows of results\n",
    "print(query_2_results)"
   ]
  },
  {
   "cell_type": "code",
   "execution_count": null,
   "metadata": {},
   "outputs": [],
   "source": [
    "# 3 -What are the most common domestic offenses per year? (use columns description and year)\n",
    "query_2 = \"\"\"\n",
    "            SELECT\n",
    "            *,\n",
    "            FROM(\n",
    "                SELECT\n",
    "                *, \n",
    "                ROW_NUMBER() OVER(PARTITION BY year ORDER BY Num_offences DESC) AS row_number\n",
    "                FROM( \n",
    "                    SELECT count(description) as Num_Offences, year, description \n",
    "                    FROM `bigquery-public-data.chicago_crime.crime`\n",
    "                    WHERE description LIKE '%DOMESTIC%' \n",
    "                    GROUP BY year, description\n",
    "                    )\n",
    "                )\n",
    "            WHERE row_number = 1\n",
    "            ORDER BY year, Num_Offences DESC\n",
    "            \"\"\"\n",
    "query_2_job = client.query(query_2, job_config=safe_config)\n",
    "\n",
    "# API request - run the query, and return a pandas DataFrame\n",
    "query_2_results = query_2_job.to_dataframe()\n",
    "\n",
    "# View top few rows of results\n",
    "print(query_2_results)"
   ]
  },
  {
   "cell_type": "code",
   "execution_count": null,
   "metadata": {},
   "outputs": [],
   "source": [
    "# 4 -What are the most common offenses that lead to arrest? (use columns description and arrest)\n",
    "query_2 = \"\"\"\n",
    "            SELECT\n",
    "            *,\n",
    "            FROM(\n",
    "                SELECT\n",
    "                *, \n",
    "                ROW_NUMBER() OVER(PARTITION BY year ORDER BY Num_offences DESC) AS row_number\n",
    "                FROM( \n",
    "                    SELECT count(description) as Num_Offences, year, description \n",
    "                    FROM `bigquery-public-data.chicago_crime.crime`\n",
    "                    WHERE arrest = True\n",
    "                    GROUP BY year, description\n",
    "                    )\n",
    "                )\n",
    "            WHERE row_number = 1\n",
    "            ORDER BY year, Num_Offences DESC\n",
    "            \"\"\"\n",
    "query_2_job = client.query(query_2, job_config=safe_config)\n",
    "\n",
    "# API request - run the query, and return a pandas DataFrame\n",
    "query_2_results = query_2_job.to_dataframe()\n",
    "\n",
    "# View top few rows of results\n",
    "print(query_2_results)"
   ]
  },
  {
   "cell_type": "code",
   "execution_count": null,
   "metadata": {},
   "outputs": [],
   "source": [
    "# 5 -What is the most common hour of day in which offenses are recored? (use field date)\n",
    "query_2 = \"\"\"\n",
    "            SELECT COUNT(1) as Num_Offences, EXTRACT(HOUR FROM date) as Hour_of_day\n",
    "            FROM `bigquery-public-data.chicago_crime.crime`\n",
    "            Group by Hour_of_day\n",
    "            Order by Num_Offences DESC\n",
    "            LIMIT 5\n",
    "            \"\"\"\n",
    "query_2_job = client.query(query_2, job_config=safe_config)\n",
    "\n",
    "# API request - run the query, and return a pandas DataFrame\n",
    "query_2_results = query_2_job.to_dataframe()\n",
    "\n",
    "# View top few rows of results\n",
    "print(query_2_results)"
   ]
  },
  {
   "cell_type": "code",
   "execution_count": null,
   "metadata": {},
   "outputs": [],
   "source": [
    "# import pyodbc \n",
    "\n",
    "# conn = pyodbc.connect('Driver={SQL Server};'\n",
    "#                       'Server=;'\n",
    "#                       'Database=classicmodels;'\n",
    "#                       'Trusted_Connection=yes;')\n",
    "\n",
    "# cursor = conn.cursor()\n",
    "# cursor.execute('SELECT * FROM costumers')\n",
    "\n",
    "# for i in cursor:\n",
    "#     print(i)"
   ]
  },
  {
   "cell_type": "code",
   "execution_count": null,
   "metadata": {},
   "outputs": [],
   "source": []
  },
  {
   "cell_type": "code",
   "execution_count": null,
   "metadata": {},
   "outputs": [],
   "source": []
  }
 ],
 "metadata": {
  "kernelspec": {
   "display_name": "Python 3 (ipykernel)",
   "language": "python",
   "name": "python3"
  },
  "language_info": {
   "codemirror_mode": {
    "name": "ipython",
    "version": 3
   },
   "file_extension": ".py",
   "mimetype": "text/x-python",
   "name": "python",
   "nbconvert_exporter": "python",
   "pygments_lexer": "ipython3",
   "version": "3.9.7"
  }
 },
 "nbformat": 4,
 "nbformat_minor": 4
}
