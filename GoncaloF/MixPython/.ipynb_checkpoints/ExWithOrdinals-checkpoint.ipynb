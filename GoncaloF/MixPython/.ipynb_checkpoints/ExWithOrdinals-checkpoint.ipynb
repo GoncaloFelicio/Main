{
 "cells": [
  {
   "cell_type": "code",
   "execution_count": 8,
   "id": "76e60d62-bc04-4dca-9a42-17d1b4cc382b",
   "metadata": {},
   "outputs": [],
   "source": [
    "glossary_python = {'variables': 'a label assigned to a certain value',\n",
    "                   'list': 'a stored series of values',\n",
    "                   'if statement': 'a logical test applyed to values',\n",
    "                   'for loop': 'a way to automate repetitive tasks'}"
   ]
  },
  {
   "cell_type": "code",
   "execution_count": 7,
   "id": "7dd466a1-ccea-4b75-a420-579e110a2715",
   "metadata": {},
   "outputs": [
    {
     "data": {
      "text/plain": [
       "[(0, ('variables', 'a label assigned to a certain value')),\n",
       " (1, ('list', 'a stored series of values')),\n",
       " (2, ('if statement', 'a logical test applyed to values')),\n",
       " (3, ('for loop', 'a way to automate repetitive tasks'))]"
      ]
     },
     "execution_count": 7,
     "metadata": {},
     "output_type": "execute_result"
    }
   ],
   "source": [
    "list(enumerate(glossary_python.items()))"
   ]
  },
  {
   "cell_type": "code",
   "execution_count": 18,
   "id": "e72771e4-1dab-4fba-8195-c79ddef90727",
   "metadata": {},
   "outputs": [
    {
     "name": "stdout",
     "output_type": "stream",
     "text": [
      "1st\n",
      "2nd\n",
      "3rd\n",
      "4th\n"
     ]
    }
   ],
   "source": [
    "for n in range(4):\n",
    "    n = n+1\n",
    "    suffix = ['th', 'st', 'nd', 'rd', 'th'][min(n % 10, 4)]\n",
    "    print(str(n) + suffix)"
   ]
  },
  {
   "cell_type": "code",
   "execution_count": 22,
   "id": "eda66b0c-0bdf-4322-a4b8-8145bacf8e2c",
   "metadata": {},
   "outputs": [
    {
     "name": "stdout",
     "output_type": "stream",
     "text": [
      "\t the 1st concept i learned is \"variables\", and its meaning is \"a label assigned to a certain value\"\n",
      "\t the 2nd concept i learned is \"list\", and its meaning is \"a stored series of values\"\n",
      "\t the 3rd concept i learned is \"if statement\", and its meaning is \"a logical test applyed to values\"\n",
      "\t the 4th concept i learned is \"for loop\", and its meaning is \"a way to automate repetitive tasks\"\n"
     ]
    }
   ],
   "source": [
    "for idx, items in enumerate(glossary_python.items()):\n",
    "    idx = idx + 1\n",
    "    suffix = ['th', 'st', 'nd', 'rd', 'th'][min(idx % 10, 4)]\n",
    "    print(f'\\t the {str(idx) + suffix} concept i learned is \\\"{items[0]}\\\", and its meaning is \\\"{items[1]}\\\"')"
   ]
  },
  {
   "cell_type": "code",
   "execution_count": 37,
   "id": "a8e1e7f4-96c0-4734-ad68-f71cf2da5b7a",
   "metadata": {},
   "outputs": [],
   "source": [
    "def ordinal_with_generator(dict_):\n",
    "    for idx, items in enumerate(dict_.items()):\n",
    "        idx = idx + 1\n",
    "        suffix = ['th', 'st', 'nd', 'rd', 'th'][min(idx % 10, 4)]\n",
    "        yield(f'the {str(idx) + suffix} concept i learned is \\\"{items[0]}\\\", and its meaning is \\\"{items[1]}\\\"')"
   ]
  },
  {
   "cell_type": "code",
   "execution_count": 43,
   "id": "ab453aca-d069-4d07-ba0c-d3082bc3a1c8",
   "metadata": {},
   "outputs": [],
   "source": [
    "gen = ordinal_with_generator(glossary_python)"
   ]
  },
  {
   "cell_type": "code",
   "execution_count": 44,
   "id": "a3bf41d9-5a14-4e2c-9968-249e644630cb",
   "metadata": {},
   "outputs": [
    {
     "name": "stdout",
     "output_type": "stream",
     "text": [
      "the 1st concept i learned is \"variables\", and its meaning is \"a label assigned to a certain value\"\n",
      "the 2nd concept i learned is \"list\", and its meaning is \"a stored series of values\"\n",
      "the 3rd concept i learned is \"if statement\", and its meaning is \"a logical test applyed to values\"\n",
      "the 4th concept i learned is \"for loop\", and its meaning is \"a way to automate repetitive tasks\"\n"
     ]
    }
   ],
   "source": [
    "for _ in range(len(glossary_python)):\n",
    "    print(next(gen))"
   ]
  }
 ],
 "metadata": {
  "kernelspec": {
   "display_name": "Python 3 (ipykernel)",
   "language": "python",
   "name": "python3"
  },
  "language_info": {
   "codemirror_mode": {
    "name": "ipython",
    "version": 3
   },
   "file_extension": ".py",
   "mimetype": "text/x-python",
   "name": "python",
   "nbconvert_exporter": "python",
   "pygments_lexer": "ipython3",
   "version": "3.9.7"
  }
 },
 "nbformat": 4,
 "nbformat_minor": 5
}
